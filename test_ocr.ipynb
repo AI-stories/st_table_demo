{
 "cells": [
  {
   "cell_type": "code",
   "execution_count": 6,
   "metadata": {},
   "outputs": [
    {
     "name": "stderr",
     "output_type": "stream",
     "text": [
      "INFO:adobe.pdfservices.operation.internal.pdf_services_helper:Started uploading asset\n",
      "INFO:adobe.pdfservices.operation.internal.pdf_services_helper:Finished uploading asset\n",
      "INFO:adobe.pdfservices.operation.internal.pdf_services_helper:Started submitting EXTRACT_PDF job\n",
      "INFO:adobe.pdfservices.operation.internal.pdf_services_helper:Started getting job result\n",
      "INFO:adobe.pdfservices.operation.internal.pdf_services_helper:Finished polling for status\n",
      "INFO:adobe.pdfservices.operation.internal.pdf_services_helper:Finished getting job result\n",
      "INFO:adobe.pdfservices.operation.internal.pdf_services_helper:Started getting content\n",
      "INFO:adobe.pdfservices.operation.internal.pdf_services_helper:Finished getting content\n"
     ]
    }
   ],
   "source": [
    "from wedding_venues import pdf2zip\n",
    "\n",
    "pdf2zip(\n",
    "    \"/Users/mac-robertsocolewicz/Documents/private/playground_tables/test_pdf/94th Aero Squadron Restaurant_.pdf\",\n",
    "    \"tmp\",\n",
    ")"
   ]
  },
  {
   "cell_type": "code",
   "execution_count": 2,
   "metadata": {},
   "outputs": [],
   "source": [
    "import zipfile\n",
    "\n",
    "zip_path = \"/Users/mac-robertsocolewicz/Documents/private/playground_tables/tmp/extract_2025-04-12T21-05-01.zip\"\n",
    "with zipfile.ZipFile(\n",
    "    zip_path,\n",
    "    \"r\",\n",
    ") as zip_ref:\n",
    "    zip_ref.extractall(\"tmp\")"
   ]
  },
  {
   "cell_type": "code",
   "execution_count": 4,
   "metadata": {},
   "outputs": [],
   "source": []
  },
  {
   "cell_type": "code",
   "execution_count": 16,
   "metadata": {},
   "outputs": [],
   "source": [
    "from openai import OpenAI\n",
    "from pydantic import BaseModel, Field\n",
    "from wedding_venues.image import local_image_to_data_url\n",
    "\n",
    "\n",
    "class WeddingText(BaseModel):\n",
    "    text: str | None = Field(\n",
    "        description=\"\"\"\n",
    "        Extracted text from the image in markdown format. Returns None if text\n",
    "        is unreadable or gibberish\n",
    "        \"\"\"\n",
    "    )\n",
    "    is_photo: bool = Field(\n",
    "        description=\"\"\"Indicates if the image is a meaningful photograph (food,\n",
    "                    decor, venue, or wedding related) rather than a logo,\n",
    "                    background, or decorative element\"\"\"\n",
    "    )\n",
    "    description: str = Field(\n",
    "        description=\"\"\"Brief description of the image content, particularly\n",
    "                    useful for categorizing photos of food, decor, or\n",
    "                    wedding-related scenes\"\"\"\n",
    "    )\n",
    "\n",
    "\n",
    "def image_to_wedding_text(image_path: str) -> WeddingText:\n",
    "    client = OpenAI()\n",
    "\n",
    "    prompt = \"\"\"\n",
    "        You are tasked with summarizing the description of the images about\n",
    "        wedding venues. Give a concise summary of the images provided to you.\n",
    "        Focus on the style and wedding theme. If decorative elements (e.g.,\n",
    "        illustrations such as leaves and flowers, templates) are present, do not\n",
    "        confuse them with real settings.The output should not be more than 30\n",
    "        words. If there is text present, please transcribe. If the image is not\n",
    "        related to a wedding venue, please ignore.\"\"\"\n",
    "\n",
    "    data_url = local_image_to_data_url(image_path)\n",
    "\n",
    "    response = client.beta.chat.completions.parse(\n",
    "        model=\"gpt-4o\",\n",
    "        messages=[\n",
    "            {\n",
    "                \"role\": \"user\",\n",
    "                \"content\": [\n",
    "                    {\n",
    "                        \"type\": \"text\",\n",
    "                        \"text\": prompt,\n",
    "                    },\n",
    "                    {\"type\": \"image_url\", \"image_url\": {\"url\": data_url}},\n",
    "                ],\n",
    "            }\n",
    "        ],\n",
    "        response_format=WeddingText,\n",
    "    )\n",
    "    return response.choices[0].message.parsed\n"
   ]
  },
  {
   "cell_type": "code",
   "execution_count": 13,
   "metadata": {},
   "outputs": [
    {
     "name": "stdout",
     "output_type": "stream",
     "text": [
      "750x1024 0.0019125\n",
      "1024x957 0.0019125\n",
      "1024x821 0.0019125\n",
      "526x363 0.0010625\n",
      "365x269 0.0006375\n",
      "1024x781 0.0019125\n",
      "1024x503 0.0010625\n",
      "1024x507 0.0010625\n",
      "483x293 0.0006375\n",
      "791x1024 0.0019125\n",
      "764x1024 0.0019125\n",
      "1024x444 0.0010625\n",
      "1024x451 0.0010625\n",
      "863x1024 0.0019125\n",
      "1024x722 0.0019125\n",
      "667x238 0.0010625\n",
      "1024x663 0.0019125\n",
      "1024x1022 0.0019125\n",
      "1024x1020 0.0019125\n",
      "766x1023 0.0019125\n",
      "1024x464 0.0010625\n",
      "0.0316625\n"
     ]
    }
   ],
   "source": [
    "from wedding_venues import image_properties\n",
    "import glob\n",
    "import math\n",
    "\n",
    "from wedding_venues.image import resize_image\n",
    "\n",
    "\n",
    "def downsize_image(image_path, max_size=1024):\n",
    "    resized_path = resize_image(image_path, max_size)\n",
    "    return local_image_to_data_url(resized_path)\n",
    "\n",
    "\n",
    "def get_cost(properties):\n",
    "    width, height = properties[\"width\"], properties[\"height\"]\n",
    "    tokens = 85 + math.ceil(width / 512) * math.ceil(height / 512) * 170\n",
    "    return tokens * 2.5 / 1_000_000\n",
    "\n",
    "\n",
    "figures = glob.glob(\n",
    "    \"/Users/mac-robertsocolewicz/Documents/private/playground_tables/tmp/figures/*\"\n",
    ")\n",
    "total_cost = 0\n",
    "for figure in sorted(figures):\n",
    "    properties = image_properties(resize_image(figure, 1024))\n",
    "    is_photo = properties[\"is_photo\"]\n",
    "    has_text = properties[\"has_text\"]\n",
    "    size = f\"{properties['width']}x{properties['height']}\"\n",
    "    if has_text or is_photo:\n",
    "        print(size, get_cost(properties))\n",
    "        total_cost += get_cost(properties)\n",
    "print(total_cost)\n"
   ]
  },
  {
   "cell_type": "code",
   "execution_count": 18,
   "metadata": {},
   "outputs": [
    {
     "name": "stderr",
     "output_type": "stream",
     "text": [
      "  0%|          | 0/32 [00:00<?, ?it/s]INFO:httpx:HTTP Request: POST https://api.openai.com/v1/chat/completions \"HTTP/1.1 200 OK\"\n",
      "  3%|▎         | 1/32 [00:16<08:26, 16.35s/it]INFO:httpx:HTTP Request: POST https://api.openai.com/v1/chat/completions \"HTTP/1.1 200 OK\"\n",
      "  9%|▉         | 3/32 [00:23<03:24,  7.06s/it]INFO:httpx:HTTP Request: POST https://api.openai.com/v1/chat/completions \"HTTP/1.1 200 OK\"\n",
      " 12%|█▎        | 4/32 [00:27<02:44,  5.87s/it]INFO:httpx:HTTP Request: POST https://api.openai.com/v1/chat/completions \"HTTP/1.1 200 OK\"\n",
      " 19%|█▉        | 6/32 [00:30<01:27,  3.37s/it]INFO:httpx:HTTP Request: POST https://api.openai.com/v1/chat/completions \"HTTP/1.1 200 OK\"\n",
      " 22%|██▏       | 7/32 [00:32<01:15,  3.01s/it]INFO:httpx:HTTP Request: POST https://api.openai.com/v1/chat/completions \"HTTP/1.1 200 OK\"\n",
      " 28%|██▊       | 9/32 [00:39<01:05,  2.86s/it]INFO:httpx:HTTP Request: POST https://api.openai.com/v1/chat/completions \"HTTP/1.1 200 OK\"\n",
      " 31%|███▏      | 10/32 [00:53<02:17,  6.25s/it]INFO:httpx:HTTP Request: POST https://api.openai.com/v1/chat/completions \"HTTP/1.1 200 OK\"\n",
      " 38%|███▊      | 12/32 [01:05<02:03,  6.16s/it]INFO:httpx:HTTP Request: POST https://api.openai.com/v1/chat/completions \"HTTP/1.1 200 OK\"\n",
      " 41%|████      | 13/32 [01:10<01:52,  5.91s/it]INFO:httpx:HTTP Request: POST https://api.openai.com/v1/chat/completions \"HTTP/1.1 200 OK\"\n",
      " 44%|████▍     | 14/32 [01:24<02:22,  7.89s/it]INFO:httpx:HTTP Request: POST https://api.openai.com/v1/chat/completions \"HTTP/1.1 200 OK\"\n",
      " 47%|████▋     | 15/32 [01:40<02:55, 10.32s/it]INFO:httpx:HTTP Request: POST https://api.openai.com/v1/chat/completions \"HTTP/1.1 200 OK\"\n",
      " 50%|█████     | 16/32 [01:50<02:42, 10.16s/it]INFO:httpx:HTTP Request: POST https://api.openai.com/v1/chat/completions \"HTTP/1.1 200 OK\"\n",
      " 56%|█████▋    | 18/32 [02:01<01:44,  7.45s/it]INFO:httpx:HTTP Request: POST https://api.openai.com/v1/chat/completions \"HTTP/1.1 200 OK\"\n",
      " 59%|█████▉    | 19/32 [02:21<02:22, 10.95s/it]INFO:httpx:HTTP Request: POST https://api.openai.com/v1/chat/completions \"HTTP/1.1 200 OK\"\n",
      " 62%|██████▎   | 20/32 [02:27<01:55,  9.66s/it]INFO:httpx:HTTP Request: POST https://api.openai.com/v1/chat/completions \"HTTP/1.1 200 OK\"\n",
      " 66%|██████▌   | 21/32 [02:30<01:24,  7.64s/it]INFO:httpx:HTTP Request: POST https://api.openai.com/v1/chat/completions \"HTTP/1.1 200 OK\"\n",
      " 72%|███████▏  | 23/32 [02:39<00:54,  6.07s/it]INFO:httpx:HTTP Request: POST https://api.openai.com/v1/chat/completions \"HTTP/1.1 200 OK\"\n",
      " 78%|███████▊  | 25/32 [02:49<00:40,  5.78s/it]INFO:httpx:HTTP Request: POST https://api.openai.com/v1/chat/completions \"HTTP/1.1 200 OK\"\n",
      " 81%|████████▏ | 26/32 [03:05<00:48,  8.02s/it]INFO:httpx:HTTP Request: POST https://api.openai.com/v1/chat/completions \"HTTP/1.1 200 OK\"\n",
      " 84%|████████▍ | 27/32 [03:18<00:46,  9.24s/it]INFO:httpx:HTTP Request: POST https://api.openai.com/v1/chat/completions \"HTTP/1.1 200 OK\"\n",
      "100%|██████████| 32/32 [03:23<00:00,  6.36s/it]\n"
     ]
    }
   ],
   "source": [
    "from tqdm import tqdm\n",
    "\n",
    "figures = glob.glob(\n",
    "    \"/Users/mac-robertsocolewicz/Documents/private/playground_tables/tmp/figures/*\"\n",
    ")\n",
    "total_cost = 0\n",
    "wedding_texts = []\n",
    "for figure in tqdm(sorted(figures)):\n",
    "    figure = resize_image(figure, 1024)\n",
    "    properties = image_properties(figure)\n",
    "    is_photo = properties[\"is_photo\"]\n",
    "    has_text = properties[\"has_text\"]\n",
    "\n",
    "    if has_text or is_photo:\n",
    "        wedding_text = image_to_wedding_text(figure)\n",
    "        wedding_texts.append(wedding_text)"
   ]
  },
  {
   "cell_type": "code",
   "execution_count": 21,
   "metadata": {},
   "outputs": [
    {
     "name": "stdout",
     "output_type": "stream",
     "text": [
      "94TH AERO SQUADRON RESTAURANT  \n",
      "HORS D’ OEUVRES & COCKTAIL RECEPTION PACKAGES\n",
      "\n",
      "COLD SELECTIONS  \n",
      "PRICED PER PIECE - MINIMUM OF 50 PIECES IS REQUIRED  \n",
      "APPETIZERS ARE BUFFET STYLE - IF ATTENDANT IS REQUIRED, A FEE OF $100++ WILL APPLY.\n",
      "\n",
      "JUMBO SHRIMP SHOOTER  11  \n",
      "SMOKED SALMON ROSE – DILL CREAM CHEESE  8  \n",
      "CAPRESE SALAD SKEWERS – MOZZARELLA, TOMATO, & BASIL  5  \n",
      "ROAST BEEF PINWHEEL – HORSERADISH CREAM  8  \n",
      "SPICED SEARED AHI – SIRACHA AIOLI  7\n",
      "\n",
      "HOT SELECTIONS  \n",
      "PRICED PER PIECE – MINIMUM OF 50 PIECES IS REQUIRED  \n",
      "APPETIZERS ARE BUFFET STYLE – IF ATTENDANT IS REQUIRED, A FEE OF $100++ WILL APPLY.\n",
      "\n",
      "STUFFED POTATO SKIN – BACON, CHEESE, & PICO DE GALLO  5  \n",
      "VEGETABLE SPRING ROLL – SWEET & SOUR SAUCE  3  \n",
      "BEEF OR CHICKEN QUESADILLA TRIANGLE – SALSA ROJA  6  \n",
      "CHICKEN FINGER – RANCH & BBQ SAUCE  6  \n",
      "CHICKEN WING – BUFFALO SAUCE  4  \n",
      "ARTICHOKE PARM FRITTER  6  \n",
      "BUFFALO CHICKEN RAGOON  5\n",
      "\n",
      "COLD DISPLAYS  \n",
      "SEASONAL FRESH FRUIT – SERVES 50  135  \n",
      "IMPORTED & DOMESTIC CHEESE – SERVES 50  195  \n",
      "FRESH VEGETABLE CRUDITÉ – SERVES 50  120\n",
      "\n",
      "DESSERT SELECTIONS  \n",
      "ASSORTED COOKIES – SERVES 50  125  \n",
      "ASSORTED MINI MUFFINS & PASTRIES – SERVES 50  185  \n",
      "SEASONAL SHEET CAKE – SERVES 50  225\n",
      "\n",
      "ALL PRICES ARE SUBJECT TO A 20% TAXABLE SERVICE CHARGE AND APPLICABLE SALES TAX.  \n",
      "PRICES ARE SUBJECT TO CHANGE WITHOUT NOTICE.163  \n",
      "KEARNY VILLA RD  \n",
      "BALBOA AVE  \n",
      "MONTGOMERY-GIBBS EXECUTIVE AIRPORTOpenTable Diners’ Choice 2022SAN DIEGO'S BEST\n",
      "UNION-TRIBUNE READERS POLL\n",
      "2020\n",
      "                ==== image description ====\n",
      "            Rustic venue with ivy-covered stone building, wagon, and vibrant flowers, creating an old-world romantic theme.\n",
      "            ==== end of image description ====\n",
      "            \n",
      "                ==== image description ====\n",
      "            Rustic restaurant interior with wooden furniture and hanging plants, suitable for a casual or rustic-themed wedding reception.\n",
      "            ==== end of image description ====\n",
      "            94TH AERO SQUADRON RESTAURANT\n",
      "                ==== image description ====\n",
      "            Elegant wedding venue with indoor and outdoor settings, featuring decorated tables, floral arrangements, and a picturesque garden area.\n",
      "            ==== end of image description ====\n",
      "            \n",
      "                ==== image description ====\n",
      "            Gourmet wedding meal with salad, prime rib, and dessert.\n",
      "            ==== end of image description ====\n",
      "            \n",
      "                ==== image description ====\n",
      "            Elegant plated salad with shrimp, avocado, asparagus, tomatoes, eggs, and olives; likely for a wedding reception meal.\n",
      "            ==== end of image description ====\n",
      "            \n",
      "                ==== image description ====\n",
      "            Dessert plate featuring a decorated dessert with ice cream, nuts, and garnishing of cinnamon and syrup swirls, suitable for a wedding dessert option.\n",
      "            ==== end of image description ====\n",
      "            \n",
      "                ==== image description ====\n",
      "            Charming gazebo with outdoor seating, suitable for a garden wedding setting.\n",
      "            ==== end of image description ====\n",
      "            \n",
      "                ==== image description ====\n",
      "            Outdoor venue with colorful umbrellas and metal furniture, suitable for casual weddings.\n",
      "            ==== end of image description ====\n",
      "            Flight Deck\n",
      "                ==== image description ====\n",
      "            Outdoor wedding venue with round tables and white tablecloths overlooking an airfield.\n",
      "            ==== end of image description ====\n",
      "            \n",
      "                ==== image description ====\n",
      "            Rustic indoor wedding venue with elegant black and white theme, featuring red rose centerpieces and candle decorations.\n",
      "            ==== end of image description ====\n",
      "            \n",
      "                ==== image description ====\n",
      "            Elegant indoor dining setup with dark wood, large windows, and red rose centerpieces, suitable for intimate weddings.\n",
      "            ==== end of image description ====\n",
      "            PLATED BANQUET MENU\n",
      "\n",
      "Please select ONE SALAD and ONE DESSERT for your event.  \n",
      "Choice of Two Entrées (excluding Vegetarian Choice)  \n",
      "Add $3++/ per person for choice of Three Entrées  \n",
      "A minimum of 25 guests must be guaranteed (50 guests for private event).\n",
      "\n",
      "$65++ per person  \n",
      "plus service charge and sales tax\n",
      "\n",
      "SALADS\n",
      "\n",
      "WHITE BALSAMIC VINAIGRETTE or CLASSIC CAESAR  \n",
      "served with dinner rolls\n",
      "\n",
      "ENTRÉES\n",
      "\n",
      "PRIME RIB of BEEF  \n",
      "8 oz. slow-roasted, creamy horseradish, garlic mashed potatoes, seasonal vegetables\n",
      "\n",
      "OSSO BUCO  \n",
      "saffron risotto, gremolata\n",
      "\n",
      "AIRLINE CHICKEN  \n",
      "cilantro pumpkin seed pesto, wild rice pilaf, grilled broccolini, charred onion\n",
      "\n",
      "SEARED SALMON  \n",
      "dill mustard sauce, herb-roasted fingerling potatoes, asparagus\n",
      "\n",
      "VEGETARIAN PASTA  \n",
      "cilantro pesto, roasted heirloom tomato, grilled broccolini, asparagus, Parmigiano\n",
      "\n",
      "NEW YORK STRIP (ADD $10++ per person)  \n",
      "chimichurri, roasted garlic mashed potatoes, seasonal vegetables\n",
      "\n",
      "DESSERT\n",
      "\n",
      "TIRAMISU  \n",
      "CARROT CAKE  \n",
      "NEW YORK STYLE CHEESECAKE with fresh jam\n",
      "\n",
      "All prices subject to a 20% taxable service charge and applicable sales tax.  \n",
      "Final entrée counts are due four (4) business days before the event.  \n",
      "Custom menus may be designed upon request. Prices subject to change without notice.\n",
      "\n",
      "94TH AERO SQUADRON RESTAURANT\n",
      "\n",
      "info@94thsandiego.com (858) 560-6771\n",
      "\n",
      "8885 Balboa Avenue, San Diego CA 92123\n",
      "\n",
      "5/24\n",
      "                ==== image description ====\n",
      "            Rustic and charming outdoor venue with greenery and brick building.\n",
      "            ==== end of image description ====\n",
      "            Keys Creek Lavender Farms\n"
     ]
    }
   ],
   "source": [
    "text = \"\"\n",
    "for wedding_text in wedding_texts:\n",
    "    if wedding_text.is_photo:\n",
    "        text += f\"\"\"\n",
    "            ==== image description ====\n",
    "            {wedding_text.description}\n",
    "            ==== end of image description ====\n",
    "            \"\"\"\n",
    "    if wedding_text.text is not None:\n",
    "        text += wedding_text.text\n",
    "print(text)"
   ]
  },
  {
   "cell_type": "code",
   "execution_count": 19,
   "metadata": {},
   "outputs": [
    {
     "data": {
      "text/plain": [
       "[WeddingText(text='94TH AERO SQUADRON RESTAURANT  \\nHORS D’ OEUVRES & COCKTAIL RECEPTION PACKAGES\\n\\nCOLD SELECTIONS  \\nPRICED PER PIECE - MINIMUM OF 50 PIECES IS REQUIRED  \\nAPPETIZERS ARE BUFFET STYLE - IF ATTENDANT IS REQUIRED, A FEE OF $100++ WILL APPLY.\\n\\nJUMBO SHRIMP SHOOTER  11  \\nSMOKED SALMON ROSE – DILL CREAM CHEESE  8  \\nCAPRESE SALAD SKEWERS – MOZZARELLA, TOMATO, & BASIL  5  \\nROAST BEEF PINWHEEL – HORSERADISH CREAM  8  \\nSPICED SEARED AHI – SIRACHA AIOLI  7\\n\\nHOT SELECTIONS  \\nPRICED PER PIECE – MINIMUM OF 50 PIECES IS REQUIRED  \\nAPPETIZERS ARE BUFFET STYLE – IF ATTENDANT IS REQUIRED, A FEE OF $100++ WILL APPLY.\\n\\nSTUFFED POTATO SKIN – BACON, CHEESE, & PICO DE GALLO  5  \\nVEGETABLE SPRING ROLL – SWEET & SOUR SAUCE  3  \\nBEEF OR CHICKEN QUESADILLA TRIANGLE – SALSA ROJA  6  \\nCHICKEN FINGER – RANCH & BBQ SAUCE  6  \\nCHICKEN WING – BUFFALO SAUCE  4  \\nARTICHOKE PARM FRITTER  6  \\nBUFFALO CHICKEN RAGOON  5\\n\\nCOLD DISPLAYS  \\nSEASONAL FRESH FRUIT – SERVES 50  135  \\nIMPORTED & DOMESTIC CHEESE – SERVES 50  195  \\nFRESH VEGETABLE CRUDITÉ – SERVES 50  120\\n\\nDESSERT SELECTIONS  \\nASSORTED COOKIES – SERVES 50  125  \\nASSORTED MINI MUFFINS & PASTRIES – SERVES 50  185  \\nSEASONAL SHEET CAKE – SERVES 50  225\\n\\nALL PRICES ARE SUBJECT TO A 20% TAXABLE SERVICE CHARGE AND APPLICABLE SALES TAX.  \\nPRICES ARE SUBJECT TO CHANGE WITHOUT NOTICE.', is_photo=False, description=\"Menu for 94th Aero Squadron Restaurant including hors d'oeuvres and desserts.\"),\n",
       " WeddingText(text='163  \\nKEARNY VILLA RD  \\nBALBOA AVE  \\nMONTGOMERY-GIBBS EXECUTIVE AIRPORT', is_photo=False, description='Illustration showing map directions to Montgomery-Gibbs Executive Airport.'),\n",
       " WeddingText(text='OpenTable Diners’ Choice 2022', is_photo=False, description='Logo for OpenTable Diners’ Choice 2022, not related to a wedding venue.'),\n",
       " WeddingText(text=\"SAN DIEGO'S BEST\\nUNION-TRIBUNE READERS POLL\\n2020\", is_photo=False, description=\"Logo for San Diego's Best Union-Tribune Readers Poll 2020\"),\n",
       " WeddingText(text=None, is_photo=False, description='Illustration of a typewriter, not related to a wedding venue.'),\n",
       " WeddingText(text=None, is_photo=False, description='Illustration of a vintage airplane in flight; not related to weddings.'),\n",
       " WeddingText(text=None, is_photo=True, description='Rustic venue with ivy-covered stone building, wagon, and vibrant flowers, creating an old-world romantic theme.'),\n",
       " WeddingText(text=None, is_photo=True, description='Rustic restaurant interior with wooden furniture and hanging plants, suitable for a casual or rustic-themed wedding reception.'),\n",
       " WeddingText(text='94TH AERO SQUADRON RESTAURANT', is_photo=False, description='Logo of 94th Aero Squadron Restaurant'),\n",
       " WeddingText(text=None, is_photo=True, description='Elegant wedding venue with indoor and outdoor settings, featuring decorated tables, floral arrangements, and a picturesque garden area.'),\n",
       " WeddingText(text=None, is_photo=True, description='Gourmet wedding meal with salad, prime rib, and dessert.'),\n",
       " WeddingText(text=None, is_photo=True, description='Elegant plated salad with shrimp, avocado, asparagus, tomatoes, eggs, and olives; likely for a wedding reception meal.'),\n",
       " WeddingText(text=None, is_photo=True, description='Dessert plate featuring a decorated dessert with ice cream, nuts, and garnishing of cinnamon and syrup swirls, suitable for a wedding dessert option.'),\n",
       " WeddingText(text=None, is_photo=True, description='Charming gazebo with outdoor seating, suitable for a garden wedding setting.'),\n",
       " WeddingText(text=None, is_photo=True, description='Outdoor venue with colorful umbrellas and metal furniture, suitable for casual weddings.'),\n",
       " WeddingText(text='Flight Deck', is_photo=False, description='Text \"Flight Deck\" in a stylized font, possibly a decorative or branding element.'),\n",
       " WeddingText(text=None, is_photo=True, description='Outdoor wedding venue with round tables and white tablecloths overlooking an airfield.'),\n",
       " WeddingText(text=None, is_photo=True, description='Rustic indoor wedding venue with elegant black and white theme, featuring red rose centerpieces and candle decorations.'),\n",
       " WeddingText(text=None, is_photo=True, description='Elegant indoor dining setup with dark wood, large windows, and red rose centerpieces, suitable for intimate weddings.'),\n",
       " WeddingText(text='PLATED BANQUET MENU\\n\\nPlease select ONE SALAD and ONE DESSERT for your event.  \\nChoice of Two Entrées (excluding Vegetarian Choice)  \\nAdd $3++/ per person for choice of Three Entrées  \\nA minimum of 25 guests must be guaranteed (50 guests for private event).\\n\\n$65++ per person  \\nplus service charge and sales tax\\n\\nSALADS\\n\\nWHITE BALSAMIC VINAIGRETTE or CLASSIC CAESAR  \\nserved with dinner rolls\\n\\nENTRÉES\\n\\nPRIME RIB of BEEF  \\n8 oz. slow-roasted, creamy horseradish, garlic mashed potatoes, seasonal vegetables\\n\\nOSSO BUCO  \\nsaffron risotto, gremolata\\n\\nAIRLINE CHICKEN  \\ncilantro pumpkin seed pesto, wild rice pilaf, grilled broccolini, charred onion\\n\\nSEARED SALMON  \\ndill mustard sauce, herb-roasted fingerling potatoes, asparagus\\n\\nVEGETARIAN PASTA  \\ncilantro pesto, roasted heirloom tomato, grilled broccolini, asparagus, Parmigiano\\n\\nNEW YORK STRIP (ADD $10++ per person)  \\nchimichurri, roasted garlic mashed potatoes, seasonal vegetables\\n\\nDESSERT\\n\\nTIRAMISU  \\nCARROT CAKE  \\nNEW YORK STYLE CHEESECAKE with fresh jam\\n\\nAll prices subject to a 20% taxable service charge and applicable sales tax.  \\nFinal entrée counts are due four (4) business days before the event.  \\nCustom menus may be designed upon request. Prices subject to change without notice.\\n\\n94TH AERO SQUADRON RESTAURANT\\n\\ninfo@94thsandiego.com (858) 560-6771\\n\\n8885 Balboa Avenue, San Diego CA 92123\\n\\n5/24', is_photo=False, description='Menu for wedding reception with various plated meal options: salads, entrées, and desserts.'),\n",
       " WeddingText(text='Keys Creek Lavender Farms', is_photo=True, description='Rustic and charming outdoor venue with greenery and brick building.')]"
      ]
     },
     "execution_count": 19,
     "metadata": {},
     "output_type": "execute_result"
    }
   ],
   "source": [
    "wedding_texts"
   ]
  },
  {
   "cell_type": "code",
   "execution_count": 2,
   "metadata": {},
   "outputs": [
    {
     "data": {
      "text/plain": [
       "{'width': 1757,\n",
       " 'height': 1153,\n",
       " 'total_pixels': 2025821,\n",
       " 'text_density': 0.00495107909336511,\n",
       " 'color_std': np.float64(59.85857381633642),\n",
       " 'edge_density': 0.09011309488844275,\n",
       " 'is_photo': True,\n",
       " 'has_text': True,\n",
       " 'extracted_text': 'Green Room'}"
      ]
     },
     "execution_count": 2,
     "metadata": {},
     "output_type": "execute_result"
    }
   ],
   "source": [
    "image_properties(figures[0])"
   ]
  },
  {
   "cell_type": "code",
   "execution_count": 17,
   "metadata": {},
   "outputs": [
    {
     "name": "stdout",
     "output_type": "stream",
     "text": [
      "94TH AERO SQUADRON RESTAURANT\n",
      "HORS D’ OEUVRES & COCKTAIL RECEPTION PACKAGES\n",
      "\n",
      "COLD SELECTIONS\n",
      "\n",
      "PRICED PER PIECE - MINIMUM OF 50 PIECES IS REQUIRED\n",
      "APPETIZERS ARE BUFFET STYLE - IF ATTENDANT IS REQUIRED, A FEE OF $100++ WILL APPLY.\n",
      "\n",
      "JUMBO SHRIMP SHOOTER 11\n",
      "SMOKED SALMON ROSE - DILL CREAM CHEESE 8\n",
      "CAPRESE SALAD SKEWERS - MOZZARELLA, TOMATO, & BASIL 5\n",
      "ROAST BEEF PINWHEEL - HORSERADISH CREAM 8\n",
      "SPICED SEARED AHI - SIRACHA AIOLI 7\n",
      "\n",
      "HOT SELECTIONS\n",
      "\n",
      "PRICED PER PIECE - MINIMUM OF 50 PIECES IS REQUIRED\n",
      "APPETIZERS ARE BUFFET STYLE - IF ATTENDANT IS REQUIRED, A FEE OF $100++ WILL APPLY.\n",
      "\n",
      "STUFFED POTATO SKIN - BACON, CHEESE, & PICO DE GALLO 5\n",
      "VEGETABLE SPRING ROLL - SWEET & SOUR SAUCE 3\n",
      "BEEF OR CHICKEN QUESADILLA TRIANGLE - SALSA ROJA 6\n",
      "CHICKEN FINGER - RANCH & BBQ SAUCE 6\n",
      "CHICKEN WING - BUFFALO SAUCE 4\n",
      "ARTICHOKE PARM FRITTER 6\n",
      "BUFFALO CHICKEN RAGOON 5\n",
      "\n",
      "COLD DISPLAYS\n",
      "\n",
      "SEASONAL FRESH FRUIT - SERVES 50 135\n",
      "IMPORTED & DOMESTIC CHEESE - SERVES 50 195\n",
      "FRESH VEGETABLE CRUDITÉ - SERVES 50 120\n",
      "\n",
      "DESSERT SELECTIONS\n",
      "\n",
      "ASSORTED COOKIES - SERVES 50 125\n",
      "ASSORTED MINI MUFFINS & PASTRIES - SERVES 50 185\n",
      "SEASONAL SHEET CAKE - SERVES 50 225\n",
      "\n",
      "ALL PRICES ARE SUBJECT TO A 20% TAXABLE SERVICE CHARGE AND APPLICABLE SALES TAX.\n",
      "PRICES ARE SUBJECT TO CHANGE WITHOUT NOTICE.\n"
     ]
    }
   ],
   "source": [
    "print(response.choices[0].message.parsed.text)"
   ]
  },
  {
   "cell_type": "code",
   "execution_count": 3,
   "metadata": {},
   "outputs": [
    {
     "name": "stdout",
     "output_type": "stream",
     "text": [
      "output zip path: /Users/mac-robertsocolewicz/Documents/private/playground_tables/test_pdf/extracted/extract_2025-04-12T14-35-45.zip\n",
      "2025-04-12 17:02:36 unzip file\n",
      "2025-04-12 17:02:36 open json file\n",
      "2025-04-12 17:02:36 extract content\n"
     ]
    },
    {
     "data": {
      "text/plain": [
       "'Thank you for this information. For something like this, it would need to be a full restaurant buyout. \\nWith a full restaurant buyout, you will have access to three beautiful, spacious, Nickey Kehoe designed dining rooms: the San Vicente Room, the Green Room, and the Main Room for up to 150 total as a standing, cocktail style reception. The price is $20,000 (Sun) or $26,000 (Fri/Sat) for up to 80 guests and $150 per person thereafter. This price includes private use of the restaurant, a specialty menu (food stations with tray passed hors d\\'oeuvres are recommended), and beverages (sommelier select wine, specialty cocktails, and select-spirit open bar). All prices are before tax, fees, and gratuity. \\nPlease note, because you are dancing, we will need to have you bring in a dance floor to protect the floors, as well as additional insurance for your guests. \\nAttached please find the following: \\n● \\nPrivate Events Brochure \\n● \\nPricing \\n● \\nMore information on an a.o.c. brentwood buyout \\n● \\nCurrent Event Dinner Menus * \\n● \\nCurrent Event Bar Menus * \\n* Due to the seasonality of the restaurant, these options may be altered for your actual event with your final approval. \\n# dinner event bar offerings \\nsommelier select wines \\n# sparkling \\n# white \\n# rose \\n# red \\ncocktails choose 3 \\n# green goddess \\ngreen tea-infused vodka, cucumber, arugula, jalapeño & absinthe rinse \\n# wonder punch \\ngin, lemon, pomegranate & coconut \\n# harbinger \\ntequila, lime, orgeat & spiced persimmon *contains nuts \\n# kingbird \\nbourbon & housemade sassafras-maple bitters \\n# passion al pastor \\nmezcal, lime, passion fruit & achiote \\n## “free spirited” \\n### ruby blush \\ngrapefruit, lemon & house ginger ale \\n### bleeding heart \\npomegranate, orange, cinnamon & soda \\n### “mock” goddess \\ngreen tea, cucumber, arugula & jalapeño \\n<img src=\"/var/folders/g6/gqdf2y4n3jj4f0vml_0s_q1r0000gn/T/tmpuc8qf_j7/figures/fileoutpart0.png\" width=\"76\" height=\"41\" alt=\"Figure from page 1\"/>\\n*anything not on this list will be added to the final bill* *cocktails subject to change with seasonal produce* \\n# select spirit open bar \\n## **vodka** \\ntito’s \\nchopin grey goose \\n## **whiskey** \\nhigh west double rye michter’s rye rittenhouse \\nbreaking & entering \\n## **bourbon** \\nevan williams \\neagle rare angel’s envy michter’s \\nheaven hill 7yr \\n## **scotch/irish/japanese** \\njameson laphroaig 10yr jura seven wood benromach \\nkavalan \\nsuntory toki \\n## **gin** \\nst. george “terroir” east london batch \\nbombay sapphire tanqueray botanist \\nnolet’s \\n## **agave** \\nangelisco blanco casamigos blanco casamigos reposado siete leguas blanco siete leguas reposado angelisco reposado el silencio (mezcal) legendario (mezcal) \\n## **rum** \\nel dorado 12yr marti white \\n<img src=\"/var/folders/g6/gqdf2y4n3jj4f0vml_0s_q1r0000gn/T/tmpuc8qf_j7/figures/fileoutpart1.png\" width=\"76\" height=\"41\" alt=\"Figure from page 2\"/>\\n*anything not on this list will be added to the final bill* *cocktails subject to change with seasonal produce* \\na.o.c. dinner event menu 1 \\n### bacon-wrapped dates stuffed with parmesan \\n### the farmer’s plate \\nroasted vegetables, muhammara & chickpea purée, burrata & grilled toast \\n### three cheese plate with accompaniments & a.o.c. bread \\n*** \\n### royal corona beans, weiser cucumbers, tomato, oregano & feta spinach and dandelion, persimmon, avocado & candied pecans \\n*** \\n### market fish, celery root, brussels sprouts, sherry & golden raisins \\n### farro & black rice, currants & pine nuts* \\n*** \\n### roasted chicken “ode to zuni,” panzanella, fennel & green olives \\n### cauliflower, curry & red wine vinegar \\n*** \\n### a.o.c. dessert platter \\nchocolate torta, butterscotch pot de crème, assorted chocolates & house confections \\nEach of these menus is a complete menu of shared plates. Dishes will be served one or two at a time beginning at the top of the menu and continuing to the bottom. Each line indicates a different item. Requested changes are subject to approval. \\n*a.o.c. is seasonally driven, \\n<img src=\"/var/folders/g6/gqdf2y4n3jj4f0vml_0s_q1r0000gn/T/tmpuc8qf_j7/figures/fileoutpart2.png\" width=\"135\" height=\"66\" alt=\"Figure from page 3\"/>\\non market availability* \\noptions subject to change based \\na.o.c. dinner event menu 2 \\n### three cheese plate with accompaniments & a.o.c. bread \\n### charcuterie board \\npork rillettes, assorted salumi, chorizo & grilled toast \\n### marinated olives & marcona almonds \\n*** \\n### apples, pears, chicories, honey & point reyes fennel blue spanish fried chicken, romesco aïoli & chili-cumin butter *** \\n### spiced fish tagine: kabocha squash, quinoa, dried cranberries, turmeric & pepita pesto \\n*** \\n### hanger steak, sauce béarnaise, arugula & fried shallots \\nsoft polenta, wild mushrooms, swiss chard, mascarpone & gremolata *** \\n### chocolate torta \\nkadaif rocher, pistachio butter & vanilla whipped cream \\n### crème fraiche panna cotta \\nrum caramel, persimmon & pepita tuile \\nEach of these menus is a complete menu of shared plates. Dishes will be served one or two at a time beginning at the top of the menu and continuing to the bottom. Each line indicates a different item. Requested changes are subject to approval. \\n*a.o.c. is seasonally driven, options subject to change based on market availability* \\n<img src=\"/var/folders/g6/gqdf2y4n3jj4f0vml_0s_q1r0000gn/T/tmpuc8qf_j7/figures/fileoutpart3.png\" width=\"135\" height=\"66\" alt=\"Figure from page 4\"/>\\n<img src=\"/var/folders/g6/gqdf2y4n3jj4f0vml_0s_q1r0000gn/T/tmpuc8qf_j7/figures/fileoutpart4.png\" width=\"108\" height=\"216\" alt=\"Figure from page 5\"/>\\na.o.c. brentwood san vicente room, green room, main dining room & restaurant buyout information \\n<img src=\"/var/folders/g6/gqdf2y4n3jj4f0vml_0s_q1r0000gn/T/tmpuc8qf_j7/figures/fileoutpart5.png\" width=\"459\" height=\"345\" alt=\"Figure from page 5\"/>\\na.o.c. brentwood is the newest restaurant from the James Beard Foundation’s Outstanding Chef, Suzanne Goin, and Outstanding Restauranteur / renowned wine director, Caroline Styne. Following the success of sister restaurant a.o.c. west hollywood, brentwood brings the same shared-plate menus and hand-selected wines to the westside for an unforgettable dining experience. \\n# Basic Information \\nLocation: 11648 San Vicente Blvd. Los Angeles, CA 90049 \\nHours of Operation \\n[{\"Monday & Tuesday: \": \"Wednesday - Friday: \", \"Dinner only: 5:00pm \\\\u2013 10:00pm \": \"Lunch: 11:30am \\\\u2013 2:30pm Dinner: 5:00pm \\\\u2013 10:00pm \"}, {\"Monday & Tuesday: \": \"Saturday & Sunday: \", \"Dinner only: 5:00pm \\\\u2013 10:00pm \": \"Brunch: 10:00am \\\\u2013 2:30pm Dinner: 5:00pm \\\\u2013 10:00pm \"}]\\n## Accessibility: \\nAll dining areas are located on the ground floor of a.o.c. brentwood and are ADA accessible. \\n## Parking: \\nLimited, metered street parking is available. a.o.c. brentwood does not have valet. Instead, there is a validated self-park lot just south of the restaurant on Darlington Ave. You may choose to host full validation for your guests’ parking for $19 per car. If you do not host parking, your guests will receive the standard 90-minute validation that a.o.c. brentwood offers to all guests. If you choose to host your guests’ parking, it will be charged post-event through the online portal. \\n## Seating: \\na.o.c. brentwood is provided as a fully furnished dining space with beautiful, handcrafted wooden tables. Depending upon your specific needs and guest count, and particularly for reception layouts, it may be necessary to remove and store furniture for the duration of the event. Any removal and storage of furnishings will be the responsibility of the client and must be done prior to guest arrival. Table linens are not used at a.o.c. \\n## Bathroom: \\nThere are male and female bathrooms located inside the restaurant. The bathroom would be available to other restaurant guests that are dining, unless buying out the entire restaurant. \\n## Tax, Gratuity & Fees: \\nThe tax is standard Los Angeles County 9.5% sales tax. The gratuity for the staff ranges between 18%-22%. A 6% charge is added to all checks to cover the cost of full healthcare benefits for our full-time employees; if you would like this charge removed, please let us know. In addition, a 5.5% administration fee will be added to the final bill. \\n## Event Agreement: \\na.o.c. brentwood requires a signed event agreement and a deposit for 50% of your anticipated total within 24 hours to reserve the space and date. After 24 hours, the space will be made available to other inquiries unless other arrangements are made. Please keep in mind that the space and date are not reserved until a completed agreement and deposit are received by a.o.c. Cancellation (or rescheduling) of the event or the specified event date, with less than 14 days’ notice from the event date will result in forfeiture of the deposit. \\n# Food & Beverage \\n## Food: \\na.o.c. brentwood’s menus can be enjoyed as a seated meal, or as a more casual buffet. Either way, Suzanne Goin’s farmers’ market-inspired menus are designed to be shared and enjoyed by all of your guests. \\n## Lunch & Brunch: \\nLunch is served Wednesday – Friday. Brunch is served on Saturday and Sunday. All lunch & brunch menu options are a three-course menu with shared starters and desserts, and an individual choice of entrée, unless hosting a buffet. \\n## Menu Selection: \\nBecause a.o.c. brentwood is a seasonal restaurant with the highest standards for its produce and proteins, menu selection will occur 2-3 weeks prior to your event to ensure the offerings are up to date. This includes our cocktail program as well. For plated meals, a.o.c. offers two dinner menus from which you can choose. You are welcome to make small changes and exchange similar dishes from one menu to the other. All changes are subject to chef approval. \\n## Allergies: \\na.o.c. brentwood is able to accommodate a variety of allergies and food preferences. Please let us know as early as possible, particularly during the menu selection process. a.o.c. is not a kosher kitchen but is able to do kosher style. \\n## Cake: \\nYou are more than welcome to bring your own cakes, which can be presented and cut at no extra cost. Please tell us in advance and make sure that it is delivered, clearly-labeled with your name and date, in a fully enclosed box with instructions, including whether or not it needs to be refrigerated. Include your selections when returning your menu selection and all other details. \\n## Alcohol Consumption: \\nTo be in compliance with State of California alcohol licensing restrictions, a.o.c. brentwood uses its discretion when serving wine, beer, and spirits. In order to maintain the safety of guests and employees, shots and the excessive consumption of alcohol are not allowed. \\n## Wine: \\nA white, red, sparkling and rosé wine will be selected by the sommelier from a.o.c. brentwood’s ever-evolving list of organically, biodynamically and sustainably produced boutique wines. Different wines or premium wines are available for the difference in cost, per bottle, beyond the included $50 price; wine upgrades must be arranged well in advance of your visit, and are based upon availability. \\n## Liquor: \\na.o.c. brentwood’s event selection of premium artisanal spirits, specialty cocktails and beer, are included in your dining experience. Satellite bars are discouraged therefore all spirits and cocktails will be prepared at a.o.c. brentwood’s bar. Menus that offer only the included spirits, cocktails and beers will be available for your guests. You are welcome to select one or two of a.o.c. brentwood’s specialty cocktails to be tray-passed to your guests upon arrival. Please include your selections when returning your menu selection and all other details. \\n# Other Details \\n## Layouts and Seating Arrangements: \\nSample arrangements are available upon request. Maximum room capacities for dining areas outside of the San Vicente Dining Room are achievable only with the removal and storage of a.o.c. brentwood’s furniture. The cost and responsibility for furniture removal and storage lies with the event host. \\n## Pre-Event Deliveries: \\nAll pre-event deliveries must be coordinated with the events manager. For daytime events, items can be delivered on the same day, no more than half an hour before the restaurant opens for business. For evening events, items can be delivered on the same day after 3:00 pm. Please make sure that all deliveries are clearly labeled with your name and date. All items supplied by guests must be removed at the conclusion of your event. \\n## Decorations: \\nYou are welcome to decorate with items that do not leave a lasting mark on the space. All items provided by clients must be removed at the conclusion of the event. Glitter, sparkles, confetti, helium- and mylar balloons and “silly string” are not allowed at a.o.c. brentwood. \\n## Florals/Candles: \\nSmall, simple candles are provided on the tables for evening events. You may provide your own florals and/or candles, either through one of a.o.c. brentwood’s recommend vendors (list available upon request) or your own. Due to a.o.c. brentwood’s service of family-style, shared-plates, smaller and fewer floral arrangements are suggested (bud vases are highly recommended). All candles provided by guests shall be secured in a nonflammable solid holding device and protected by an enclosure, with the flames no closer than two inches from the top opening. The flame shall not be within twelve inches of foliage or other combustible material. \\n## Printed Menus: \\nPrinted menus will be provided for your guests for a seated meal, although not for a buffet arrangement. All menus will be printed in-house. If you would like to personalize the menus with a logo, title or date, please include that information when you return your menu selection. Menus of included beverages will be available for your guests, as well. \\n## Audio/Visual \\nWith the exception of music playing throughout the restaurant, a.o.c. does not have or provide audio/video equipment such as microphones, projectors, screens, or monitors, although we are happy to offer references to companies who can provide these products and services. \\n## Additional Options: \\nCopies of the a.o.c. cookbook are available for gifts to your guests at $35 per book. \\n## Event End Time: \\nDaytime events must conclude by 3:00 pm. Licensing allows a.o.c. to remain open only one additional hour after the kitchen closes. Evening events that run beyond this time are subject to a penalty equal to twenty-five percent of the total cost of the event. \\n## a.o.c. brentwood event price sheet dinner \\n## San Vicente Room \\nCapacity: 30 seated, 30 standing \\nFeatures: private entrance, privacy doors \\nSunday - Wednesday: $2,500 for the first 20 guests; $150 per person thereafter Thursday - Saturday: $3,500 for the first 20 guests; $150 per person thereafter \\n## Main Room \\nsemi private \\nCapacity: 60 seated, 80 standing \\nFeatures: booth & table seating, walk-up bar \\n[{\"Sunday - Wednesday: \": \"Thursday - Saturday: \", \"$6,500 for the first 50 guests; $150 per person thereafter \": \"$8,500 for the first 50 guests; $150 per person thereafter \"}]\\n## San Vicente Room & Green Room \\nCapacity: 70 seated, 90 standing \\nFeatures: private entrance, multi-room setup \\n[{\"Sunday - Wednesday: \": \"Thursday - Saturday: \", \"$7,000 for the first 50 guests; $150 per person thereafter \": \"$10,000 for the first 50 guests; $150 per person thereafter \"}]\\n## Full Restaurant Buyout \\nfor full-day pricing, please reach out to the restaurant \\nCapacity: 120 seated, 150 standing \\nFeatures: walk-up bar, multi-room set up, indoor-outdoor (weather permitting) \\n[{\"Sunday - Wednesday: \": \"Thursday - Saturday: \", \"$20,000 for first 80 guests; $150 per person thereafter \": \"$26,000 for first 80 guests; $150 per person thereafter \"}]\\nAll prices include private use of the space(s), a menu of family-style shared plates OR buffet, and beverages (sommelier select wines, specialty cocktails, and select-spirit open bar). \\nAll prices are exclusive of tax, fees, and gratuity. \\n*these capacities possible with removal and storage of a.o.c.’s furniture \\n## a.o.c. brentwood event price sheet lunch & brunch \\nlunch is available Wednesday through Friday brunch is available Saturday & Sunday \\nAll daytime events are kindly asked to conclude by 3:00pm so that we may prepare the restaurant for dinner service. \\n## San Vicente Room \\nCapacity: 30 seated, 30 standing \\nFeatures: private entrance, privacy doors \\nWednesday - Sunday: $2,000 for the first 20 guests; $100 per person thereafter \\n## Main Room \\nsemi private \\nCapacity: 60 seated, 80 standing \\nFeatures: booth & table seating, walk-up bar \\nWednesday - Sunday: $4,500 for the first 50 guests; $100 per person thereafter \\n## San Vicente Room & Green Room \\nCapacity: 70 seated, 90 standing \\nFeatures: private entrance, multi-room setup \\nWednesday - Sunday: $4,000 for the first 50 guests; $100 per person thereafter \\n## Full Restaurant Buyout \\nfor full-day pricing, please reach out to the restaurant \\nCapacity: 120 seated, 150 standing Features: walk-up bar, multi-room set up, indoor-outdoor (weather permitting) \\nWednesday - Friday: $8,000 for first 80 guests; $100 per person thereafter Saturday & Sunday: $12,000 for first 80 guests; $100 per person thereafter \\nAll prices include private use of the space(s), a three-course menu featuring shared starters and desserts & an individual choice of entrée OR buffet, and beverages (sommelier select wines, specialty cocktails, and select-spirit open bar). \\nAll prices are exclusive of tax, fees, and gratuity. \\n*these capacities possible with removal and storage of a.o.c.’s furniture \\n<img src=\"/var/folders/g6/gqdf2y4n3jj4f0vml_0s_q1r0000gn/T/tmpuc8qf_j7/figures/fileoutpart14.png\" width=\"710\" height=\"466\" alt=\"Figure from page 11\"/>\\n# private dining & events \\na.o.c. brentwood \\n11648 san vicente blvd. los angeles, ca \\n310.806.6464 \\na \\nsister to a.o.c. \\nwest hollywood, \\nbrentwood offers a modern and elegant space for family celebrations or \\ncorporate functions \\n<img src=\"/var/folders/g6/gqdf2y4n3jj4f0vml_0s_q1r0000gn/T/tmpuc8qf_j7/figures/fileoutpart15.png\" width=\"340\" height=\"511\" alt=\"Figure from page 12\"/>\\n<img src=\"/var/folders/g6/gqdf2y4n3jj4f0vml_0s_q1r0000gn/T/tmpuc8qf_j7/figures/fileoutpart16.png\" width=\"381\" height=\"0\" alt=\"Figure from page 13\"/>\\n<img src=\"/var/folders/g6/gqdf2y4n3jj4f0vml_0s_q1r0000gn/T/tmpuc8qf_j7/figures/fileoutpart17.png\" width=\"768\" height=\"576\" alt=\"Figure from page 13\"/>\\n<img src=\"/var/folders/g6/gqdf2y4n3jj4f0vml_0s_q1r0000gn/T/tmpuc8qf_j7/figures/fileoutpart18.png\" width=\"675\" height=\"483\" alt=\"Figure from page 14\"/>\\nthe main room \\nthe main room\\'s sprawling bar, high ceilings and luxurious booths give each guest a sophisticated yet welcoming environment. \\n<img src=\"/var/folders/g6/gqdf2y4n3jj4f0vml_0s_q1r0000gn/T/tmpuc8qf_j7/figures/fileoutpart19.png\" width=\"490\" height=\"326\" alt=\"Figure from page 15\"/>\\nset apart from the other rooms on the south side of the restaurant, the main room can accommodate up to 60 seated guests or be transformed for a reception with cocktails and rich grazing table for 75 guests. \\n<img src=\"/var/folders/g6/gqdf2y4n3jj4f0vml_0s_q1r0000gn/T/tmpuc8qf_j7/figures/fileoutpart20.png\" width=\"768\" height=\"576\" alt=\"Figure from page 16\"/>\\n<img src=\"/var/folders/g6/gqdf2y4n3jj4f0vml_0s_q1r0000gn/T/tmpuc8qf_j7/figures/fileoutpart21.png\" width=\"557\" height=\"449\" alt=\"Figure from page 16\"/>\\n# the green room \\nwarm and inviting with elegant natural tones, the green room welcomes everyone. an event in this space automatically includes the san vicente room providing additional space for mingling or for more guests. \\nthe combined green & san vicente rooms can accommodate a seated meal for 75 guests or a cocktail reception for 90. \\n<img src=\"/var/folders/g6/gqdf2y4n3jj4f0vml_0s_q1r0000gn/T/tmpuc8qf_j7/figures/fileoutpart22.png\" width=\"529\" height=\"277\" alt=\"Figure from page 17\"/>\\na full restaurant buyout is possible with the addition of the main room for events of up to 150 guests. \\n<img src=\"/var/folders/g6/gqdf2y4n3jj4f0vml_0s_q1r0000gn/T/tmpuc8qf_j7/figures/fileoutpart23.png\" width=\"768\" height=\"576\" alt=\"Figure from page 18\"/>\\nfor more information \\nplease contact us brentwoodevents@aocwinebar.com \\n310.806.6464 '"
      ]
     },
     "execution_count": 3,
     "metadata": {},
     "output_type": "execute_result"
    }
   ],
   "source": [
    "from wedding_venues import zip2md\n",
    "\n",
    "\n",
    "zip2md(\n",
    "    \"/Users/mac-robertsocolewicz/Documents/private/playground_tables/test_pdf/extracted/extract_2025-04-12T14-35-45.zip\",\n",
    "    \"/Users/mac-robertsocolewicz/Documents/private/playground_tables/test_pdf/extracted/extract_2025-04-12T14-35-45.md\",\n",
    ")"
   ]
  },
  {
   "cell_type": "code",
   "execution_count": 3,
   "metadata": {},
   "outputs": [
    {
     "name": "stdout",
     "output_type": "stream",
     "text": [
      "fileoutpart22.png True Green Room\n",
      "fileoutpart23.png True a\n",
      "fileoutpart21.png False \n",
      "fileoutpart20.png True \n",
      "fileoutpart18.png True hi il Wi rr Lilli i ————\n",
      "fileoutpart19.png True \n",
      "fileoutpart17.png True \n",
      "fileoutpart16.png False \n",
      "fileoutpart14.png True a Ba GS eam Am A gM oi GAN pl AM AN AN gD Ng gM A AN gD AD gD AND gh ABD AD A Ay Mg Ag SS ee ee ee a —- o_o Ne eee ee eee SS —————— OO Se ee ee\n",
      "fileoutpart15.png True \n",
      "fileoutpart4.png True \n",
      "fileoutpart5.png True \n",
      "fileoutpart1.png False \n",
      "fileoutpart0.png False \n",
      "fileoutpart2.png False \n",
      "fileoutpart3.png False \n"
     ]
    }
   ],
   "source": [
    "import glob\n",
    "from wedding_venues import image_properties\n",
    "import os\n",
    "\n",
    "for image_path in glob.glob(\n",
    "    \"/Users/mac-robertsocolewicz/Documents/private/playground_tables/test_pdf/extracted/a.o.c. Brentwood/figures/*\"\n",
    "):\n",
    "    properties = image_properties(image_path)\n",
    "    print(\n",
    "        os.path.basename(image_path),\n",
    "        properties[\"is_photo\"],\n",
    "        properties[\"extracted_text\"],\n",
    "    )\n"
   ]
  },
  {
   "cell_type": "code",
   "execution_count": 5,
   "metadata": {},
   "outputs": [
    {
     "name": "stdout",
     "output_type": "stream",
     "text": [
      "image.png False 94TH AERO SQUADRON RESTAURANT HORS D’ OEUVRES & COCKTAIL RECEPTION PACKAGES — vtfa COLD SELECTIONS PRICED PER PIECE - MINIMUM OF 50 PIECES IS REQUIRED APPETIZERS ARE BUFFET STYLE - IF ATTENDANT IS REQUIRED, A FEE OF $100++ WILL APPLY. JUMBO SHRIMP SHOOTER SMOKED SALMON ROSE - DILL CREAM CHEESE CAPRESE SALAD SKEWERS - MOZZARELLA, TOMATO, & BASIL ROAST BEEF PINWHEEL - HORSERADISH CREAM SPICED SEARED AHI - SIRACHA AIOLI = = J 0 Ui OO HOT SELECTIONS PRICED PER PIECE - MINIMUM OF 50 PIECES IS REQUIRED APPETIZERS ARE BUFFET STYLE - IF ATTENDANT IS REQUIRED, A FEE OF $100++ WILL APPLY. STUFFED POTATO SKIN - BACON, CHEESE, & PICO DE GALLO 5 VEGETABLE SPRING ROLL - SWEET & SOUR SAUCE 3 BEEF OR CHICKEN QUESADILLA TRIANGLE - SALSA ROJA 6 CHICKEN FINGER - RANCH & BBQ SAUCE 6 CHICKEN WING - BUFFALO SAUCE 4 ARTICHOKE PARM FRITTER 6 BUFFALO CHICKEN RAGOON 5 COLD DISPLAYS SEASONAL FRESH FRUIT - SERVES 50 135 IMPORTED & DOMESTIC CHEESE - SERVES 50 195 FRESH VEGETABLE CRUDITE - SERVES 50 120\n",
      "94TH AERO SQUADRON RESTAURANT HORS D’ OEUVRES & COCKTAIL RECEPTION PACKAGES — vtfa COLD SELECTIONS PRICED PER PIECE - MINIMUM OF 50 PIECES IS REQUIRED APPETIZERS ARE BUFFET STYLE - IF ATTENDANT IS REQUIRED, A FEE OF $100++ WILL APPLY. JUMBO SHRIMP SHOOTER SMOKED SALMON ROSE - DILL CREAM CHEESE CAPRESE SALAD SKEWERS - MOZZARELLA, TOMATO, & BASIL ROAST BEEF PINWHEEL - HORSERADISH CREAM SPICED SEARED AHI - SIRACHA AIOLI = = J 0 Ui OO HOT SELECTIONS PRICED PER PIECE - MINIMUM OF 50 PIECES IS REQUIRED APPETIZERS ARE BUFFET STYLE - IF ATTENDANT IS REQUIRED, A FEE OF $100++ WILL APPLY. STUFFED POTATO SKIN - BACON, CHEESE, & PICO DE GALLO 5 VEGETABLE SPRING ROLL - SWEET & SOUR SAUCE 3 BEEF OR CHICKEN QUESADILLA TRIANGLE - SALSA ROJA 6 CHICKEN FINGER - RANCH & BBQ SAUCE 6 CHICKEN WING - BUFFALO SAUCE 4 ARTICHOKE PARM FRITTER 6 BUFFALO CHICKEN RAGOON 5 COLD DISPLAYS SEASONAL FRESH FRUIT - SERVES 50 135 IMPORTED & DOMESTIC CHEESE - SERVES 50 195 FRESH VEGETABLE CRUDITE - SERVES 50 120\n"
     ]
    }
   ],
   "source": [
    "image_path = \"image.png\"\n",
    "properties = image_properties(image_path)\n",
    "print(\n",
    "    os.path.basename(image_path),\n",
    "    properties[\"is_photo\"],\n",
    "    properties[\"extracted_text\"],\n",
    ")\n",
    "print(properties[\"extracted_text\"])"
   ]
  },
  {
   "cell_type": "code",
   "execution_count": 1,
   "metadata": {},
   "outputs": [],
   "source": [
    "from wedding_venues import PDFExtractionConverter\n",
    "\n",
    "converter = PDFExtractionConverter(\n",
    "    \"/Users/mac-robertsocolewicz/Documents/private/playground_tables/test_pdf/a.o.c. Brentwood.pdf\"\n",
    ")\n",
    "\n",
    "converter.save_markdown(\"custom_output.md\")"
   ]
  },
  {
   "cell_type": "code",
   "execution_count": 2,
   "metadata": {},
   "outputs": [
    {
     "name": "stderr",
     "output_type": "stream",
     "text": [
      "INFO:adobe.pdfservices.operation.internal.pdf_services_helper:Started uploading asset\n",
      "INFO:adobe.pdfservices.operation.internal.pdf_services_helper:Finished uploading asset\n",
      "INFO:adobe.pdfservices.operation.internal.pdf_services_helper:Started submitting EXTRACT_PDF job\n",
      "INFO:adobe.pdfservices.operation.internal.pdf_services_helper:Started getting job result\n",
      "INFO:adobe.pdfservices.operation.internal.pdf_services_helper:Finished polling for status\n",
      "INFO:adobe.pdfservices.operation.internal.pdf_services_helper:Finished getting job result\n",
      "INFO:adobe.pdfservices.operation.internal.pdf_services_helper:Started getting content\n",
      "INFO:adobe.pdfservices.operation.internal.pdf_services_helper:Finished getting content\n"
     ]
    }
   ],
   "source": []
  },
  {
   "cell_type": "code",
   "execution_count": null,
   "metadata": {},
   "outputs": [],
   "source": []
  },
  {
   "cell_type": "code",
   "execution_count": null,
   "metadata": {},
   "outputs": [],
   "source": []
  }
 ],
 "metadata": {
  "kernelspec": {
   "display_name": ".venv",
   "language": "python",
   "name": "python3"
  },
  "language_info": {
   "codemirror_mode": {
    "name": "ipython",
    "version": 3
   },
   "file_extension": ".py",
   "mimetype": "text/x-python",
   "name": "python",
   "nbconvert_exporter": "python",
   "pygments_lexer": "ipython3",
   "version": "3.11.6"
  }
 },
 "nbformat": 4,
 "nbformat_minor": 2
}
