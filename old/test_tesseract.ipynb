{
 "cells": [
  {
   "cell_type": "code",
   "execution_count": 1,
   "metadata": {},
   "outputs": [
    {
     "name": "stderr",
     "output_type": "stream",
     "text": [
      "INFO:adobe.pdfservices.operation.internal.pdf_services_helper:Started uploading asset\n",
      "INFO:adobe.pdfservices.operation.internal.pdf_services_helper:Finished uploading asset\n",
      "INFO:adobe.pdfservices.operation.internal.pdf_services_helper:Started submitting EXTRACT_PDF job\n",
      "INFO:adobe.pdfservices.operation.internal.pdf_services_helper:Started getting job result\n",
      "INFO:adobe.pdfservices.operation.internal.pdf_services_helper:Finished polling for status\n",
      "INFO:adobe.pdfservices.operation.internal.pdf_services_helper:Finished getting job result\n",
      "INFO:adobe.pdfservices.operation.internal.pdf_services_helper:Started getting content\n",
      "INFO:adobe.pdfservices.operation.internal.pdf_services_helper:Finished getting content\n"
     ]
    }
   ],
   "source": [
    "from wedding_venues import pdf2zip\n",
    "\n",
    "pdf2zip(\"test_pdf/a.o.c. Brentwood.pdf\", \"test_adobe_output\")"
   ]
  },
  {
   "cell_type": "code",
   "execution_count": 2,
   "metadata": {},
   "outputs": [],
   "source": [
    "import zipfile\n",
    "\n",
    "with zipfile.ZipFile(\n",
    "    \"/Users/mac-robertsocolewicz/Documents/private/playground_tables/test_adobe_output/extract_2025-04-12T14-23-03.zip\",\n",
    "    \"r\",\n",
    ") as zip_ref:\n",
    "    zip_ref.extractall(\n",
    "        \"/Users/mac-robertsocolewicz/Documents/private/playground_tables/test_adobe_output/\"\n",
    "    )\n"
   ]
  },
  {
   "cell_type": "code",
   "execution_count": null,
   "metadata": {},
   "outputs": [
    {
     "name": "stdout",
     "output_type": "stream",
     "text": [
      "output zip path: /Users/mac-robertsocolewicz/Documents/private/playground_tables/test_pdf/extracted/extract_2025-04-12T14-35-45.zip\n",
      "2025-04-12 16:58:12 unzip file\n",
      "2025-04-12 16:58:13 open json file\n",
      "2025-04-12 16:58:13 extract content\n"
     ]
    },
    {
     "data": {
      "text/plain": [
       "'Thank you for this information. For something like this, it would need to be a full restaurant buyout. \\nWith a full restaurant buyout, you will have access to three beautiful, spacious, Nickey Kehoe designed dining rooms: the San Vicente Room, the Green Room, and the Main Room for up to 150 total as a standing, cocktail style reception. The price is $20,000 (Sun) or $26,000 (Fri/Sat) for up to 80 guests and $150 per person thereafter. This price includes private use of the restaurant, a specialty menu (food stations with tray passed hors d\\'oeuvres are recommended), and beverages (sommelier select wine, specialty cocktails, and select-spirit open bar). All prices are before tax, fees, and gratuity. \\nPlease note, because you are dancing, we will need to have you bring in a dance floor to protect the floors, as well as additional insurance for your guests. \\nAttached please find the following: \\n● \\nPrivate Events Brochure \\n● \\nPricing \\n● \\nMore information on an a.o.c. brentwood buyout \\n● \\nCurrent Event Dinner Menus * \\n● \\nCurrent Event Bar Menus * \\n* Due to the seasonality of the restaurant, these options may be altered for your actual event with your final approval. \\n# dinner event bar offerings \\nsommelier select wines \\n# sparkling \\n# white \\n# rose \\n# red \\ncocktails choose 3 \\n# green goddess \\ngreen tea-infused vodka, cucumber, arugula, jalapeño & absinthe rinse \\n# wonder punch \\ngin, lemon, pomegranate & coconut \\n# harbinger \\ntequila, lime, orgeat & spiced persimmon *contains nuts \\n# kingbird \\nbourbon & housemade sassafras-maple bitters \\n# passion al pastor \\nmezcal, lime, passion fruit & achiote \\n## “free spirited” \\n### ruby blush \\ngrapefruit, lemon & house ginger ale \\n### bleeding heart \\npomegranate, orange, cinnamon & soda \\n### “mock” goddess \\ngreen tea, cucumber, arugula & jalapeño \\n<img src=\"/var/folders/g6/gqdf2y4n3jj4f0vml_0s_q1r0000gn/T/tmpsuhxwrxx/figures/fileoutpart0.png\" width=\"76\" height=\"41\" alt=\"Figure from page 1\"/>\\n*anything not on this list will be added to the final bill* *cocktails subject to change with seasonal produce* \\n# select spirit open bar \\n## **vodka** \\ntito’s \\nchopin grey goose \\n## **whiskey** \\nhigh west double rye michter’s rye rittenhouse \\nbreaking & entering \\n## **bourbon** \\nevan williams \\neagle rare angel’s envy michter’s \\nheaven hill 7yr \\n## **scotch/irish/japanese** \\njameson laphroaig 10yr jura seven wood benromach \\nkavalan \\nsuntory toki \\n## **gin** \\nst. george “terroir” east london batch \\nbombay sapphire tanqueray botanist \\nnolet’s \\n## **agave** \\nangelisco blanco casamigos blanco casamigos reposado siete leguas blanco siete leguas reposado angelisco reposado el silencio (mezcal) legendario (mezcal) \\n## **rum** \\nel dorado 12yr marti white \\n<img src=\"/var/folders/g6/gqdf2y4n3jj4f0vml_0s_q1r0000gn/T/tmpsuhxwrxx/figures/fileoutpart1.png\" width=\"76\" height=\"41\" alt=\"Figure from page 2\"/>\\n*anything not on this list will be added to the final bill* *cocktails subject to change with seasonal produce* \\na.o.c. dinner event menu 1 \\n### bacon-wrapped dates stuffed with parmesan \\n### the farmer’s plate \\nroasted vegetables, muhammara & chickpea purée, burrata & grilled toast \\n### three cheese plate with accompaniments & a.o.c. bread \\n*** \\n### royal corona beans, weiser cucumbers, tomato, oregano & feta spinach and dandelion, persimmon, avocado & candied pecans \\n*** \\n### market fish, celery root, brussels sprouts, sherry & golden raisins \\n### farro & black rice, currants & pine nuts* \\n*** \\n### roasted chicken “ode to zuni,” panzanella, fennel & green olives \\n### cauliflower, curry & red wine vinegar \\n*** \\n### a.o.c. dessert platter \\nchocolate torta, butterscotch pot de crème, assorted chocolates & house confections \\nEach of these menus is a complete menu of shared plates. Dishes will be served one or two at a time beginning at the top of the menu and continuing to the bottom. Each line indicates a different item. Requested changes are subject to approval. \\n*a.o.c. is seasonally driven, \\n<img src=\"/var/folders/g6/gqdf2y4n3jj4f0vml_0s_q1r0000gn/T/tmpsuhxwrxx/figures/fileoutpart2.png\" width=\"135\" height=\"66\" alt=\"Figure from page 3\"/>\\non market availability* \\noptions subject to change based \\na.o.c. dinner event menu 2 \\n### three cheese plate with accompaniments & a.o.c. bread \\n### charcuterie board \\npork rillettes, assorted salumi, chorizo & grilled toast \\n### marinated olives & marcona almonds \\n*** \\n### apples, pears, chicories, honey & point reyes fennel blue spanish fried chicken, romesco aïoli & chili-cumin butter *** \\n### spiced fish tagine: kabocha squash, quinoa, dried cranberries, turmeric & pepita pesto \\n*** \\n### hanger steak, sauce béarnaise, arugula & fried shallots \\nsoft polenta, wild mushrooms, swiss chard, mascarpone & gremolata *** \\n### chocolate torta \\nkadaif rocher, pistachio butter & vanilla whipped cream \\n### crème fraiche panna cotta \\nrum caramel, persimmon & pepita tuile \\nEach of these menus is a complete menu of shared plates. Dishes will be served one or two at a time beginning at the top of the menu and continuing to the bottom. Each line indicates a different item. Requested changes are subject to approval. \\n*a.o.c. is seasonally driven, options subject to change based on market availability* \\n<img src=\"/var/folders/g6/gqdf2y4n3jj4f0vml_0s_q1r0000gn/T/tmpsuhxwrxx/figures/fileoutpart3.png\" width=\"135\" height=\"66\" alt=\"Figure from page 4\"/>\\n<img src=\"/var/folders/g6/gqdf2y4n3jj4f0vml_0s_q1r0000gn/T/tmpsuhxwrxx/figures/fileoutpart4.png\" width=\"108\" height=\"216\" alt=\"Figure from page 5\"/>\\na.o.c. brentwood san vicente room, green room, main dining room & restaurant buyout information \\n<img src=\"/var/folders/g6/gqdf2y4n3jj4f0vml_0s_q1r0000gn/T/tmpsuhxwrxx/figures/fileoutpart5.png\" width=\"459\" height=\"345\" alt=\"Figure from page 5\"/>\\na.o.c. brentwood is the newest restaurant from the James Beard Foundation’s Outstanding Chef, Suzanne Goin, and Outstanding Restauranteur / renowned wine director, Caroline Styne. Following the success of sister restaurant a.o.c. west hollywood, brentwood brings the same shared-plate menus and hand-selected wines to the westside for an unforgettable dining experience. \\n# Basic Information \\nLocation: 11648 San Vicente Blvd. Los Angeles, CA 90049 \\nHours of Operation \\n[{\"Monday & Tuesday: \": \"Wednesday - Friday: \", \"Dinner only: 5:00pm \\\\u2013 10:00pm \": \"Lunch: 11:30am \\\\u2013 2:30pm Dinner: 5:00pm \\\\u2013 10:00pm \"}, {\"Monday & Tuesday: \": \"Saturday & Sunday: \", \"Dinner only: 5:00pm \\\\u2013 10:00pm \": \"Brunch: 10:00am \\\\u2013 2:30pm Dinner: 5:00pm \\\\u2013 10:00pm \"}]\\n## Accessibility: \\nAll dining areas are located on the ground floor of a.o.c. brentwood and are ADA accessible. \\n## Parking: \\nLimited, metered street parking is available. a.o.c. brentwood does not have valet. Instead, there is a validated self-park lot just south of the restaurant on Darlington Ave. You may choose to host full validation for your guests’ parking for $19 per car. If you do not host parking, your guests will receive the standard 90-minute validation that a.o.c. brentwood offers to all guests. If you choose to host your guests’ parking, it will be charged post-event through the online portal. \\n## Seating: \\na.o.c. brentwood is provided as a fully furnished dining space with beautiful, handcrafted wooden tables. Depending upon your specific needs and guest count, and particularly for reception layouts, it may be necessary to remove and store furniture for the duration of the event. Any removal and storage of furnishings will be the responsibility of the client and must be done prior to guest arrival. Table linens are not used at a.o.c. \\n## Bathroom: \\nThere are male and female bathrooms located inside the restaurant. The bathroom would be available to other restaurant guests that are dining, unless buying out the entire restaurant. \\n## Tax, Gratuity & Fees: \\nThe tax is standard Los Angeles County 9.5% sales tax. The gratuity for the staff ranges between 18%-22%. A 6% charge is added to all checks to cover the cost of full healthcare benefits for our full-time employees; if you would like this charge removed, please let us know. In addition, a 5.5% administration fee will be added to the final bill. \\n## Event Agreement: \\na.o.c. brentwood requires a signed event agreement and a deposit for 50% of your anticipated total within 24 hours to reserve the space and date. After 24 hours, the space will be made available to other inquiries unless other arrangements are made. Please keep in mind that the space and date are not reserved until a completed agreement and deposit are received by a.o.c. Cancellation (or rescheduling) of the event or the specified event date, with less than 14 days’ notice from the event date will result in forfeiture of the deposit. \\n# Food & Beverage \\n## Food: \\na.o.c. brentwood’s menus can be enjoyed as a seated meal, or as a more casual buffet. Either way, Suzanne Goin’s farmers’ market-inspired menus are designed to be shared and enjoyed by all of your guests. \\n## Lunch & Brunch: \\nLunch is served Wednesday – Friday. Brunch is served on Saturday and Sunday. All lunch & brunch menu options are a three-course menu with shared starters and desserts, and an individual choice of entrée, unless hosting a buffet. \\n## Menu Selection: \\nBecause a.o.c. brentwood is a seasonal restaurant with the highest standards for its produce and proteins, menu selection will occur 2-3 weeks prior to your event to ensure the offerings are up to date. This includes our cocktail program as well. For plated meals, a.o.c. offers two dinner menus from which you can choose. You are welcome to make small changes and exchange similar dishes from one menu to the other. All changes are subject to chef approval. \\n## Allergies: \\na.o.c. brentwood is able to accommodate a variety of allergies and food preferences. Please let us know as early as possible, particularly during the menu selection process. a.o.c. is not a kosher kitchen but is able to do kosher style. \\n## Cake: \\nYou are more than welcome to bring your own cakes, which can be presented and cut at no extra cost. Please tell us in advance and make sure that it is delivered, clearly-labeled with your name and date, in a fully enclosed box with instructions, including whether or not it needs to be refrigerated. Include your selections when returning your menu selection and all other details. \\n## Alcohol Consumption: \\nTo be in compliance with State of California alcohol licensing restrictions, a.o.c. brentwood uses its discretion when serving wine, beer, and spirits. In order to maintain the safety of guests and employees, shots and the excessive consumption of alcohol are not allowed. \\n## Wine: \\nA white, red, sparkling and rosé wine will be selected by the sommelier from a.o.c. brentwood’s ever-evolving list of organically, biodynamically and sustainably produced boutique wines. Different wines or premium wines are available for the difference in cost, per bottle, beyond the included $50 price; wine upgrades must be arranged well in advance of your visit, and are based upon availability. \\n## Liquor: \\na.o.c. brentwood’s event selection of premium artisanal spirits, specialty cocktails and beer, are included in your dining experience. Satellite bars are discouraged therefore all spirits and cocktails will be prepared at a.o.c. brentwood’s bar. Menus that offer only the included spirits, cocktails and beers will be available for your guests. You are welcome to select one or two of a.o.c. brentwood’s specialty cocktails to be tray-passed to your guests upon arrival. Please include your selections when returning your menu selection and all other details. \\n# Other Details \\n## Layouts and Seating Arrangements: \\nSample arrangements are available upon request. Maximum room capacities for dining areas outside of the San Vicente Dining Room are achievable only with the removal and storage of a.o.c. brentwood’s furniture. The cost and responsibility for furniture removal and storage lies with the event host. \\n## Pre-Event Deliveries: \\nAll pre-event deliveries must be coordinated with the events manager. For daytime events, items can be delivered on the same day, no more than half an hour before the restaurant opens for business. For evening events, items can be delivered on the same day after 3:00 pm. Please make sure that all deliveries are clearly labeled with your name and date. All items supplied by guests must be removed at the conclusion of your event. \\n## Decorations: \\nYou are welcome to decorate with items that do not leave a lasting mark on the space. All items provided by clients must be removed at the conclusion of the event. Glitter, sparkles, confetti, helium- and mylar balloons and “silly string” are not allowed at a.o.c. brentwood. \\n## Florals/Candles: \\nSmall, simple candles are provided on the tables for evening events. You may provide your own florals and/or candles, either through one of a.o.c. brentwood’s recommend vendors (list available upon request) or your own. Due to a.o.c. brentwood’s service of family-style, shared-plates, smaller and fewer floral arrangements are suggested (bud vases are highly recommended). All candles provided by guests shall be secured in a nonflammable solid holding device and protected by an enclosure, with the flames no closer than two inches from the top opening. The flame shall not be within twelve inches of foliage or other combustible material. \\n## Printed Menus: \\nPrinted menus will be provided for your guests for a seated meal, although not for a buffet arrangement. All menus will be printed in-house. If you would like to personalize the menus with a logo, title or date, please include that information when you return your menu selection. Menus of included beverages will be available for your guests, as well. \\n## Audio/Visual \\nWith the exception of music playing throughout the restaurant, a.o.c. does not have or provide audio/video equipment such as microphones, projectors, screens, or monitors, although we are happy to offer references to companies who can provide these products and services. \\n## Additional Options: \\nCopies of the a.o.c. cookbook are available for gifts to your guests at $35 per book. \\n## Event End Time: \\nDaytime events must conclude by 3:00 pm. Licensing allows a.o.c. to remain open only one additional hour after the kitchen closes. Evening events that run beyond this time are subject to a penalty equal to twenty-five percent of the total cost of the event. \\n## a.o.c. brentwood event price sheet dinner \\n## San Vicente Room \\nCapacity: 30 seated, 30 standing \\nFeatures: private entrance, privacy doors \\nSunday - Wednesday: $2,500 for the first 20 guests; $150 per person thereafter Thursday - Saturday: $3,500 for the first 20 guests; $150 per person thereafter \\n## Main Room \\nsemi private \\nCapacity: 60 seated, 80 standing \\nFeatures: booth & table seating, walk-up bar \\n[{\"Sunday - Wednesday: \": \"Thursday - Saturday: \", \"$6,500 for the first 50 guests; $150 per person thereafter \": \"$8,500 for the first 50 guests; $150 per person thereafter \"}]\\n## San Vicente Room & Green Room \\nCapacity: 70 seated, 90 standing \\nFeatures: private entrance, multi-room setup \\n[{\"Sunday - Wednesday: \": \"Thursday - Saturday: \", \"$7,000 for the first 50 guests; $150 per person thereafter \": \"$10,000 for the first 50 guests; $150 per person thereafter \"}]\\n## Full Restaurant Buyout \\nfor full-day pricing, please reach out to the restaurant \\nCapacity: 120 seated, 150 standing \\nFeatures: walk-up bar, multi-room set up, indoor-outdoor (weather permitting) \\n[{\"Sunday - Wednesday: \": \"Thursday - Saturday: \", \"$20,000 for first 80 guests; $150 per person thereafter \": \"$26,000 for first 80 guests; $150 per person thereafter \"}]\\nAll prices include private use of the space(s), a menu of family-style shared plates OR buffet, and beverages (sommelier select wines, specialty cocktails, and select-spirit open bar). \\nAll prices are exclusive of tax, fees, and gratuity. \\n*these capacities possible with removal and storage of a.o.c.’s furniture \\n## a.o.c. brentwood event price sheet lunch & brunch \\nlunch is available Wednesday through Friday brunch is available Saturday & Sunday \\nAll daytime events are kindly asked to conclude by 3:00pm so that we may prepare the restaurant for dinner service. \\n## San Vicente Room \\nCapacity: 30 seated, 30 standing \\nFeatures: private entrance, privacy doors \\nWednesday - Sunday: $2,000 for the first 20 guests; $100 per person thereafter \\n## Main Room \\nsemi private \\nCapacity: 60 seated, 80 standing \\nFeatures: booth & table seating, walk-up bar \\nWednesday - Sunday: $4,500 for the first 50 guests; $100 per person thereafter \\n## San Vicente Room & Green Room \\nCapacity: 70 seated, 90 standing \\nFeatures: private entrance, multi-room setup \\nWednesday - Sunday: $4,000 for the first 50 guests; $100 per person thereafter \\n## Full Restaurant Buyout \\nfor full-day pricing, please reach out to the restaurant \\nCapacity: 120 seated, 150 standing Features: walk-up bar, multi-room set up, indoor-outdoor (weather permitting) \\nWednesday - Friday: $8,000 for first 80 guests; $100 per person thereafter Saturday & Sunday: $12,000 for first 80 guests; $100 per person thereafter \\nAll prices include private use of the space(s), a three-course menu featuring shared starters and desserts & an individual choice of entrée OR buffet, and beverages (sommelier select wines, specialty cocktails, and select-spirit open bar). \\nAll prices are exclusive of tax, fees, and gratuity. \\n*these capacities possible with removal and storage of a.o.c.’s furniture \\n<img src=\"/var/folders/g6/gqdf2y4n3jj4f0vml_0s_q1r0000gn/T/tmpsuhxwrxx/figures/fileoutpart14.png\" width=\"710\" height=\"466\" alt=\"Figure from page 11\"/>\\n# private dining & events \\na.o.c. brentwood \\n11648 san vicente blvd. los angeles, ca \\n310.806.6464 \\na \\nsister to a.o.c. \\nwest hollywood, \\nbrentwood offers a modern and elegant space for family celebrations or \\ncorporate functions \\n<img src=\"/var/folders/g6/gqdf2y4n3jj4f0vml_0s_q1r0000gn/T/tmpsuhxwrxx/figures/fileoutpart15.png\" width=\"340\" height=\"511\" alt=\"Figure from page 12\"/>\\n<img src=\"/var/folders/g6/gqdf2y4n3jj4f0vml_0s_q1r0000gn/T/tmpsuhxwrxx/figures/fileoutpart16.png\" width=\"381\" height=\"0\" alt=\"Figure from page 13\"/>\\n<img src=\"/var/folders/g6/gqdf2y4n3jj4f0vml_0s_q1r0000gn/T/tmpsuhxwrxx/figures/fileoutpart17.png\" width=\"768\" height=\"576\" alt=\"Figure from page 13\"/>\\n<img src=\"/var/folders/g6/gqdf2y4n3jj4f0vml_0s_q1r0000gn/T/tmpsuhxwrxx/figures/fileoutpart18.png\" width=\"675\" height=\"483\" alt=\"Figure from page 14\"/>\\nthe main room \\nthe main room\\'s sprawling bar, high ceilings and luxurious booths give each guest a sophisticated yet welcoming environment. \\n<img src=\"/var/folders/g6/gqdf2y4n3jj4f0vml_0s_q1r0000gn/T/tmpsuhxwrxx/figures/fileoutpart19.png\" width=\"490\" height=\"326\" alt=\"Figure from page 15\"/>\\nset apart from the other rooms on the south side of the restaurant, the main room can accommodate up to 60 seated guests or be transformed for a reception with cocktails and rich grazing table for 75 guests. \\n<img src=\"/var/folders/g6/gqdf2y4n3jj4f0vml_0s_q1r0000gn/T/tmpsuhxwrxx/figures/fileoutpart20.png\" width=\"768\" height=\"576\" alt=\"Figure from page 16\"/>\\n<img src=\"/var/folders/g6/gqdf2y4n3jj4f0vml_0s_q1r0000gn/T/tmpsuhxwrxx/figures/fileoutpart21.png\" width=\"557\" height=\"449\" alt=\"Figure from page 16\"/>\\n# the green room \\nwarm and inviting with elegant natural tones, the green room welcomes everyone. an event in this space automatically includes the san vicente room providing additional space for mingling or for more guests. \\nthe combined green & san vicente rooms can accommodate a seated meal for 75 guests or a cocktail reception for 90. \\n<img src=\"/var/folders/g6/gqdf2y4n3jj4f0vml_0s_q1r0000gn/T/tmpsuhxwrxx/figures/fileoutpart22.png\" width=\"529\" height=\"277\" alt=\"Figure from page 17\"/>\\na full restaurant buyout is possible with the addition of the main room for events of up to 150 guests. \\n<img src=\"/var/folders/g6/gqdf2y4n3jj4f0vml_0s_q1r0000gn/T/tmpsuhxwrxx/figures/fileoutpart23.png\" width=\"768\" height=\"576\" alt=\"Figure from page 18\"/>\\nfor more information \\nplease contact us brentwoodevents@aocwinebar.com \\n310.806.6464 '"
      ]
     },
     "execution_count": 2,
     "metadata": {},
     "output_type": "execute_result"
    }
   ],
   "source": [
    "from wedding_venues import zip2md\n",
    "\n",
    "zip2md(\n",
    "    \"/Users/mac-robertsocolewicz/Documents/private/playground_tables/test_pdf/extracted/extract_2025-04-12T14-35-45.zip\",\n",
    "    \"/Users/mac-robertsocolewicz/Documents/private/playground_tables/test_pdf/extracted/extract_2025-04-12T14-35-45.md\",\n",
    ")"
   ]
  },
  {
   "cell_type": "code",
   "execution_count": 1,
   "metadata": {},
   "outputs": [],
   "source": [
    "from wedding_venues import PDFExtractionConverter\n",
    "\n",
    "converter = PDFExtractionConverter(\n",
    "    \"/Users/mac-robertsocolewicz/Documents/private/playground_tables/test_pdf/a.o.c. Brentwood.pdf\"\n",
    ")\n",
    "\n",
    "converter.save_markdown(\"custom_output.md\")"
   ]
  },
  {
   "cell_type": "code",
   "execution_count": 2,
   "metadata": {},
   "outputs": [
    {
     "name": "stderr",
     "output_type": "stream",
     "text": [
      "INFO:adobe.pdfservices.operation.internal.pdf_services_helper:Started uploading asset\n",
      "INFO:adobe.pdfservices.operation.internal.pdf_services_helper:Finished uploading asset\n",
      "INFO:adobe.pdfservices.operation.internal.pdf_services_helper:Started submitting EXTRACT_PDF job\n",
      "INFO:adobe.pdfservices.operation.internal.pdf_services_helper:Started getting job result\n",
      "INFO:adobe.pdfservices.operation.internal.pdf_services_helper:Finished polling for status\n",
      "INFO:adobe.pdfservices.operation.internal.pdf_services_helper:Finished getting job result\n",
      "INFO:adobe.pdfservices.operation.internal.pdf_services_helper:Started getting content\n",
      "INFO:adobe.pdfservices.operation.internal.pdf_services_helper:Finished getting content\n"
     ]
    }
   ],
   "source": []
  },
  {
   "cell_type": "code",
   "execution_count": null,
   "metadata": {},
   "outputs": [],
   "source": []
  },
  {
   "cell_type": "code",
   "execution_count": null,
   "metadata": {},
   "outputs": [],
   "source": []
  }
 ],
 "metadata": {
  "kernelspec": {
   "display_name": ".venv",
   "language": "python",
   "name": "python3"
  },
  "language_info": {
   "codemirror_mode": {
    "name": "ipython",
    "version": 3
   },
   "file_extension": ".py",
   "mimetype": "text/x-python",
   "name": "python",
   "nbconvert_exporter": "python",
   "pygments_lexer": "ipython3",
   "version": "3.11.6"
  }
 },
 "nbformat": 4,
 "nbformat_minor": 2
}
