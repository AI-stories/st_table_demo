{
 "cells": [
  {
   "cell_type": "code",
   "execution_count": 6,
   "metadata": {},
   "outputs": [
    {
     "name": "stderr",
     "output_type": "stream",
     "text": [
      "INFO:adobe.pdfservices.operation.internal.pdf_services_helper:Started uploading asset\n",
      "INFO:adobe.pdfservices.operation.internal.pdf_services_helper:Finished uploading asset\n",
      "INFO:adobe.pdfservices.operation.internal.pdf_services_helper:Started submitting EXTRACT_PDF job\n",
      "INFO:adobe.pdfservices.operation.internal.pdf_services_helper:Started getting job result\n",
      "INFO:adobe.pdfservices.operation.internal.pdf_services_helper:Finished polling for status\n",
      "INFO:adobe.pdfservices.operation.internal.pdf_services_helper:Finished getting job result\n",
      "INFO:adobe.pdfservices.operation.internal.pdf_services_helper:Started getting content\n",
      "INFO:adobe.pdfservices.operation.internal.pdf_services_helper:Finished getting content\n"
     ]
    }
   ],
   "source": [
    "from wedding_venues import pdf2zip\n",
    "\n",
    "pdf2zip(\n",
    "    \"/Users/mac-robertsocolewicz/Documents/private/playground_tables/test_pdf/94th Aero Squadron Restaurant_.pdf\",\n",
    "    \"tmp\",\n",
    ")"
   ]
  },
  {
   "cell_type": "code",
   "execution_count": 2,
   "metadata": {},
   "outputs": [],
   "source": [
    "import zipfile\n",
    "\n",
    "zip_path = \"/Users/mac-robertsocolewicz/Documents/private/playground_tables/tmp/extract_2025-04-12T21-05-01.zip\"\n",
    "with zipfile.ZipFile(\n",
    "    zip_path,\n",
    "    \"r\",\n",
    ") as zip_ref:\n",
    "    zip_ref.extractall(\"tmp\")"
   ]
  },
  {
   "cell_type": "code",
   "execution_count": 16,
   "metadata": {},
   "outputs": [
    {
     "name": "stderr",
     "output_type": "stream",
     "text": [
      "100%|██████████| 26/26 [00:00<00:00, 20296.28it/s]\n"
     ]
    }
   ],
   "source": [
    "from pathlib import Path\n",
    "from tqdm import tqdm\n",
    "from wedding_venues import figure_to_md\n",
    "\n",
    "output_dir = Path(\"test_pdf/test\")\n",
    "figures = output_dir.glob(\"**/*\")\n",
    "figures = filter(lambda fig: fig.suffix in [\".png\", \".jpg\", \".jpeg\"], figures)\n",
    "for figure in tqdm(sorted(figures)):\n",
    "    figure_to_md(figure, force_extract=False, delete_if_false_image=True)\n"
   ]
  },
  {
   "cell_type": "code",
   "execution_count": 1,
   "metadata": {},
   "outputs": [
    {
     "name": "stderr",
     "output_type": "stream",
     "text": [
      "/Users/mac-robertsocolewicz/Documents/private/playground_tables/.venv/lib/python3.11/site-packages/tqdm/auto.py:21: TqdmWarning: IProgress not found. Please update jupyter and ipywidgets. See https://ipywidgets.readthedocs.io/en/stable/user_install.html\n",
      "  from .autonotebook import tqdm as notebook_tqdm\n"
     ]
    }
   ],
   "source": [
    "from wedding_venues.image import replace_images_with_markdown\n",
    "from pathlib import Path\n",
    "\n",
    "output_dir = Path(\"test_pdf/test\")\n",
    "markdown_path = list(output_dir.glob(\"*.md\"))[0]\n",
    "\n",
    "new_md = replace_images_with_markdown(\n",
    "    markdown_path,\n",
    "    inplace=True,\n",
    ")\n"
   ]
  },
  {
   "cell_type": "code",
   "execution_count": null,
   "metadata": {},
   "outputs": [],
   "source": [
    "\"/Users/mac-robertsocolewicz/Documents/private/playground_tables/test_pdf/test/test_pdf/test/94th Aero Squadron Restaurant_-with-image-refs_artifacts/94th Aero Squadron Restaurant_-page-0.md\"\n",
    "\"/Users/mac-robertsocolewicz/Documents/private/playground_tables/test_pdf/test/94th Aero Squadron Restaurant_-with-image-refs_artifacts/94th Aero Squadron Restaurant_-page-0.md\""
   ]
  },
  {
   "cell_type": "code",
   "execution_count": 13,
   "metadata": {},
   "outputs": [
    {
     "name": "stdout",
     "output_type": "stream",
     "text": [
      "750x1024 0.0019125\n",
      "1024x957 0.0019125\n",
      "1024x821 0.0019125\n",
      "526x363 0.0010625\n",
      "365x269 0.0006375\n",
      "1024x781 0.0019125\n",
      "1024x503 0.0010625\n",
      "1024x507 0.0010625\n",
      "483x293 0.0006375\n",
      "791x1024 0.0019125\n",
      "764x1024 0.0019125\n",
      "1024x444 0.0010625\n",
      "1024x451 0.0010625\n",
      "863x1024 0.0019125\n",
      "1024x722 0.0019125\n",
      "667x238 0.0010625\n",
      "1024x663 0.0019125\n",
      "1024x1022 0.0019125\n",
      "1024x1020 0.0019125\n",
      "766x1023 0.0019125\n",
      "1024x464 0.0010625\n",
      "0.0316625\n"
     ]
    }
   ],
   "source": [
    "from wedding_venues import image_properties\n",
    "import glob\n",
    "\n",
    "from wedding_venues.image import resize_image\n",
    "\n",
    "\n",
    "def downsize_image(image_path, max_size=1024):\n",
    "    resized_path = resize_image(image_path, max_size)\n",
    "    return local_image_to_data_url(resized_path)\n",
    "\n",
    "\n",
    "def get_cost(properties):\n",
    "    width, height = properties[\"width\"], properties[\"height\"]\n",
    "    tokens = 85 + math.ceil(width / 512) * math.ceil(height / 512) * 170\n",
    "    return tokens * 2.5 / 1_000_000\n",
    "\n",
    "\n",
    "figures = glob.glob(\n",
    "    \"/Users/mac-robertsocolewicz/Documents/private/playground_tables/tmp/figures/*\"\n",
    ")\n",
    "total_cost = 0\n",
    "for figure in sorted(figures):\n",
    "    properties = image_properties(resize_image(figure, 1024))\n",
    "    is_photo = properties[\"is_photo\"]\n",
    "    has_text = properties[\"has_text\"]\n",
    "    size = f\"{properties['width']}x{properties['height']}\"\n",
    "    if has_text or is_photo:\n",
    "        print(size, get_cost(properties))\n",
    "        total_cost += get_cost(properties)\n",
    "print(total_cost)\n"
   ]
  },
  {
   "cell_type": "code",
   "execution_count": 18,
   "metadata": {},
   "outputs": [
    {
     "name": "stderr",
     "output_type": "stream",
     "text": [
      "  0%|          | 0/32 [00:00<?, ?it/s]INFO:httpx:HTTP Request: POST https://api.openai.com/v1/chat/completions \"HTTP/1.1 200 OK\"\n",
      "  3%|▎         | 1/32 [00:16<08:26, 16.35s/it]INFO:httpx:HTTP Request: POST https://api.openai.com/v1/chat/completions \"HTTP/1.1 200 OK\"\n",
      "  9%|▉         | 3/32 [00:23<03:24,  7.06s/it]INFO:httpx:HTTP Request: POST https://api.openai.com/v1/chat/completions \"HTTP/1.1 200 OK\"\n",
      " 12%|█▎        | 4/32 [00:27<02:44,  5.87s/it]INFO:httpx:HTTP Request: POST https://api.openai.com/v1/chat/completions \"HTTP/1.1 200 OK\"\n",
      " 19%|█▉        | 6/32 [00:30<01:27,  3.37s/it]INFO:httpx:HTTP Request: POST https://api.openai.com/v1/chat/completions \"HTTP/1.1 200 OK\"\n",
      " 22%|██▏       | 7/32 [00:32<01:15,  3.01s/it]INFO:httpx:HTTP Request: POST https://api.openai.com/v1/chat/completions \"HTTP/1.1 200 OK\"\n",
      " 28%|██▊       | 9/32 [00:39<01:05,  2.86s/it]INFO:httpx:HTTP Request: POST https://api.openai.com/v1/chat/completions \"HTTP/1.1 200 OK\"\n",
      " 31%|███▏      | 10/32 [00:53<02:17,  6.25s/it]INFO:httpx:HTTP Request: POST https://api.openai.com/v1/chat/completions \"HTTP/1.1 200 OK\"\n",
      " 38%|███▊      | 12/32 [01:05<02:03,  6.16s/it]INFO:httpx:HTTP Request: POST https://api.openai.com/v1/chat/completions \"HTTP/1.1 200 OK\"\n",
      " 41%|████      | 13/32 [01:10<01:52,  5.91s/it]INFO:httpx:HTTP Request: POST https://api.openai.com/v1/chat/completions \"HTTP/1.1 200 OK\"\n",
      " 44%|████▍     | 14/32 [01:24<02:22,  7.89s/it]INFO:httpx:HTTP Request: POST https://api.openai.com/v1/chat/completions \"HTTP/1.1 200 OK\"\n",
      " 47%|████▋     | 15/32 [01:40<02:55, 10.32s/it]INFO:httpx:HTTP Request: POST https://api.openai.com/v1/chat/completions \"HTTP/1.1 200 OK\"\n",
      " 50%|█████     | 16/32 [01:50<02:42, 10.16s/it]INFO:httpx:HTTP Request: POST https://api.openai.com/v1/chat/completions \"HTTP/1.1 200 OK\"\n",
      " 56%|█████▋    | 18/32 [02:01<01:44,  7.45s/it]INFO:httpx:HTTP Request: POST https://api.openai.com/v1/chat/completions \"HTTP/1.1 200 OK\"\n",
      " 59%|█████▉    | 19/32 [02:21<02:22, 10.95s/it]INFO:httpx:HTTP Request: POST https://api.openai.com/v1/chat/completions \"HTTP/1.1 200 OK\"\n",
      " 62%|██████▎   | 20/32 [02:27<01:55,  9.66s/it]INFO:httpx:HTTP Request: POST https://api.openai.com/v1/chat/completions \"HTTP/1.1 200 OK\"\n",
      " 66%|██████▌   | 21/32 [02:30<01:24,  7.64s/it]INFO:httpx:HTTP Request: POST https://api.openai.com/v1/chat/completions \"HTTP/1.1 200 OK\"\n",
      " 72%|███████▏  | 23/32 [02:39<00:54,  6.07s/it]INFO:httpx:HTTP Request: POST https://api.openai.com/v1/chat/completions \"HTTP/1.1 200 OK\"\n",
      " 78%|███████▊  | 25/32 [02:49<00:40,  5.78s/it]INFO:httpx:HTTP Request: POST https://api.openai.com/v1/chat/completions \"HTTP/1.1 200 OK\"\n",
      " 81%|████████▏ | 26/32 [03:05<00:48,  8.02s/it]INFO:httpx:HTTP Request: POST https://api.openai.com/v1/chat/completions \"HTTP/1.1 200 OK\"\n",
      " 84%|████████▍ | 27/32 [03:18<00:46,  9.24s/it]INFO:httpx:HTTP Request: POST https://api.openai.com/v1/chat/completions \"HTTP/1.1 200 OK\"\n",
      "100%|██████████| 32/32 [03:23<00:00,  6.36s/it]\n"
     ]
    }
   ],
   "source": [
    "from tqdm import tqdm\n",
    "\n",
    "figures = glob.glob(\n",
    "    \"/Users/mac-robertsocolewicz/Documents/private/playground_tables/tmp/figures/*\"\n",
    ")\n",
    "total_cost = 0\n",
    "wedding_texts = []\n",
    "for figure in tqdm(sorted(figures)):\n",
    "    figure = resize_image(figure, 1024)\n",
    "    properties = image_properties(figure)\n",
    "    is_photo = properties[\"is_photo\"]\n",
    "    has_text = properties[\"has_text\"]\n",
    "\n",
    "    if has_text or is_photo:\n",
    "        wedding_text = image_to_wedding_text(figure)\n",
    "        wedding_texts.append(wedding_text)"
   ]
  },
  {
   "cell_type": "code",
   "execution_count": 21,
   "metadata": {},
   "outputs": [
    {
     "name": "stdout",
     "output_type": "stream",
     "text": [
      "94TH AERO SQUADRON RESTAURANT  \n",
      "HORS D’ OEUVRES & COCKTAIL RECEPTION PACKAGES\n",
      "\n",
      "COLD SELECTIONS  \n",
      "PRICED PER PIECE - MINIMUM OF 50 PIECES IS REQUIRED  \n",
      "APPETIZERS ARE BUFFET STYLE - IF ATTENDANT IS REQUIRED, A FEE OF $100++ WILL APPLY.\n",
      "\n",
      "JUMBO SHRIMP SHOOTER  11  \n",
      "SMOKED SALMON ROSE – DILL CREAM CHEESE  8  \n",
      "CAPRESE SALAD SKEWERS – MOZZARELLA, TOMATO, & BASIL  5  \n",
      "ROAST BEEF PINWHEEL – HORSERADISH CREAM  8  \n",
      "SPICED SEARED AHI – SIRACHA AIOLI  7\n",
      "\n",
      "HOT SELECTIONS  \n",
      "PRICED PER PIECE – MINIMUM OF 50 PIECES IS REQUIRED  \n",
      "APPETIZERS ARE BUFFET STYLE – IF ATTENDANT IS REQUIRED, A FEE OF $100++ WILL APPLY.\n",
      "\n",
      "STUFFED POTATO SKIN – BACON, CHEESE, & PICO DE GALLO  5  \n",
      "VEGETABLE SPRING ROLL – SWEET & SOUR SAUCE  3  \n",
      "BEEF OR CHICKEN QUESADILLA TRIANGLE – SALSA ROJA  6  \n",
      "CHICKEN FINGER – RANCH & BBQ SAUCE  6  \n",
      "CHICKEN WING – BUFFALO SAUCE  4  \n",
      "ARTICHOKE PARM FRITTER  6  \n",
      "BUFFALO CHICKEN RAGOON  5\n",
      "\n",
      "COLD DISPLAYS  \n",
      "SEASONAL FRESH FRUIT – SERVES 50  135  \n",
      "IMPORTED & DOMESTIC CHEESE – SERVES 50  195  \n",
      "FRESH VEGETABLE CRUDITÉ – SERVES 50  120\n",
      "\n",
      "DESSERT SELECTIONS  \n",
      "ASSORTED COOKIES – SERVES 50  125  \n",
      "ASSORTED MINI MUFFINS & PASTRIES – SERVES 50  185  \n",
      "SEASONAL SHEET CAKE – SERVES 50  225\n",
      "\n",
      "ALL PRICES ARE SUBJECT TO A 20% TAXABLE SERVICE CHARGE AND APPLICABLE SALES TAX.  \n",
      "PRICES ARE SUBJECT TO CHANGE WITHOUT NOTICE.163  \n",
      "KEARNY VILLA RD  \n",
      "BALBOA AVE  \n",
      "MONTGOMERY-GIBBS EXECUTIVE AIRPORTOpenTable Diners’ Choice 2022SAN DIEGO'S BEST\n",
      "UNION-TRIBUNE READERS POLL\n",
      "2020\n",
      "                ==== image description ====\n",
      "            Rustic venue with ivy-covered stone building, wagon, and vibrant flowers, creating an old-world romantic theme.\n",
      "            ==== end of image description ====\n",
      "            \n",
      "                ==== image description ====\n",
      "            Rustic restaurant interior with wooden furniture and hanging plants, suitable for a casual or rustic-themed wedding reception.\n",
      "            ==== end of image description ====\n",
      "            94TH AERO SQUADRON RESTAURANT\n",
      "                ==== image description ====\n",
      "            Elegant wedding venue with indoor and outdoor settings, featuring decorated tables, floral arrangements, and a picturesque garden area.\n",
      "            ==== end of image description ====\n",
      "            \n",
      "                ==== image description ====\n",
      "            Gourmet wedding meal with salad, prime rib, and dessert.\n",
      "            ==== end of image description ====\n",
      "            \n",
      "                ==== image description ====\n",
      "            Elegant plated salad with shrimp, avocado, asparagus, tomatoes, eggs, and olives; likely for a wedding reception meal.\n",
      "            ==== end of image description ====\n",
      "            \n",
      "                ==== image description ====\n",
      "            Dessert plate featuring a decorated dessert with ice cream, nuts, and garnishing of cinnamon and syrup swirls, suitable for a wedding dessert option.\n",
      "            ==== end of image description ====\n",
      "            \n",
      "                ==== image description ====\n",
      "            Charming gazebo with outdoor seating, suitable for a garden wedding setting.\n",
      "            ==== end of image description ====\n",
      "            \n",
      "                ==== image description ====\n",
      "            Outdoor venue with colorful umbrellas and metal furniture, suitable for casual weddings.\n",
      "            ==== end of image description ====\n",
      "            Flight Deck\n",
      "                ==== image description ====\n",
      "            Outdoor wedding venue with round tables and white tablecloths overlooking an airfield.\n",
      "            ==== end of image description ====\n",
      "            \n",
      "                ==== image description ====\n",
      "            Rustic indoor wedding venue with elegant black and white theme, featuring red rose centerpieces and candle decorations.\n",
      "            ==== end of image description ====\n",
      "            \n",
      "                ==== image description ====\n",
      "            Elegant indoor dining setup with dark wood, large windows, and red rose centerpieces, suitable for intimate weddings.\n",
      "            ==== end of image description ====\n",
      "            PLATED BANQUET MENU\n",
      "\n",
      "Please select ONE SALAD and ONE DESSERT for your event.  \n",
      "Choice of Two Entrées (excluding Vegetarian Choice)  \n",
      "Add $3++/ per person for choice of Three Entrées  \n",
      "A minimum of 25 guests must be guaranteed (50 guests for private event).\n",
      "\n",
      "$65++ per person  \n",
      "plus service charge and sales tax\n",
      "\n",
      "SALADS\n",
      "\n",
      "WHITE BALSAMIC VINAIGRETTE or CLASSIC CAESAR  \n",
      "served with dinner rolls\n",
      "\n",
      "ENTRÉES\n",
      "\n",
      "PRIME RIB of BEEF  \n",
      "8 oz. slow-roasted, creamy horseradish, garlic mashed potatoes, seasonal vegetables\n",
      "\n",
      "OSSO BUCO  \n",
      "saffron risotto, gremolata\n",
      "\n",
      "AIRLINE CHICKEN  \n",
      "cilantro pumpkin seed pesto, wild rice pilaf, grilled broccolini, charred onion\n",
      "\n",
      "SEARED SALMON  \n",
      "dill mustard sauce, herb-roasted fingerling potatoes, asparagus\n",
      "\n",
      "VEGETARIAN PASTA  \n",
      "cilantro pesto, roasted heirloom tomato, grilled broccolini, asparagus, Parmigiano\n",
      "\n",
      "NEW YORK STRIP (ADD $10++ per person)  \n",
      "chimichurri, roasted garlic mashed potatoes, seasonal vegetables\n",
      "\n",
      "DESSERT\n",
      "\n",
      "TIRAMISU  \n",
      "CARROT CAKE  \n",
      "NEW YORK STYLE CHEESECAKE with fresh jam\n",
      "\n",
      "All prices subject to a 20% taxable service charge and applicable sales tax.  \n",
      "Final entrée counts are due four (4) business days before the event.  \n",
      "Custom menus may be designed upon request. Prices subject to change without notice.\n",
      "\n",
      "94TH AERO SQUADRON RESTAURANT\n",
      "\n",
      "info@94thsandiego.com (858) 560-6771\n",
      "\n",
      "8885 Balboa Avenue, San Diego CA 92123\n",
      "\n",
      "5/24\n",
      "                ==== image description ====\n",
      "            Rustic and charming outdoor venue with greenery and brick building.\n",
      "            ==== end of image description ====\n",
      "            Keys Creek Lavender Farms\n"
     ]
    }
   ],
   "source": [
    "text = \"\"\n",
    "for wedding_text in wedding_texts:\n",
    "    if wedding_text.is_photo:\n",
    "        text += f\"\"\"\n",
    "            ==== image description ====\n",
    "            {wedding_text.description}\n",
    "            ==== end of image description ====\n",
    "            \"\"\"\n",
    "    if wedding_text.text is not None:\n",
    "        text += wedding_text.text\n",
    "print(text)"
   ]
  },
  {
   "cell_type": "code",
   "execution_count": 2,
   "metadata": {},
   "outputs": [
    {
     "data": {
      "text/plain": [
       "{'width': 1757,\n",
       " 'height': 1153,\n",
       " 'total_pixels': 2025821,\n",
       " 'text_density': 0.00495107909336511,\n",
       " 'color_std': np.float64(59.85857381633642),\n",
       " 'edge_density': 0.09011309488844275,\n",
       " 'is_photo': True,\n",
       " 'has_text': True,\n",
       " 'extracted_text': 'Green Room'}"
      ]
     },
     "execution_count": 2,
     "metadata": {},
     "output_type": "execute_result"
    }
   ],
   "source": [
    "image_properties(figures[0])"
   ]
  }
 ],
 "metadata": {
  "kernelspec": {
   "display_name": ".venv",
   "language": "python",
   "name": "python3"
  },
  "language_info": {
   "codemirror_mode": {
    "name": "ipython",
    "version": 3
   },
   "file_extension": ".py",
   "mimetype": "text/x-python",
   "name": "python",
   "nbconvert_exporter": "python",
   "pygments_lexer": "ipython3",
   "version": "3.11.6"
  }
 },
 "nbformat": 4,
 "nbformat_minor": 2
}
