{
 "cells": [
  {
   "cell_type": "code",
   "execution_count": 1,
   "id": "66db20d0",
   "metadata": {},
   "outputs": [
    {
     "data": {
      "text/plain": [
       "Index(['City', 'Zip Code ', 'State', 'Country ', 'Email', 'Phone Number',\n",
       "       'Price', 'Price Breakdown', 'Menu Breakdown', 'Bar Breakdown',\n",
       "       'Groom and Bridal Set-Up', 'Ceremony Cost ', 'Guest Capacity ',\n",
       "       'Outside Food', 'Outside Alcohol', 'Outside Dessert ',\n",
       "       'Outside Wedding Coordinator', 'Outside Photographer ',\n",
       "       'Package Approach', 'Pricing Transparency ', 'Reception or Ceremony',\n",
       "       'Style', 'Indoor/Outdoor', 'Deposit and Payment Plans ', 'Privacy',\n",
       "       'Accommodations ', 'Photography Score ', 'Environmental ',\n",
       "       'What Time Does the Party Need to Stop', 'Late Night Eats ',\n",
       "       'General Vibe', 'Top Choices ', 'Menu Choices '],\n",
       "      dtype='object')"
      ]
     },
     "execution_count": 1,
     "metadata": {},
     "output_type": "execute_result"
    }
   ],
   "source": [
    "import logging\n",
    "import os\n",
    "from datetime import datetime\n",
    "\n",
    "import pandas as pd\n",
    "from dotenv import load_dotenv\n",
    "from pydantic import BaseModel\n",
    "from tqdm import tqdm\n",
    "\n",
    "\n",
    "logging.basicConfig(level=logging.WARNING)\n",
    "load_dotenv()\n",
    "df = pd.read_excel(\"Wedding Values.xlsx\")\n",
    "df.columns"
   ]
  },
  {
   "cell_type": "code",
   "execution_count": 2,
   "id": "ae00183c",
   "metadata": {},
   "outputs": [],
   "source": [
    "from wedding_venue_models import *"
   ]
  },
  {
   "cell_type": "code",
   "execution_count": 3,
   "id": "7e7ff88f",
   "metadata": {},
   "outputs": [],
   "source": [
    "models = [\n",
    "    WeddingContactInfo,\n",
    "    FoodBreakdown,\n",
    "    WeddingFoodInfo,\n",
    "    BarBreakdown,\n",
    "    WeddingVenuePricingSummary,\n",
    "    WeddingVenueStyle,\n",
    "    WeddingVenueOther,\n",
    "]"
   ]
  },
  {
   "cell_type": "code",
   "execution_count": 4,
   "id": "cfdae0e9",
   "metadata": {},
   "outputs": [],
   "source": [
    "from itertools import chain\n",
    "from typing import get_args\n",
    "\n",
    "import numpy as np\n",
    "from openpyxl.styles import Font, PatternFill\n",
    "\n",
    "\n",
    "def assert_keys_in_readable_columns(\n",
    "    models: list[type[BaseModel]], readable_columns: dict[str, str]\n",
    ") -> None:\n",
    "    keys = list(\n",
    "        chain.from_iterable(\n",
    "            [\n",
    "                [\n",
    "                    model.__name__ + \"_\" + key\n",
    "                    for key in np.array(list(model.model_fields.keys()))\n",
    "                ]\n",
    "                for model in models\n",
    "            ]\n",
    "        )\n",
    "    )\n",
    "    keys = [\n",
    "        str(key).replace(\"_tiers\", \"_summary\").replace(\"_options\", \"_summary\")\n",
    "        for key in keys\n",
    "    ]\n",
    "    keys\n",
    "    assert set(keys) - set(readable_columns.keys()) == set(), (\n",
    "        f\"missing keys in readable_columns: {set(keys) - set(readable_columns.keys())}\"\n",
    "    )\n",
    "\n",
    "\n",
    "readable_columns = {\n",
    "    \"venue\": \"wedding venue\",\n",
    "    \"WeddingVenuePricingSummary_price\": \"price per guest\",\n",
    "    \"WeddingVenuePricingSummary_base_prices\": \"price breakdown\",\n",
    "    \"WeddingVenuePricingSummary_taxes_and_fees\": \"price breakdown taxes and fees\",\n",
    "    \"WeddingVenuePricingSummary_flexibility\": \"venue customization flexibility\",\n",
    "    # \"WeddingPriceInfo_option\": \"options\",\n",
    "    \"WeddingContactInfo_city\": \"city\",\n",
    "    \"WeddingContactInfo_state\": \"state\",\n",
    "    \"WeddingContactInfo_country\": \"country\",\n",
    "    \"WeddingContactInfo_zip_code\": \"zip code\",\n",
    "    \"WeddingContactInfo_email\": \"email\",\n",
    "    \"WeddingContactInfo_website\": \"website\",\n",
    "    \"WeddingContactInfo_phone\": \"phone\",\n",
    "    \"WeddingContactInfo_facebook\": \"facebook\",\n",
    "    \"WeddingContactInfo_instagram\": \"instagram\",\n",
    "    # \"WeddingVenuePricingSummary_summary\": \"venue pricing summary\",\n",
    "    \"FoodBreakdown_summary\": \"food menu breakdown\",\n",
    "    \"FoodBreakdown_flexibility\": \"food menu flexibility\",\n",
    "    \"BarBreakdown_summary\": \"bar menu breakdown\",\n",
    "    \"BarBreakdown_flexibility\": \"bar menu flexibility\",\n",
    "    \"WeddingVenuePricingSummary_pricing_transparency\": \"pricing transparency\",\n",
    "    \"WeddingVenuePricingSummary_deposit_and_payment_plans\": \"deposit and payment plans\",\n",
    "    \"WeddingVenueStyle_style\": \"style\",\n",
    "    \"WeddingVenueStyle_indoor_outdoor\": \"indoor/outdoor seating\",\n",
    "    \"WeddingVenueStyle_privacy\": \"privacy\",\n",
    "    \"WeddingVenueStyle_accommodations\": \"accommodations\",\n",
    "    \"WeddingVenueStyle_environmental\": \"environmental\",\n",
    "    \"WeddingVenueStyle_general_vibe\": \"general vibe\",\n",
    "    \"WeddingFoodInfo_east_asian_food\": \"serves east asian food\",\n",
    "    \"WeddingFoodInfo_gluten_free_food\": \"serves gluten free food\",\n",
    "    \"WeddingFoodInfo_halal_food\": \"serves halal food\",\n",
    "    \"WeddingFoodInfo_indian_food\": \"serves indian food\",\n",
    "    \"WeddingFoodInfo_kosher_food\": \"serves kosher food\",\n",
    "    \"WeddingFoodInfo_late_night_food\": \"serves late night food\",\n",
    "    \"WeddingFoodInfo_other_ethnic_food_style\": \"serves other ethnic food\",\n",
    "    \"WeddingFoodInfo_outside_alcohol_allowed\": \"allows outside alcohol\",\n",
    "    \"WeddingFoodInfo_outside_dessert_allowed\": \"allows outside dessert\",\n",
    "    \"WeddingFoodInfo_outside_food_allowed\": \"allows outside food\",\n",
    "    \"WeddingVenueOther_guest_capacity\": \"guest capacity\",\n",
    "    \"WeddingVenueOther_what_time_does_the_party_need_to_stop\": \"what time does the party need to stop\",\n",
    "    \"WeddingVenueOther_outside_photographer\": \"allows outside photographer\",\n",
    "    \"WeddingVenueOther_package_approach\": \"package approach\",\n",
    "    \"WeddingVenueOther_outside_wedding_coordinator\": \"allows outside wedding coordinator\",\n",
    "    \"WeddingVenueOther_reception_or_ceremony\": \"reception or ceremony\",\n",
    "    \"WeddingVenueOther_top_choices\": \"top choices\",\n",
    "}\n",
    "\n",
    "\n",
    "assert_keys_in_readable_columns(models, readable_columns)\n",
    "\n",
    "\n",
    "def flatten_dict(d: dict, parent_key: str = \"\", sep: str = \"_\") -> dict:\n",
    "    \"\"\"Flatten a nested dictionary by concatenating nested keys with a separator.\n",
    "\n",
    "    Parameters\n",
    "    ----------\n",
    "    d : dict\n",
    "        The dictionary to flatten\n",
    "    parent_key : str, optional\n",
    "        The parent key for nested dictionaries, by default \"\"\n",
    "    sep : str, optional\n",
    "        The separator to use between nested keys, by default \"_\"\n",
    "\n",
    "    Returns\n",
    "    -------\n",
    "    dict\n",
    "        A flattened dictionary with concatenated keys\n",
    "\n",
    "    Examples\n",
    "    --------\n",
    "    >>> d = {\"a\": 1, \"b\": {\"c\": 2, \"d\": {\"e\": 3}}}\n",
    "    >>> flatten_dict(d)\n",
    "    {'a': 1, 'b_c': 2, 'b_d_e': 3}\n",
    "    \"\"\"\n",
    "    items: list = []\n",
    "    for k, v in d.items():\n",
    "        new_key = f\"{parent_key}{sep}{k}\" if parent_key else k\n",
    "        if isinstance(v, dict):\n",
    "            items.extend(flatten_dict(v, new_key, sep).items())\n",
    "        else:\n",
    "            items.append((new_key, v))\n",
    "    return dict(items)\n",
    "\n",
    "\n",
    "class WeddingVenue:\n",
    "    def __init__(self, venue_name: str, raw: list[BaseModel]):\n",
    "        item_dict = {\"venue\": venue_name}\n",
    "        for item in raw:\n",
    "            obj_dict = item.model_dump()\n",
    "            if \"tiers\" in obj_dict:\n",
    "                obj_dict.pop(\"tiers\")\n",
    "                obj_dict[\"summary\"] = item.to_string()\n",
    "\n",
    "            if \"options\" in obj_dict:\n",
    "                obj_dict.pop(\"options\")\n",
    "                obj_dict[\"summary\"] = item.to_string()\n",
    "\n",
    "            item_dict[item.__class__.__name__] = obj_dict\n",
    "\n",
    "        self.df = pd.DataFrame()\n",
    "        self.update(item_dict)\n",
    "\n",
    "    def add_price_breakdown(self) -> None:\n",
    "        self.df[\"price breakdown\"] = self.df[\n",
    "            [\n",
    "                \"price breakdown\",\n",
    "                \"price breakdown taxes and fees\",\n",
    "            ]\n",
    "        ].apply(\n",
    "            lambda x: f\"\"\"\n",
    "                base prices: {x.iloc[0]}\n",
    "                taxes and fees: {x.iloc[1]}\n",
    "                \"\"\",\n",
    "            axis=1,\n",
    "        )\n",
    "        del self.df[\"price breakdown taxes and fees\"]\n",
    "\n",
    "    def add_bar_flexibility(self) -> None:\n",
    "        self.df[\"bar menu flexibility info\"] = self.df[\"bar menu flexibility\"]\n",
    "        args = get_args(BarBreakdown.model_fields[\"flexibility\"].annotation)\n",
    "        self.df[\"bar menu flexibility\"] = self.df[\"bar menu flexibility\"].map(\n",
    "            lambda x: len(args) - args.index(x)\n",
    "        )\n",
    "\n",
    "    def add_indoor_outdoor_seating(self) -> None:\n",
    "        self.df[\"indoor/outdoor seating info\"] = self.df[\"indoor/outdoor seating\"]\n",
    "        args = get_args(WeddingVenueStyle.model_fields[\"indoor_outdoor\"].annotation)\n",
    "        self.df[\"indoor/outdoor seating\"] = self.df[\"indoor/outdoor seating\"].map(\n",
    "            lambda x: args.index(x) if args.index(x) != len(args) else \"X\"\n",
    "        )\n",
    "\n",
    "    def update(self, d: dict) -> None:\n",
    "        self.df = pd.DataFrame(flatten_dict(d), index=[0])\n",
    "        self.rename_columns()\n",
    "        self.add_price_breakdown()\n",
    "        self.add_bar_flexibility()\n",
    "        self.add_indoor_outdoor_seating()\n",
    "\n",
    "    def _repr_html_(self) -> str:\n",
    "        return self.df._repr_html_()\n",
    "\n",
    "    def rename_columns(self) -> None:\n",
    "        \"\"\"Rename and reorder columns based on readable_columns dictionary.\"\"\"\n",
    "        self.df.rename(columns=readable_columns, inplace=True)\n",
    "        self.df.set_index(\"wedding venue\", inplace=True)\n",
    "        ordered_columns = [\n",
    "            col for col in readable_columns.values() if col != \"wedding venue\"\n",
    "        ]\n",
    "        self.df = self.df.reindex(columns=ordered_columns)\n",
    "\n",
    "    def to_excel(self, name: str = \"wedding_venue.xlsx\"):\n",
    "        if not name.endswith(\".xlsx\"):\n",
    "            name = f\"{name}.xlsx\"\n",
    "        if os.path.exists(name):\n",
    "            name = f\"{name}_{datetime.now().strftime('%Y%m%d_%H%M%S')}.xlsx\"\n",
    "        print(\"saving to: \", name)\n",
    "        with pd.ExcelWriter(name, engine=\"openpyxl\") as writer:\n",
    "            self.df.to_excel(writer, sheet_name=\"Venue Options\")\n",
    "\n",
    "            worksheet = writer.sheets[\"Venue Options\"]\n",
    "\n",
    "            header_fill = PatternFill(\n",
    "                start_color=\"B3E5FC\", end_color=\"B3E5FC\", fill_type=\"solid\"\n",
    "            )\n",
    "            header_font = Font(bold=True)\n",
    "\n",
    "            for col in range(1, len(df.columns) + 1):\n",
    "                cell = worksheet.cell(row=1, column=col)\n",
    "                cell.fill = header_fill\n",
    "                cell.font = header_font\n",
    "\n",
    "            for col in worksheet.columns:\n",
    "                max_length = 0\n",
    "                column = col[0].column_letter\n",
    "                for cell in col:\n",
    "                    if cell.value:\n",
    "                        max_length = max(max_length, len(str(cell.value)))\n",
    "                adjusted_width = max_length + 2\n",
    "                worksheet.column_dimensions[column].width = min(adjusted_width, 50)\n",
    "\n",
    "            worksheet.auto_filter.ref = worksheet.dimensions\n",
    "\n",
    "        self.df.to_excel(writer, sheet_name=\"Venue Options\")\n",
    "        return self\n",
    "\n",
    "    def __add__(self, other: \"WeddingVenue\") -> \"WeddingVenue\":\n",
    "        self.df = pd.concat([self.df, other.df])\n",
    "        return self"
   ]
  },
  {
   "cell_type": "code",
   "execution_count": 5,
   "id": "d2b87c55",
   "metadata": {},
   "outputs": [
    {
     "name": "stderr",
     "output_type": "stream",
     "text": [
      "Processing venues:   0%|          | 0/5 [00:00<?, ?file/s]"
     ]
    },
    {
     "name": "stdout",
     "output_type": "stream",
     "text": [
      "Processing: Aliso Viejo Wedgewood.md\n"
     ]
    },
    {
     "name": "stderr",
     "output_type": "stream",
     "text": [
      "Processing venues:   0%|          | 0/5 [00:02<?, ?file/s]"
     ]
    },
    {
     "name": "stdout",
     "output_type": "stream",
     "text": [
      "✓ Processed WeddingContactInfo for: Aliso Viejo Wedgewood\n"
     ]
    },
    {
     "name": "stderr",
     "output_type": "stream",
     "text": [
      "Processing venues:   0%|          | 0/5 [00:05<?, ?file/s]"
     ]
    },
    {
     "name": "stdout",
     "output_type": "stream",
     "text": [
      "✓ Processed FoodBreakdown for: Aliso Viejo Wedgewood\n"
     ]
    },
    {
     "name": "stderr",
     "output_type": "stream",
     "text": [
      "Processing venues:   0%|          | 0/5 [00:07<?, ?file/s]"
     ]
    },
    {
     "name": "stdout",
     "output_type": "stream",
     "text": [
      "✓ Processed WeddingFoodInfo for: Aliso Viejo Wedgewood\n"
     ]
    },
    {
     "name": "stderr",
     "output_type": "stream",
     "text": [
      "Processing venues:   0%|          | 0/5 [00:09<?, ?file/s]"
     ]
    },
    {
     "name": "stdout",
     "output_type": "stream",
     "text": [
      "✓ Processed BarBreakdown for: Aliso Viejo Wedgewood\n"
     ]
    },
    {
     "name": "stderr",
     "output_type": "stream",
     "text": [
      "Processing venues:   0%|          | 0/5 [00:11<?, ?file/s]"
     ]
    },
    {
     "name": "stdout",
     "output_type": "stream",
     "text": [
      "✓ Processed WeddingVenuePricingSummary for: Aliso Viejo Wedgewood\n"
     ]
    },
    {
     "name": "stderr",
     "output_type": "stream",
     "text": [
      "Processing venues:   0%|          | 0/5 [00:13<?, ?file/s]"
     ]
    },
    {
     "name": "stdout",
     "output_type": "stream",
     "text": [
      "✓ Processed WeddingVenueStyle for: Aliso Viejo Wedgewood\n"
     ]
    },
    {
     "name": "stderr",
     "output_type": "stream",
     "text": [
      "Processing venues:  20%|██        | 1/5 [00:14<00:59, 14.80s/file]"
     ]
    },
    {
     "name": "stdout",
     "output_type": "stream",
     "text": [
      "✓ Processed WeddingVenueOther for: Aliso Viejo Wedgewood\n",
      "Processing: Alcazar Palm Springs.md\n"
     ]
    },
    {
     "name": "stderr",
     "output_type": "stream",
     "text": [
      "Processing venues:  20%|██        | 1/5 [00:15<00:59, 14.80s/file]"
     ]
    },
    {
     "name": "stdout",
     "output_type": "stream",
     "text": [
      "✓ Processed WeddingContactInfo for: Alcazar Palm Springs\n"
     ]
    },
    {
     "name": "stderr",
     "output_type": "stream",
     "text": [
      "Processing venues:  20%|██        | 1/5 [00:17<00:59, 14.80s/file]"
     ]
    },
    {
     "name": "stdout",
     "output_type": "stream",
     "text": [
      "✓ Processed FoodBreakdown for: Alcazar Palm Springs\n"
     ]
    },
    {
     "name": "stderr",
     "output_type": "stream",
     "text": [
      "Processing venues:  20%|██        | 1/5 [00:18<00:59, 14.80s/file]"
     ]
    },
    {
     "name": "stdout",
     "output_type": "stream",
     "text": [
      "✓ Processed WeddingFoodInfo for: Alcazar Palm Springs\n"
     ]
    },
    {
     "name": "stderr",
     "output_type": "stream",
     "text": [
      "Processing venues:  20%|██        | 1/5 [00:20<00:59, 14.80s/file]"
     ]
    },
    {
     "name": "stdout",
     "output_type": "stream",
     "text": [
      "✓ Processed BarBreakdown for: Alcazar Palm Springs\n"
     ]
    },
    {
     "name": "stderr",
     "output_type": "stream",
     "text": [
      "Processing venues:  20%|██        | 1/5 [00:23<00:59, 14.80s/file]"
     ]
    },
    {
     "name": "stdout",
     "output_type": "stream",
     "text": [
      "✓ Processed WeddingVenuePricingSummary for: Alcazar Palm Springs\n"
     ]
    },
    {
     "name": "stderr",
     "output_type": "stream",
     "text": [
      "Processing venues:  20%|██        | 1/5 [00:25<00:59, 14.80s/file]"
     ]
    },
    {
     "name": "stdout",
     "output_type": "stream",
     "text": [
      "✓ Processed WeddingVenueStyle for: Alcazar Palm Springs\n"
     ]
    },
    {
     "name": "stderr",
     "output_type": "stream",
     "text": [
      "Processing venues:  40%|████      | 2/5 [00:26<00:39, 13.10s/file]"
     ]
    },
    {
     "name": "stdout",
     "output_type": "stream",
     "text": [
      "✓ Processed WeddingVenueOther for: Alcazar Palm Springs\n",
      "Processing: Almansor Court.md\n"
     ]
    },
    {
     "name": "stderr",
     "output_type": "stream",
     "text": [
      "Processing venues:  40%|████      | 2/5 [00:28<00:39, 13.10s/file]"
     ]
    },
    {
     "name": "stdout",
     "output_type": "stream",
     "text": [
      "✓ Processed WeddingContactInfo for: Almansor Court\n"
     ]
    },
    {
     "name": "stderr",
     "output_type": "stream",
     "text": [
      "Processing venues:  40%|████      | 2/5 [00:28<00:42, 14.25s/file]\n"
     ]
    },
    {
     "ename": "ClientError",
     "evalue": "429 RESOURCE_EXHAUSTED. {'error': {'code': 429, 'message': 'You exceeded your current quota, please check your plan and billing details. For more information on this error, head to: https://ai.google.dev/gemini-api/docs/rate-limits.', 'status': 'RESOURCE_EXHAUSTED', 'details': [{'@type': 'type.googleapis.com/google.rpc.QuotaFailure', 'violations': [{'quotaMetric': 'generativelanguage.googleapis.com/generate_content_free_tier_requests', 'quotaId': 'GenerateRequestsPerMinutePerProjectPerModel-FreeTier', 'quotaDimensions': {'model': 'gemini-2.0-flash', 'location': 'global'}, 'quotaValue': '15'}]}, {'@type': 'type.googleapis.com/google.rpc.Help', 'links': [{'description': 'Learn more about Gemini API quotas', 'url': 'https://ai.google.dev/gemini-api/docs/rate-limits'}]}, {'@type': 'type.googleapis.com/google.rpc.RetryInfo', 'retryDelay': '32s'}]}}",
     "output_type": "error",
     "traceback": [
      "\u001b[31m---------------------------------------------------------------------------\u001b[39m",
      "\u001b[31mClientError\u001b[39m                               Traceback (most recent call last)",
      "\u001b[36mCell\u001b[39m\u001b[36m \u001b[39m\u001b[32mIn[5]\u001b[39m\u001b[32m, line 96\u001b[39m\n\u001b[32m     94\u001b[39m     temperature = \u001b[32m0\u001b[39m\n\u001b[32m     95\u001b[39m     ai_model = \u001b[33m\"\u001b[39m\u001b[33mgemini-2.0-flash-001\u001b[39m\u001b[33m\"\u001b[39m\n\u001b[32m---> \u001b[39m\u001b[32m96\u001b[39m     obj = \u001b[43mresponse\u001b[49m\u001b[43m.\u001b[49m\u001b[43mresponse\u001b[49m\u001b[43m(\u001b[49m\n\u001b[32m     97\u001b[39m \u001b[43m        \u001b[49m\u001b[43mmodel\u001b[49m\u001b[43m=\u001b[49m\u001b[43mai_model\u001b[49m\u001b[43m,\u001b[49m\n\u001b[32m     98\u001b[39m \u001b[43m        \u001b[49m\u001b[43msystem_prompt\u001b[49m\u001b[43m=\u001b[49m\u001b[43msystem_prompt\u001b[49m\u001b[43m,\u001b[49m\n\u001b[32m     99\u001b[39m \u001b[43m        \u001b[49m\u001b[43muser_prompt\u001b[49m\u001b[43m=\u001b[49m\u001b[33;43mf\u001b[39;49m\u001b[33;43m\"\u001b[39;49m\u001b[33;43mExtract venue information from this text about \u001b[39;49m\u001b[33;43m'\u001b[39;49m\u001b[38;5;132;43;01m{\u001b[39;49;00m\u001b[43mvenue_name\u001b[49m\u001b[38;5;132;43;01m}\u001b[39;49;00m\u001b[33;43m'\u001b[39;49m\u001b[33;43m:\u001b[39;49m\u001b[38;5;130;43;01m\\n\u001b[39;49;00m\u001b[38;5;130;43;01m\\n\u001b[39;49;00m\u001b[38;5;132;43;01m{\u001b[39;49;00m\u001b[43mmd_content\u001b[49m\u001b[38;5;132;43;01m}\u001b[39;49;00m\u001b[33;43m\"\u001b[39;49m\u001b[43m,\u001b[49m\n\u001b[32m    100\u001b[39m \u001b[43m        \u001b[49m\u001b[43mresponse_format\u001b[49m\u001b[43m=\u001b[49m\u001b[43mmodel_class\u001b[49m\u001b[43m,\u001b[49m\n\u001b[32m    101\u001b[39m \u001b[43m        \u001b[49m\u001b[43mtemperature\u001b[49m\u001b[43m=\u001b[49m\u001b[43mtemperature\u001b[49m\u001b[43m,\u001b[49m\n\u001b[32m    102\u001b[39m \u001b[43m    \u001b[49m\u001b[43m)\u001b[49m\n\u001b[32m    103\u001b[39m raw.append(obj)\n\u001b[32m    104\u001b[39m \u001b[38;5;28;01mif\u001b[39;00m \u001b[38;5;28mhasattr\u001b[39m(obj, \u001b[33m\"\u001b[39m\u001b[33mto_string\u001b[39m\u001b[33m\"\u001b[39m):\n",
      "\u001b[36mCell\u001b[39m\u001b[36m \u001b[39m\u001b[32mIn[5]\u001b[39m\u001b[32m, line 42\u001b[39m, in \u001b[36mResponse._response_google\u001b[39m\u001b[34m(self, model, system_prompt, user_prompt, response_format, temperature)\u001b[39m\n\u001b[32m     38\u001b[39m \u001b[38;5;28;01mdef\u001b[39;00m\u001b[38;5;250m \u001b[39m\u001b[34m_response_google\u001b[39m(\n\u001b[32m     39\u001b[39m     \u001b[38;5;28mself\u001b[39m, model, system_prompt, user_prompt, response_format, temperature\n\u001b[32m     40\u001b[39m ):\n\u001b[32m     41\u001b[39m     client = genai.Client(api_key=os.getenv(\u001b[33m\"\u001b[39m\u001b[33mGEMINI_API_KEY\u001b[39m\u001b[33m\"\u001b[39m))\n\u001b[32m---> \u001b[39m\u001b[32m42\u001b[39m     response = \u001b[43mclient\u001b[49m\u001b[43m.\u001b[49m\u001b[43mmodels\u001b[49m\u001b[43m.\u001b[49m\u001b[43mgenerate_content\u001b[49m\u001b[43m(\u001b[49m\n\u001b[32m     43\u001b[39m \u001b[43m        \u001b[49m\u001b[43mmodel\u001b[49m\u001b[43m=\u001b[49m\u001b[43mmodel\u001b[49m\u001b[43m,\u001b[49m\n\u001b[32m     44\u001b[39m \u001b[43m        \u001b[49m\u001b[43mcontents\u001b[49m\u001b[43m=\u001b[49m\u001b[33;43mf\u001b[39;49m\u001b[33;43m\"\u001b[39;49m\u001b[38;5;132;43;01m{\u001b[39;49;00m\u001b[43msystem_prompt\u001b[49m\u001b[38;5;132;43;01m}\u001b[39;49;00m\u001b[38;5;130;43;01m\\n\u001b[39;49;00m\u001b[38;5;132;43;01m{\u001b[39;49;00m\u001b[43muser_prompt\u001b[49m\u001b[38;5;132;43;01m}\u001b[39;49;00m\u001b[33;43m\"\u001b[39;49m\u001b[43m,\u001b[49m\n\u001b[32m     45\u001b[39m \u001b[43m        \u001b[49m\u001b[43mconfig\u001b[49m\u001b[43m=\u001b[49m\u001b[43m{\u001b[49m\n\u001b[32m     46\u001b[39m \u001b[43m            \u001b[49m\u001b[33;43m\"\u001b[39;49m\u001b[33;43mresponse_mime_type\u001b[39;49m\u001b[33;43m\"\u001b[39;49m\u001b[43m:\u001b[49m\u001b[43m \u001b[49m\u001b[33;43m\"\u001b[39;49m\u001b[33;43mapplication/json\u001b[39;49m\u001b[33;43m\"\u001b[39;49m\u001b[43m,\u001b[49m\n\u001b[32m     47\u001b[39m \u001b[43m            \u001b[49m\u001b[33;43m\"\u001b[39;49m\u001b[33;43mresponse_schema\u001b[39;49m\u001b[33;43m\"\u001b[39;49m\u001b[43m:\u001b[49m\u001b[43m \u001b[49m\u001b[43mresponse_format\u001b[49m\u001b[43m,\u001b[49m\n\u001b[32m     48\u001b[39m \u001b[43m        \u001b[49m\u001b[43m}\u001b[49m\u001b[43m,\u001b[49m\n\u001b[32m     49\u001b[39m \u001b[43m    \u001b[49m\u001b[43m)\u001b[49m\n\u001b[32m     50\u001b[39m     \u001b[38;5;28;01mreturn\u001b[39;00m response.parsed\n",
      "\u001b[36mFile \u001b[39m\u001b[32m~/Documents/private/playground_tables/.venv/lib/python3.11/site-packages/google/genai/models.py:4959\u001b[39m, in \u001b[36mModels.generate_content\u001b[39m\u001b[34m(self, model, contents, config)\u001b[39m\n\u001b[32m   4957\u001b[39m \u001b[38;5;28;01mwhile\u001b[39;00m remaining_remote_calls_afc > \u001b[32m0\u001b[39m:\n\u001b[32m   4958\u001b[39m   i += \u001b[32m1\u001b[39m\n\u001b[32m-> \u001b[39m\u001b[32m4959\u001b[39m   response = \u001b[38;5;28;43mself\u001b[39;49m\u001b[43m.\u001b[49m\u001b[43m_generate_content\u001b[49m\u001b[43m(\u001b[49m\n\u001b[32m   4960\u001b[39m \u001b[43m      \u001b[49m\u001b[43mmodel\u001b[49m\u001b[43m=\u001b[49m\u001b[43mmodel\u001b[49m\u001b[43m,\u001b[49m\u001b[43m \u001b[49m\u001b[43mcontents\u001b[49m\u001b[43m=\u001b[49m\u001b[43mcontents\u001b[49m\u001b[43m,\u001b[49m\u001b[43m \u001b[49m\u001b[43mconfig\u001b[49m\u001b[43m=\u001b[49m\u001b[43mconfig\u001b[49m\n\u001b[32m   4961\u001b[39m \u001b[43m  \u001b[49m\u001b[43m)\u001b[49m\n\u001b[32m   4962\u001b[39m   logger.info(\u001b[33mf\u001b[39m\u001b[33m'\u001b[39m\u001b[33mAFC remote call \u001b[39m\u001b[38;5;132;01m{\u001b[39;00mi\u001b[38;5;132;01m}\u001b[39;00m\u001b[33m is done.\u001b[39m\u001b[33m'\u001b[39m)\n\u001b[32m   4963\u001b[39m   remaining_remote_calls_afc -= \u001b[32m1\u001b[39m\n",
      "\u001b[36mFile \u001b[39m\u001b[32m~/Documents/private/playground_tables/.venv/lib/python3.11/site-packages/google/genai/models.py:3935\u001b[39m, in \u001b[36mModels._generate_content\u001b[39m\u001b[34m(self, model, contents, config)\u001b[39m\n\u001b[32m   3932\u001b[39m request_dict = _common.convert_to_dict(request_dict)\n\u001b[32m   3933\u001b[39m request_dict = _common.encode_unserializable_types(request_dict)\n\u001b[32m-> \u001b[39m\u001b[32m3935\u001b[39m response_dict = \u001b[38;5;28;43mself\u001b[39;49m\u001b[43m.\u001b[49m\u001b[43m_api_client\u001b[49m\u001b[43m.\u001b[49m\u001b[43mrequest\u001b[49m\u001b[43m(\u001b[49m\n\u001b[32m   3936\u001b[39m \u001b[43m    \u001b[49m\u001b[33;43m'\u001b[39;49m\u001b[33;43mpost\u001b[39;49m\u001b[33;43m'\u001b[39;49m\u001b[43m,\u001b[49m\u001b[43m \u001b[49m\u001b[43mpath\u001b[49m\u001b[43m,\u001b[49m\u001b[43m \u001b[49m\u001b[43mrequest_dict\u001b[49m\u001b[43m,\u001b[49m\u001b[43m \u001b[49m\u001b[43mhttp_options\u001b[49m\n\u001b[32m   3937\u001b[39m \u001b[43m\u001b[49m\u001b[43m)\u001b[49m\n\u001b[32m   3939\u001b[39m \u001b[38;5;28;01mif\u001b[39;00m \u001b[38;5;28mself\u001b[39m._api_client.vertexai:\n\u001b[32m   3940\u001b[39m   response_dict = _GenerateContentResponse_from_vertex(\n\u001b[32m   3941\u001b[39m       \u001b[38;5;28mself\u001b[39m._api_client, response_dict\n\u001b[32m   3942\u001b[39m   )\n",
      "\u001b[36mFile \u001b[39m\u001b[32m~/Documents/private/playground_tables/.venv/lib/python3.11/site-packages/google/genai/_api_client.py:674\u001b[39m, in \u001b[36mBaseApiClient.request\u001b[39m\u001b[34m(self, http_method, path, request_dict, http_options)\u001b[39m\n\u001b[32m    664\u001b[39m \u001b[38;5;28;01mdef\u001b[39;00m\u001b[38;5;250m \u001b[39m\u001b[34mrequest\u001b[39m(\n\u001b[32m    665\u001b[39m     \u001b[38;5;28mself\u001b[39m,\n\u001b[32m    666\u001b[39m     http_method: \u001b[38;5;28mstr\u001b[39m,\n\u001b[32m   (...)\u001b[39m\u001b[32m    669\u001b[39m     http_options: Optional[HttpOptionsOrDict] = \u001b[38;5;28;01mNone\u001b[39;00m,\n\u001b[32m    670\u001b[39m ):\n\u001b[32m    671\u001b[39m   http_request = \u001b[38;5;28mself\u001b[39m._build_request(\n\u001b[32m    672\u001b[39m       http_method, path, request_dict, http_options\n\u001b[32m    673\u001b[39m   )\n\u001b[32m--> \u001b[39m\u001b[32m674\u001b[39m   response = \u001b[38;5;28;43mself\u001b[39;49m\u001b[43m.\u001b[49m\u001b[43m_request\u001b[49m\u001b[43m(\u001b[49m\u001b[43mhttp_request\u001b[49m\u001b[43m,\u001b[49m\u001b[43m \u001b[49m\u001b[43mstream\u001b[49m\u001b[43m=\u001b[49m\u001b[38;5;28;43;01mFalse\u001b[39;49;00m\u001b[43m)\u001b[49m\n\u001b[32m    675\u001b[39m   json_response = response.json\n\u001b[32m    676\u001b[39m   \u001b[38;5;28;01mif\u001b[39;00m \u001b[38;5;129;01mnot\u001b[39;00m json_response:\n",
      "\u001b[36mFile \u001b[39m\u001b[32m~/Documents/private/playground_tables/.venv/lib/python3.11/site-packages/google/genai/_api_client.py:603\u001b[39m, in \u001b[36mBaseApiClient._request\u001b[39m\u001b[34m(self, http_request, stream)\u001b[39m\n\u001b[32m    595\u001b[39m \u001b[38;5;28;01melse\u001b[39;00m:\n\u001b[32m    596\u001b[39m   response = \u001b[38;5;28mself\u001b[39m._httpx_client.request(\n\u001b[32m    597\u001b[39m       method=http_request.method,\n\u001b[32m    598\u001b[39m       url=http_request.url,\n\u001b[32m   (...)\u001b[39m\u001b[32m    601\u001b[39m       timeout=http_request.timeout,\n\u001b[32m    602\u001b[39m   )\n\u001b[32m--> \u001b[39m\u001b[32m603\u001b[39m   \u001b[43merrors\u001b[49m\u001b[43m.\u001b[49m\u001b[43mAPIError\u001b[49m\u001b[43m.\u001b[49m\u001b[43mraise_for_response\u001b[49m\u001b[43m(\u001b[49m\u001b[43mresponse\u001b[49m\u001b[43m)\u001b[49m\n\u001b[32m    604\u001b[39m   \u001b[38;5;28;01mreturn\u001b[39;00m HttpResponse(\n\u001b[32m    605\u001b[39m       response.headers, response \u001b[38;5;28;01mif\u001b[39;00m stream \u001b[38;5;28;01melse\u001b[39;00m [response.text]\n\u001b[32m    606\u001b[39m   )\n",
      "\u001b[36mFile \u001b[39m\u001b[32m~/Documents/private/playground_tables/.venv/lib/python3.11/site-packages/google/genai/errors.py:101\u001b[39m, in \u001b[36mAPIError.raise_for_response\u001b[39m\u001b[34m(cls, response)\u001b[39m\n\u001b[32m     99\u001b[39m status_code = response.status_code\n\u001b[32m    100\u001b[39m \u001b[38;5;28;01mif\u001b[39;00m \u001b[32m400\u001b[39m <= status_code < \u001b[32m500\u001b[39m:\n\u001b[32m--> \u001b[39m\u001b[32m101\u001b[39m   \u001b[38;5;28;01mraise\u001b[39;00m ClientError(status_code, response_json, response)\n\u001b[32m    102\u001b[39m \u001b[38;5;28;01melif\u001b[39;00m \u001b[32m500\u001b[39m <= status_code < \u001b[32m600\u001b[39m:\n\u001b[32m    103\u001b[39m   \u001b[38;5;28;01mraise\u001b[39;00m ServerError(status_code, response_json, response)\n",
      "\u001b[31mClientError\u001b[39m: 429 RESOURCE_EXHAUSTED. {'error': {'code': 429, 'message': 'You exceeded your current quota, please check your plan and billing details. For more information on this error, head to: https://ai.google.dev/gemini-api/docs/rate-limits.', 'status': 'RESOURCE_EXHAUSTED', 'details': [{'@type': 'type.googleapis.com/google.rpc.QuotaFailure', 'violations': [{'quotaMetric': 'generativelanguage.googleapis.com/generate_content_free_tier_requests', 'quotaId': 'GenerateRequestsPerMinutePerProjectPerModel-FreeTier', 'quotaDimensions': {'model': 'gemini-2.0-flash', 'location': 'global'}, 'quotaValue': '15'}]}, {'@type': 'type.googleapis.com/google.rpc.Help', 'links': [{'description': 'Learn more about Gemini API quotas', 'url': 'https://ai.google.dev/gemini-api/docs/rate-limits'}]}, {'@type': 'type.googleapis.com/google.rpc.RetryInfo', 'retryDelay': '32s'}]}}"
     ]
    }
   ],
   "source": [
    "# Setup\n",
    "from pathlib import Path\n",
    "\n",
    "import openai\n",
    "from openai import OpenAI\n",
    "from google import genai\n",
    "from typing import Literal\n",
    "\n",
    "\n",
    "class Response:\n",
    "    def __init__(self, ai: Literal[\"openai\", \"google\"]):\n",
    "        self.ai = ai\n",
    "        if ai == \"openai\":\n",
    "            self.client = OpenAI(api_key=os.getenv(\"OPENAI_API_KEY\"))\n",
    "            self.response = self._response_openai\n",
    "        if ai == \"google\":\n",
    "            self.client = genai.Client(api_key=os.getenv(\"GEMINI_API_KEY\"))\n",
    "            self.response = self._response_google\n",
    "\n",
    "    def _response_openai(\n",
    "        self, model, system_prompt, user_prompt, response_format, temperature\n",
    "    ):\n",
    "        client = OpenAI(api_key=os.getenv(\"OPENAI_API_KEY\"))\n",
    "        completion = client.beta.chat.completions.parse(\n",
    "            model=model,\n",
    "            messages=[\n",
    "                {\"role\": \"system\", \"content\": system_prompt},\n",
    "                {\n",
    "                    \"role\": \"user\",\n",
    "                    \"content\": user_prompt,\n",
    "                },\n",
    "            ],\n",
    "            response_format=response_format,\n",
    "            temperature=temperature,\n",
    "        )\n",
    "        return completion.choices[0].message.parsed\n",
    "\n",
    "    def _response_google(\n",
    "        self, model, system_prompt, user_prompt, response_format, temperature\n",
    "    ):\n",
    "        client = genai.Client(api_key=os.getenv(\"GEMINI_API_KEY\"))\n",
    "        response = client.models.generate_content(\n",
    "            model=model,\n",
    "            contents=f\"{system_prompt}\\n{user_prompt}\",\n",
    "            config={\n",
    "                \"response_mime_type\": \"application/json\",\n",
    "                \"response_schema\": response_format,\n",
    "            },\n",
    "        )\n",
    "        return response.parsed\n",
    "\n",
    "\n",
    "load_dotenv()\n",
    "\n",
    "venue_data = []\n",
    "md_path = Path(\"test_md\")\n",
    "if not md_path.exists():\n",
    "    raise FileNotFoundError(\"Directory 'test_md' not found\")\n",
    "\n",
    "md_files = list(md_path.glob(\"*.md\"))[-5:]\n",
    "\n",
    "# openAI\n",
    "# response = Response(ai=\"openai\")\n",
    "# gemini\n",
    "response = Response(ai=\"google\")\n",
    "\n",
    "venue_data = None\n",
    "for file in tqdm(md_files, desc=\"Processing venues\", unit=\"file\"):\n",
    "    tqdm.write(f\"Processing: {file.name}\")\n",
    "    with open(file, \"r\", encoding=\"utf-8\") as f:\n",
    "        md_content = f.read()\n",
    "\n",
    "    raw = []\n",
    "    venue_name = file.stem\n",
    "    venue_dict = {\"name\": venue_name}\n",
    "\n",
    "    for model_class in models:\n",
    "        system_prompt = create_system_prompt(model_class)\n",
    "        if response.ai == \"openai\":\n",
    "            if model_class == WeddingVenuePricingSummary:\n",
    "                ai_model = \"o3-mini\"\n",
    "                temperature = openai.NOT_GIVEN\n",
    "            else:\n",
    "                ai_model = \"gpt-4o-mini\"\n",
    "                temperature = 0\n",
    "            obj = response.response(\n",
    "                model=ai_model,\n",
    "                system_prompt=system_prompt,\n",
    "                user_prompt=f\"Extract venue information from this text about '{venue_name}':\\n\\n{md_content}\",\n",
    "                response_format=model_class,\n",
    "                temperature=temperature,\n",
    "            )\n",
    "        elif response.ai == \"google\":\n",
    "            temperature = 0\n",
    "            ai_model = \"gemini-2.0-flash-001\"\n",
    "            obj = response.response(\n",
    "                model=ai_model,\n",
    "                system_prompt=system_prompt,\n",
    "                user_prompt=f\"Extract venue information from this text about '{venue_name}':\\n\\n{md_content}\",\n",
    "                response_format=model_class,\n",
    "                temperature=temperature,\n",
    "            )\n",
    "        raw.append(obj)\n",
    "        if hasattr(obj, \"to_string\"):\n",
    "            string_summary = obj.to_string()\n",
    "            venue_dict[f\"{model_class.__name__}_summary\"] = string_summary\n",
    "        else:\n",
    "            venue_dict[f\"{model_class.__name__}_summary\"] = obj.model_dump()\n",
    "\n",
    "        tqdm.write(f\"✓ Processed {model_class.__name__} for: {venue_name}\")\n",
    "\n",
    "    if venue_data is None:\n",
    "        venue_data = WeddingVenue(venue_name, raw)\n",
    "    else:\n",
    "        try:\n",
    "            venue_data += WeddingVenue(venue_name, raw)\n",
    "        except Exception as e:\n",
    "            print(f\"✗ Error adding {venue_name}: {e}\")\n",
    "            # venue_data = None\n",
    "now = datetime.now().strftime(\"%Y%m%d%\")\n",
    "if venue_data is not None:\n",
    "    venue_data.to_excel(f\"all_info_{now}.xlsx\")\n",
    "else:\n",
    "    print(\"⚠️ No venue data processed.\")"
   ]
  },
  {
   "cell_type": "code",
   "execution_count": 8,
   "id": "db11a682",
   "metadata": {},
   "outputs": [
    {
     "data": {
      "text/plain": [
       "wedding_venue_models.WeddingVenueOther"
      ]
     },
     "execution_count": 8,
     "metadata": {},
     "output_type": "execute_result"
    }
   ],
   "source": [
    "model_class"
   ]
  },
  {
   "cell_type": "code",
   "execution_count": null,
   "id": "e86506e9",
   "metadata": {},
   "outputs": [],
   "source": []
  }
 ],
 "metadata": {
  "kernelspec": {
   "display_name": ".venv",
   "language": "python",
   "name": "python3"
  },
  "language_info": {
   "codemirror_mode": {
    "name": "ipython",
    "version": 3
   },
   "file_extension": ".py",
   "mimetype": "text/x-python",
   "name": "python",
   "nbconvert_exporter": "python",
   "pygments_lexer": "ipython3",
   "version": "3.11.6"
  }
 },
 "nbformat": 4,
 "nbformat_minor": 5
}
