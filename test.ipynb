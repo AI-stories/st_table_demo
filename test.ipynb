{
 "cells": [
  {
   "cell_type": "code",
   "execution_count": 3,
   "id": "66db20d0",
   "metadata": {},
   "outputs": [
    {
     "data": {
      "text/plain": [
       "Index(['City', 'Zip Code ', 'State', 'Country ', 'Email', 'Phone Number',\n",
       "       'Price', 'Price Breakdown', 'Menu Breakdown', 'Bar Breakdown',\n",
       "       'Groom and Bridal Set-Up', 'Ceremony Cost ', 'Guest Capacity ',\n",
       "       'Outside Food', 'Outside Alcohol', 'Outside Dessert ',\n",
       "       'Outside Wedding Coordinator', 'Outside Photographer ',\n",
       "       'Package Approach', 'Pricing Transparency ', 'Reception or Ceremony',\n",
       "       'Style', 'Indoor/Outdoor', 'Deposit and Payment Plans ', 'Privacy',\n",
       "       'Accommodations ', 'Photography Score ', 'Environmental ',\n",
       "       'What Time Does the Party Need to Stop', 'Late Night Eats ',\n",
       "       'General Vibe', 'Top Choices ', 'Menu Choices '],\n",
       "      dtype='object')"
      ]
     },
     "execution_count": 3,
     "metadata": {},
     "output_type": "execute_result"
    }
   ],
   "source": [
    "import logging\n",
    "import os\n",
    "from datetime import datetime\n",
    "from typing import Literal\n",
    "\n",
    "import pandas as pd\n",
    "from dotenv import load_dotenv\n",
    "from openai import OpenAI\n",
    "from pydantic import BaseModel, Field\n",
    "from tqdm import tqdm\n",
    "\n",
    "client = OpenAI()\n",
    "\n",
    "logging.basicConfig(level=logging.WARNING)\n",
    "load_dotenv()\n",
    "api_key = os.getenv(\"OPENAI_API_KEY\")\n",
    "client = OpenAI(api_key=api_key)\n",
    "df = pd.read_excel(\"Wedding Values.xlsx\")\n",
    "df.columns"
   ]
  },
  {
   "cell_type": "code",
   "execution_count": 5,
   "id": "ae00183c",
   "metadata": {},
   "outputs": [],
   "source": [
    "from wedding_venue_models import (\n",
    "    WeddingContactInfo,\n",
    "    FoodBreakdown,\n",
    "    WeddingFoodInfo,\n",
    "    BarBreakdown,\n",
    "    WeddingVenuePricingSummary,\n",
    "    WeddingVenueStyle,\n",
    "    WeddingVenueOther,\n",
    "    create_system_prompt,\n",
    ")  # noqa: F403\n"
   ]
  },
  {
   "cell_type": "code",
   "execution_count": 6,
   "id": "7e7ff88f",
   "metadata": {},
   "outputs": [],
   "source": [
    "models = [\n",
    "    WeddingContactInfo,\n",
    "    FoodBreakdown,\n",
    "    WeddingFoodInfo,\n",
    "    BarBreakdown,\n",
    "    WeddingVenuePricingSummary,\n",
    "    WeddingVenueStyle,\n",
    "    WeddingVenueOther,\n",
    "]"
   ]
  },
  {
   "cell_type": "code",
   "execution_count": null,
   "id": "cfdae0e9",
   "metadata": {},
   "outputs": [],
   "source": [
    "from itertools import chain\n",
    "\n",
    "from openpyxl.styles import Font, PatternFill\n",
    "\n",
    "\n",
    "def assert_keys_in_readable_columns(\n",
    "    models: list[type[BaseModel]], readable_columns: dict[str, str]\n",
    ") -> None:\n",
    "    keys = list(\n",
    "        chain.from_iterable(\n",
    "            [model.__name__ + \"_\" + x for x in model.model_fields.keys()]\n",
    "            for model in models\n",
    "        )\n",
    "    )\n",
    "    keys = [\n",
    "        str(key).replace(\"_tiers\", \"_summary\").replace(\"_options\", \"_summary\")\n",
    "        for key in keys\n",
    "    ]\n",
    "    keys\n",
    "    assert set(keys) - set(readable_columns.keys()) == set(), (\n",
    "        f\"missing keys in readable_columns: {set(keys) - set(readable_columns.keys())}\"\n",
    "    )\n",
    "\n",
    "\n",
    "readable_columns = {\n",
    "    \"venue\": \"wedding venue\",\n",
    "    \"WeddingVenuePricingSummary_price\": \"price per guest\",\n",
    "    \"WeddingVenuePricingSummary_base_prices\": \"price breakdown\",\n",
    "    \"WeddingVenuePricingSummary_taxes_and_fees\": \"price breakdown taxes and fees\",\n",
    "    \"WeddingVenuePricingSummary_flexibility\": \"venue customization flexibility\",\n",
    "    # \"WeddingPriceInfo_option\": \"options\",\n",
    "    \"WeddingContactInfo_city\": \"city\",\n",
    "    \"WeddingContactInfo_state\": \"state\",\n",
    "    \"WeddingContactInfo_country\": \"country\",\n",
    "    \"WeddingContactInfo_zip_code\": \"zip code\",\n",
    "    \"WeddingContactInfo_email\": \"email\",\n",
    "    \"WeddingContactInfo_website\": \"website\",\n",
    "    \"WeddingContactInfo_phone\": \"phone\",\n",
    "    \"WeddingContactInfo_facebook\": \"facebook\",\n",
    "    \"WeddingContactInfo_instagram\": \"instagram\",\n",
    "    # \"WeddingVenuePricingSummary_summary\": \"venue pricing summary\",\n",
    "    \"FoodBreakdown_summary\": \"food menu breakdown\",\n",
    "    \"FoodBreakdown_flexibility\": \"food menu flexibility\",\n",
    "    \"BarBreakdown_summary\": \"bar menu breakdown\",\n",
    "    \"BarBreakdown_flexibility\": \"bar menu flexibility\",\n",
    "    \"WeddingVenuePricingSummary_pricing_transparency\": \"pricing transparency\",\n",
    "    \"WeddingVenuePricingSummary_deposit_and_payment_plans\": \"deposit and payment plans\",\n",
    "    \"WeddingVenueStyle_style\": \"style\",\n",
    "    \"WeddingVenueStyle_indoor_outdoor\": \"indoor/outdoor seating\",\n",
    "    \"WeddingVenueStyle_privacy\": \"privacy\",\n",
    "    \"WeddingVenueStyle_accommodations\": \"accommodations\",\n",
    "    \"WeddingVenueStyle_environmental\": \"environmental\",\n",
    "    \"WeddingVenueStyle_general_vibe\": \"general vibe\",\n",
    "    \"WeddingFoodInfo_east_asian_food\": \"serves east asian food\",\n",
    "    \"WeddingFoodInfo_gluten_free_food\": \"serves gluten free food\",\n",
    "    \"WeddingFoodInfo_halal_food\": \"serves halal food\",\n",
    "    \"WeddingFoodInfo_indian_food\": \"serves indian food\",\n",
    "    \"WeddingFoodInfo_kosher_food\": \"serves kosher food\",\n",
    "    \"WeddingFoodInfo_late_night_food\": \"serves late night food\",\n",
    "    \"WeddingFoodInfo_other_ethnic_food_style\": \"serves other ethnic food\",\n",
    "    \"WeddingFoodInfo_outside_alcohol_allowed\": \"allows outside alcohol\",\n",
    "    \"WeddingFoodInfo_outside_dessert_allowed\": \"allows outside dessert\",\n",
    "    \"WeddingFoodInfo_outside_food_allowed\": \"allows outside food\",\n",
    "    \"WeddingVenueOther_guest_capacity\": \"guest capacity\",\n",
    "    \"WeddingVenueOther_what_time_does_the_party_need_to_stop\": \"what time does the party need to stop\",\n",
    "    \"WeddingVenueOther_outside_photographer\": \"allows outside photographer\",\n",
    "    \"WeddingVenueOther_package_approach\": \"package approach\",\n",
    "    \"WeddingVenueOther_outside_wedding_coordinator\": \"allows outside wedding coordinator\",\n",
    "    \"WeddingVenueOther_reception_or_ceremony\": \"reception or ceremony\",\n",
    "    \"WeddingVenueOther_top_choices\": \"top choices\",\n",
    "}\n",
    "\n",
    "\n",
    "assert_keys_in_readable_columns(models, readable_columns)\n",
    "\n",
    "\n",
    "def flatten_dict(d: dict, parent_key: str = \"\", sep: str = \"_\") -> dict:\n",
    "    \"\"\"Flatten a nested dictionary by concatenating nested keys with a separator.\n",
    "\n",
    "    Parameters\n",
    "    ----------\n",
    "    d : dict\n",
    "        The dictionary to flatten\n",
    "    parent_key : str, optional\n",
    "        The parent key for nested dictionaries, by default \"\"\n",
    "    sep : str, optional\n",
    "        The separator to use between nested keys, by default \"_\"\n",
    "\n",
    "    Returns\n",
    "    -------\n",
    "    dict\n",
    "        A flattened dictionary with concatenated keys\n",
    "\n",
    "    Examples\n",
    "    --------\n",
    "    >>> d = {\"a\": 1, \"b\": {\"c\": 2, \"d\": {\"e\": 3}}}\n",
    "    >>> flatten_dict(d)\n",
    "    {'a': 1, 'b_c': 2, 'b_d_e': 3}\n",
    "    \"\"\"\n",
    "    items: list = []\n",
    "    for k, v in d.items():\n",
    "        new_key = f\"{parent_key}{sep}{k}\" if parent_key else k\n",
    "        if isinstance(v, dict):\n",
    "            items.extend(flatten_dict(v, new_key, sep).items())\n",
    "        else:\n",
    "            items.append((new_key, v))\n",
    "    return dict(items)\n",
    "\n",
    "\n",
    "class WeddingVenue:\n",
    "    def __init__(self, venue_name: str, raw: list[BaseModel]):\n",
    "        item_dict = {\"venue\": venue_name}\n",
    "        for item in raw:\n",
    "            obj_dict = item.model_dump()\n",
    "            if \"tiers\" in obj_dict:\n",
    "                obj_dict.pop(\"tiers\")\n",
    "                obj_dict[\"summary\"] = item.to_string()\n",
    "\n",
    "            if \"options\" in obj_dict:\n",
    "                obj_dict.pop(\"options\")\n",
    "                obj_dict[\"summary\"] = item.to_string()\n",
    "\n",
    "            item_dict[item.__class__.__name__] = obj_dict\n",
    "\n",
    "        self.df = pd.DataFrame()\n",
    "        self.update(item_dict)\n",
    "\n",
    "    def add_price_breakdown(self) -> None:\n",
    "        self.df[\"price breakdown\"] = self.df[\n",
    "            [\n",
    "                \"price breakdown\",\n",
    "                \"price breakdown taxes and fees\",\n",
    "            ]\n",
    "        ].apply(\n",
    "            lambda x: f\"\"\"\n",
    "                base prices: {x.iloc[0]}\n",
    "                taxes and fees: {x.iloc[1]}\n",
    "                \"\"\",\n",
    "            axis=1,\n",
    "        )\n",
    "        del self.df[\"price breakdown taxes and fees\"]\n",
    "\n",
    "    def update(self, d: dict) -> None:\n",
    "        self.df = pd.DataFrame(flatten_dict(d), index=[0])\n",
    "        self.rename_columns()\n",
    "        self.add_price_breakdown()\n",
    "        # self.add_bar_flexibility()\n",
    "        # self.add_indoor_outdoor_seating()\n",
    "\n",
    "    def _repr_html_(self) -> str:\n",
    "        return self.df._repr_html_()\n",
    "\n",
    "    def rename_columns(self) -> None:\n",
    "        \"\"\"Rename and reorder columns based on readable_columns dictionary.\"\"\"\n",
    "        self.df.rename(columns=readable_columns, inplace=True)\n",
    "        self.df.set_index(\"wedding venue\", inplace=True)\n",
    "        ordered_columns = [\n",
    "            col for col in readable_columns.values() if col != \"wedding venue\"\n",
    "        ]\n",
    "        self.df = self.df.reindex(columns=ordered_columns)\n",
    "\n",
    "    def to_excel(self, name: str = \"wedding_venue.xlsx\"):\n",
    "        if not name.endswith(\".xlsx\"):\n",
    "            name = f\"{name}.xlsx\"\n",
    "        if os.path.exists(name):\n",
    "            name = f\"{name}_{datetime.now().strftime('%Y%m%d_%H%M%S')}.xlsx\"\n",
    "        print(\"saving to: \", name)\n",
    "        with pd.ExcelWriter(name, engine=\"openpyxl\") as writer:\n",
    "            self.df.to_excel(writer, sheet_name=\"Venue Options\")\n",
    "\n",
    "            worksheet = writer.sheets[\"Venue Options\"]\n",
    "\n",
    "            header_fill = PatternFill(\n",
    "                start_color=\"B3E5FC\", end_color=\"B3E5FC\", fill_type=\"solid\"\n",
    "            )\n",
    "            header_font = Font(bold=True)\n",
    "\n",
    "            for col in range(1, len(df.columns) + 1):\n",
    "                cell = worksheet.cell(row=1, column=col)\n",
    "                cell.fill = header_fill\n",
    "                cell.font = header_font\n",
    "\n",
    "            for col in worksheet.columns:\n",
    "                max_length = 0\n",
    "                column = col[0].column_letter\n",
    "                for cell in col:\n",
    "                    if cell.value:\n",
    "                        max_length = max(max_length, len(str(cell.value)))\n",
    "                adjusted_width = max_length + 2\n",
    "                worksheet.column_dimensions[column].width = min(adjusted_width, 50)\n",
    "\n",
    "            worksheet.auto_filter.ref = worksheet.dimensions\n",
    "\n",
    "        self.df.to_excel(writer, sheet_name=\"Venue Options\")\n",
    "        return self\n",
    "\n",
    "    def __add__(self, other: \"WeddingVenue\") -> \"WeddingVenue\":\n",
    "        self.df = pd.concat([self.df, other.df])\n",
    "        return self"
   ]
  },
  {
   "cell_type": "code",
   "execution_count": 13,
   "id": "795d25ed",
   "metadata": {},
   "outputs": [],
   "source": [
    "from openai import OpenAI\n",
    "from pydantic import BaseModel\n",
    "from wedding_venues.image import resize_image"
   ]
  },
  {
   "cell_type": "code",
   "execution_count": 14,
   "id": "90bf0792",
   "metadata": {},
   "outputs": [],
   "source": [
    "from openai import OpenAI\n",
    "from pydantic import BaseModel, Field\n",
    "from wedding_venues.image import local_image_to_data_url\n",
    "\n",
    "\n",
    "class WeddingText(BaseModel):\n",
    "    text: str | None = Field(\n",
    "        description=\"\"\"\n",
    "        Extracted text from the image in markdown format. Returns None if text\n",
    "        is unreadable or gibberish\n",
    "        \"\"\"\n",
    "    )\n",
    "    is_photo: bool = Field(\n",
    "        description=\"\"\"Indicates if the image is a meaningful photograph (food,\n",
    "                    decor, venue, or wedding related) rather than a logo,\n",
    "                    background, or decorative element\"\"\"\n",
    "    )\n",
    "    description: str = Field(\n",
    "        description=\"\"\"Brief description of the image content, particularly\n",
    "                    useful for categorizing photos of food, decor, or\n",
    "                    wedding-related scenes\"\"\"\n",
    "    )\n",
    "\n",
    "\n",
    "def image_to_wedding_text(image_path: str) -> WeddingText:\n",
    "    client = OpenAI()\n",
    "\n",
    "    prompt = \"\"\"\n",
    "        You are tasked with summarizing the description of the images about\n",
    "        wedding venues. Give a concise summary of the images provided to you.\n",
    "        Focus on the style and wedding theme. If decorative elements (e.g.,\n",
    "        illustrations such as leaves and flowers, templates) are present, do not\n",
    "        confuse them with real settings.The output should not be more than 30\n",
    "        words. If there is text present, please transcribe. If the image is not\n",
    "        related to a wedding venue, please ignore.\"\"\"\n",
    "\n",
    "    data_url = local_image_to_data_url(image_path)\n",
    "\n",
    "    response = client.beta.chat.completions.parse(\n",
    "        model=\"gpt-4o\",\n",
    "        messages=[\n",
    "            {\n",
    "                \"role\": \"user\",\n",
    "                \"content\": [\n",
    "                    {\n",
    "                        \"type\": \"text\",\n",
    "                        \"text\": prompt,\n",
    "                    },\n",
    "                    {\"type\": \"image_url\", \"image_url\": {\"url\": data_url}},\n",
    "                ],\n",
    "            }\n",
    "        ],\n",
    "        response_format=WeddingText,\n",
    "    )\n",
    "    return response.choices[0].message.parsed\n"
   ]
  },
  {
   "cell_type": "code",
   "execution_count": 15,
   "id": "f6a32806",
   "metadata": {},
   "outputs": [],
   "source": [
    "import os\n",
    "from datetime import datetime\n",
    "import json\n",
    "import zipfile\n",
    "import pandas as pd  # type: ignore\n",
    "import re\n",
    "import glob\n",
    "\n",
    "\n",
    "def get_dict_xlsx(outputzipextract, xlsx_file):\n",
    "    \"\"\"\n",
    "    Function to read excel output from adobe API\n",
    "    \"\"\"\n",
    "    # Read excel\n",
    "    df = pd.read_excel(\n",
    "        os.path.join(outputzipextract, xlsx_file),\n",
    "        sheet_name=\"Sheet1\",\n",
    "        engine=\"openpyxl\",\n",
    "    )\n",
    "\n",
    "    # Clean df\n",
    "    df.columns = [re.sub(r\"_x([0-9a-fA-F]{4})_\", \"\", col) for col in df.columns]\n",
    "    df = df.replace({r\"_x([0-9a-fA-F]{4})_\": \"\"}, regex=True)\n",
    "\n",
    "    # Convert df to string\n",
    "    data_dict = df.to_dict(orient=\"records\")\n",
    "\n",
    "    return data_dict\n",
    "\n",
    "\n",
    "def extract_text_from_file_adobe(venue, output_zipextract_folder):\n",
    "    \"\"\"\n",
    "    Function to extract text and table from adobe output zip file\n",
    "    \"\"\"\n",
    "    output_zip_path = list(glob.glob(f\"{output_zipextract_folder}/*.zip\"))[0]\n",
    "    # if not venue.endswith(\".zip\"):\n",
    "    #     output_zip_path = f\"test_output/{venue}\"\n",
    "    # else:\n",
    "    #     output_zip_path = venue\n",
    "    print(f\"output zipextract folder: {output_zipextract_folder}\")\n",
    "    print(f\"output zip path: {output_zip_path}\")\n",
    "\n",
    "    json_file_path = os.path.join(output_zipextract_folder, \"structuredData.json\")\n",
    "    # check if json file exist:\n",
    "    if os.path.exists(json_file_path):\n",
    "        print(\n",
    "            f\"{datetime.now().strftime('%Y-%m-%d %H:%M:%S')} JSON file already exists. Skipping extraction.\"\n",
    "        )\n",
    "    else:\n",
    "        try:\n",
    "            print(f\"{datetime.now().strftime('%Y-%m-%d %H:%M:%S')} unzip file\")\n",
    "            # Open the ZIP file\n",
    "            with zipfile.ZipFile(output_zip_path, \"r\") as zip_ref:\n",
    "                # Extract all the contents of the ZIP file to the current working directory\n",
    "                zip_ref.extractall(path=output_zipextract_folder)\n",
    "        except Exception as e:\n",
    "            print(\"----Error: cannot unzip file\")\n",
    "            print(e)\n",
    "\n",
    "    try:\n",
    "        print(f\"{datetime.now().strftime('%Y-%m-%d %H:%M:%S')} open json file\")\n",
    "        # Opening JSON file\n",
    "        with open(\n",
    "            os.path.join(output_zipextract_folder, \"structuredData.json\")\n",
    "        ) as json_file:\n",
    "            data = json.load(json_file)\n",
    "    except Exception as e:\n",
    "        print(\"----Error: cannot open json file\")\n",
    "        print(e)\n",
    "        return pd.DataFrame()\n",
    "\n",
    "    print(f\"{datetime.now().strftime('%Y-%m-%d %H:%M:%S')} extract text\")\n",
    "    dfs = pd.DataFrame()\n",
    "    page = \"\"\n",
    "\n",
    "    figures_folder = os.path.join(output_zipextract_folder, \"figures\")\n",
    "\n",
    "    try:  # Loop through elements in the document\n",
    "        for ele in data[\"elements\"]:\n",
    "            df = pd.DataFrame()\n",
    "            # Get element page\n",
    "            if \"Page\" in ele.keys():\n",
    "                page = ele[\"Page\"]\n",
    "\n",
    "            # Append table\n",
    "            if any(x in ele[\"Path\"] for x in [\"Table\"]):\n",
    "                if \"filePaths\" in ele:\n",
    "                    if [s for s in ele[\"filePaths\"] if \"xlsx\" in s]:\n",
    "                        # Read excel table\n",
    "                        data_dict = get_dict_xlsx(\n",
    "                            output_zipextract_folder, ele[\"filePaths\"][0]\n",
    "                        )\n",
    "                        json_string = json.dumps(data_dict)\n",
    "                        df = pd.DataFrame({\"text\": json_string}, index=[0])\n",
    "\n",
    "            # Append text\n",
    "            elif (\"Text\" in ele.keys()) and (\"Figure\" not in ele[\"Path\"]):\n",
    "                df = pd.DataFrame({\"text\": ele[\"Text\"]}, index=[0])\n",
    "\n",
    "            # Process figures and extract text from images\n",
    "            elif (\n",
    "                \"Figure\" in ele.get(\"Path\", \"\")\n",
    "                and \"filePaths\" in ele\n",
    "                and ele[\"filePaths\"]\n",
    "            ):\n",
    "                figure_filename = os.path.basename(ele[\"filePaths\"][0])\n",
    "                full_path = None\n",
    "\n",
    "                # Find matching figure file in figures folder\n",
    "                for filepath in glob.glob(os.path.join(figures_folder, \"*\")):\n",
    "                    if figure_filename in os.path.basename(filepath):\n",
    "                        full_path = filepath\n",
    "                        break\n",
    "\n",
    "                if full_path:\n",
    "                    try:\n",
    "                        # Resize and process the image with GPT-4o\n",
    "                        resized_path = resize_image(full_path, 1024)\n",
    "                        wedding_text = image_to_wedding_text(resized_path)\n",
    "\n",
    "                        # Format the extracted text\n",
    "                        image_content = \"\"\n",
    "                        if wedding_text.text is not None:\n",
    "                            image_content += wedding_text.text + \"\\n\"\n",
    "                        if wedding_text.is_photo:\n",
    "                            image_content += (\n",
    "                                f\"\\n[Image Description: {wedding_text.description}]\\n\"\n",
    "                            )\n",
    "\n",
    "                        if image_content.strip():\n",
    "                            df = pd.DataFrame({\"text\": image_content}, index=[0])\n",
    "                    except Exception as e:\n",
    "                        print(f\"Error processing image {full_path}: {e}\")\n",
    "\n",
    "            # Add page number and concat to main dataframe\n",
    "            if not df.empty:\n",
    "                df[\"page_number\"] = page\n",
    "                dfs = pd.concat([dfs, df], axis=0)\n",
    "\n",
    "    except Exception as e:\n",
    "        print(\"----Error: processing elements in JSON\")\n",
    "        print(e)\n",
    "\n",
    "    dfs = dfs.reset_index(drop=True)\n",
    "\n",
    "    # Groupby page\n",
    "    dfs = dfs.dropna()\n",
    "    if \"text\" not in dfs.columns:\n",
    "        print(f\"no text found in document {venue}.pdf\")\n",
    "        return \"\"\n",
    "\n",
    "    dfs = dfs.groupby(\"page_number\")[\"text\"].apply(lambda x: \"\\n\".join(x)).reset_index()\n",
    "    text_content = \"\\n\".join(dfs[\"text\"].values)\n",
    "\n",
    "    return text_content"
   ]
  },
  {
   "cell_type": "code",
   "execution_count": 16,
   "id": "6a7973c4",
   "metadata": {},
   "outputs": [],
   "source": [
    "# # Setup\n",
    "# from pathlib import Path\n",
    "\n",
    "# import openai\n",
    "\n",
    "# load_dotenv()\n",
    "# api_key = os.getenv(\"OPENAI_API_KEY\")\n",
    "# client = OpenAI(api_key=api_key)\n",
    "\n",
    "# venue_data = []\n",
    "# md_path = Path(\"test_md\")\n",
    "# if not md_path.exists():\n",
    "#     raise FileNotFoundError(\"Directory 'test_md' not found\")\n",
    "\n",
    "# md_files = list(md_path.glob(\"*.md\"))[-5:]\n",
    "\n",
    "# venue_data = None\n",
    "# for file in tqdm(md_files, desc=\"Processing venues\", unit=\"file\"):\n",
    "#     tqdm.write(f\"Processing: {file.name}\")\n",
    "#     with open(file, \"r\", encoding=\"utf-8\") as f:\n",
    "#         md_content = f.read()\n",
    "\n",
    "#     raw = []\n",
    "#     venue_name = file.stem\n",
    "#     venue_dict = {\"name\": venue_name}\n",
    "\n",
    "#     for model_class in models:\n",
    "#         system_prompt = create_system_prompt(model_class)\n",
    "#         # try:\n",
    "#         if model_class == WeddingVenuePricingSummary:\n",
    "#             ai_model = \"o3-mini\"\n",
    "#             temperature = openai.NOT_GIVEN\n",
    "#         else:\n",
    "#             ai_model = \"gpt-4o-mini\"\n",
    "#             temperature = 0\n",
    "#         completion = client.beta.chat.completions.parse(\n",
    "#             model=ai_model,\n",
    "#             messages=[\n",
    "#                 {\"role\": \"system\", \"content\": system_prompt},\n",
    "#                 {\n",
    "#                     \"role\": \"user\",\n",
    "#                     \"content\": f\"Extract venue information from this text about '{venue_name}':\\n\\n{md_content}\",\n",
    "#                 },\n",
    "#             ],\n",
    "#             response_format=model_class,\n",
    "#             temperature=temperature,\n",
    "#         )\n",
    "#         obj = completion.choices[0].message.parsed\n",
    "#         raw.append(obj)\n",
    "#         if hasattr(obj, \"to_string\"):\n",
    "#             string_summary = obj.to_string()\n",
    "#             venue_dict[f\"{model_class.__name__}_summary\"] = string_summary\n",
    "#         else:\n",
    "#             venue_dict[f\"{model_class.__name__}_summary\"] = obj.model_dump()\n",
    "\n",
    "#         tqdm.write(f\"✓ Processed {model_class.__name__} for: {venue_name}\")\n",
    "\n",
    "#         # except Exception as e:\n",
    "#         #     tqdm.write(f\"✗ Error with {model_class.__name__} for {venue_name}: {e}\")\n",
    "#         #     venue_dict[f\"{model_class.__name__}_summary\"] = None\n",
    "#     if venue_data is None:\n",
    "#         venue_data = WeddingVenue(venue_name, raw)\n",
    "#     else:\n",
    "#         try:\n",
    "#             venue_data += WeddingVenue(venue_name, raw)\n",
    "#         except Exception as e:\n",
    "#             print(f\"✗ Error adding {venue_name}: {e}\")\n",
    "#             # venue_data = None\n",
    "# now = datetime.now().strftime(\"%Y%m%d%\")\n",
    "# if venue_data is not None:\n",
    "#     venue_data.to_excel(f\"all_info_{now}.xlsx\")\n",
    "# else:\n",
    "#     print(\"⚠️ No venue data processed.\")"
   ]
  },
  {
   "cell_type": "code",
   "execution_count": 17,
   "id": "8daf9e91",
   "metadata": {},
   "outputs": [
    {
     "name": "stderr",
     "output_type": "stream",
     "text": [
      "ERROR:root:Exception encountered while executing operation: description =ERROR - Unable to extract content. Internal error; requestTrackingId=895429f8-ed56-44ca-8358-12a632fce41e; statusCode=500; errorCode=ERROR\n",
      "Traceback (most recent call last):\n",
      "  File \"/Users/mac-robertsocolewicz/Documents/private/playground_tables/src/wedding_venues/adobe.py\", line 101, in pdf2zip\n",
      "    pdf_services_response = pdf_services.get_job_result(location, ExtractPDFResult)\n",
      "                            ^^^^^^^^^^^^^^^^^^^^^^^^^^^^^^^^^^^^^^^^^^^^^^^^^^^^^^^\n",
      "  File \"/Users/mac-robertsocolewicz/Documents/private/playground_tables/.venv/lib/python3.11/site-packages/adobe/pdfservices/operation/internal/util/enforce_types.py\", line 37, in wrapper\n",
      "    return func(*args, **kwargs)\n",
      "           ^^^^^^^^^^^^^^^^^^^^^\n",
      "  File \"/Users/mac-robertsocolewicz/Documents/private/playground_tables/.venv/lib/python3.11/site-packages/adobe/pdfservices/operation/pdf_services.py\", line 101, in get_job_result\n",
      "    return PDFServicesHelper.get_job_result(self.__executionContext, polling_url, result_type)\n",
      "           ^^^^^^^^^^^^^^^^^^^^^^^^^^^^^^^^^^^^^^^^^^^^^^^^^^^^^^^^^^^^^^^^^^^^^^^^^^^^^^^^^^^\n",
      "  File \"/Users/mac-robertsocolewicz/Documents/private/playground_tables/.venv/lib/python3.11/site-packages/adobe/pdfservices/operation/internal/pdf_services_helper.py\", line 142, in get_job_result\n",
      "    pdf_services_response = cls.__poll_job(context, location, result_type)\n",
      "                            ^^^^^^^^^^^^^^^^^^^^^^^^^^^^^^^^^^^^^^^^^^^^^^\n",
      "  File \"/Users/mac-robertsocolewicz/Documents/private/playground_tables/.venv/lib/python3.11/site-packages/adobe/pdfservices/operation/internal/pdf_services_helper.py\", line 275, in __poll_job\n",
      "    raise ServiceApiException(message=error_response.get_message(),\n",
      "adobe.pdfservices.operation.exception.exceptions.ServiceApiException: description =ERROR - Unable to extract content. Internal error; requestTrackingId=895429f8-ed56-44ca-8358-12a632fce41e; statusCode=500; errorCode=ERROR\n"
     ]
    },
    {
     "name": "stdout",
     "output_type": "stream",
     "text": [
      "test_pdf/Avenue of the Arts.pdf ready\n"
     ]
    }
   ],
   "source": [
    "from wedding_venues.adobe import pdf2zip\n",
    "\n",
    "for venue in glob.glob(\"test_pdf/*.pdf\"):\n",
    "    if os.path.exists(f\"test_output/{os.path.basename(venue)}\"):\n",
    "        continue  # skip if already processed\n",
    "    pdf2zip(venue, f\"test_output/{os.path.basename(venue)}\")\n",
    "    print(f\"{venue} ready\")\n"
   ]
  },
  {
   "cell_type": "code",
   "execution_count": 2,
   "id": "2b039388",
   "metadata": {},
   "outputs": [
    {
     "name": "stderr",
     "output_type": "stream",
     "text": [
      "INFO:root:Skipping /Users/mac-robertsocolewicz/Documents/private/playground_tables/test_pdf/94th Aero Squadron Restaurant_.pdf because it already exists\n"
     ]
    }
   ],
   "source": [
    "from wedding_venues import extract_text_from_file_docling\n",
    "\n",
    "pdf_path = \"/Users/mac-robertsocolewicz/Documents/private/playground_tables/test_pdf/94th Aero Squadron Restaurant_.pdf\"\n",
    "output_dir = \"test_pdf/test\"\n",
    "\n",
    "extract_text_from_file_docling(\n",
    "    pdf_path,\n",
    "    output_dir,\n",
    "    force_extract=False,\n",
    ")\n"
   ]
  },
  {
   "cell_type": "code",
   "execution_count": 6,
   "id": "a94bd79c",
   "metadata": {},
   "outputs": [
    {
     "name": "stderr",
     "output_type": "stream",
     "text": [
      "Processing venues:   0%|          | 0/12 [00:00<?, ?venue/s, file=test_pdf/Alcazar Palm Springs.pdf]INFO:root:Skipping test_pdf/Alcazar Palm Springs.pdf because it already exists\n",
      "0it [00:00, ?it/s]\n",
      "Processing venues:   0%|          | 0/12 [00:00<?, ?venue/s, file=test_pdf/Aliso Viejo Country Club.pdf]"
     ]
    },
    {
     "name": "stderr",
     "output_type": "stream",
     "text": [
      "INFO:root:Skipping test_pdf/Aliso Viejo Country Club.pdf because it already exists\n",
      "100%|██████████| 15/15 [00:00<00:00, 5973.09it/s]\n",
      "Processing venues:   0%|          | 0/12 [00:00<?, ?venue/s, file=test_pdf/94th Aero Squadron Restaurant_.pdf]INFO:root:Skipping test_pdf/94th Aero Squadron Restaurant_.pdf because it already exists\n",
      "100%|██████████| 26/26 [00:00<00:00, 9538.35it/s]\n",
      "Processing venues:   0%|          | 0/12 [00:00<?, ?venue/s, file=test_pdf/Agua Hedionda Nature Center.pdf]   INFO:root:Skipping test_pdf/Agua Hedionda Nature Center.pdf because it already exists\n",
      "0it [00:00, ?it/s]\n",
      "Processing venues:   0%|          | 0/12 [00:00<?, ?venue/s, file=test_pdf/RIVERHOUSEBBQ.COM.pdf]          INFO:root:Skipping test_pdf/RIVERHOUSEBBQ.COM.pdf because it already exists\n",
      "100%|██████████| 15/15 [00:00<00:00, 12468.20it/s]\n",
      "Processing venues:   0%|          | 0/12 [00:00<?, ?venue/s, file=test_pdf/Aliso Viejo Wedgewood.pdf]INFO:root:Skipping test_pdf/Aliso Viejo Wedgewood.pdf because it already exists\n",
      "100%|██████████| 6/6 [00:00<00:00, 8668.90it/s]\n",
      "Processing venues:   0%|          | 0/12 [00:00<?, ?venue/s, file=test_pdf/Ace Hotel Palm Springs.pdf]INFO:root:Skipping test_pdf/Ace Hotel Palm Springs.pdf because it already exists\n",
      "100%|██████████| 32/32 [00:00<00:00, 25555.55it/s]\n",
      "Processing venues:   0%|          | 0/12 [00:00<?, ?venue/s, file=test_pdf/Rustic Pearl Weddings & Events.pdf]INFO:root:Skipping test_pdf/Rustic Pearl Weddings & Events.pdf because it already exists\n",
      "100%|██████████| 2/2 [00:00<00:00, 14926.35it/s]\n",
      "Processing venues:   0%|          | 0/12 [00:00<?, ?venue/s, file=test_pdf/Almansor Court.pdf]                INFO:root:Skipping test_pdf/Almansor Court.pdf because it already exists\n",
      "100%|██████████| 11/11 [00:00<00:00, 16291.44it/s]\n",
      "Processing venues:   0%|          | 0/12 [00:00<?, ?venue/s, file=test_pdf/Shell_s Loft.pdf]  INFO:root:Skipping test_pdf/Shell_s Loft.pdf because it already exists\n",
      "100%|██████████| 15/15 [00:00<00:00, 17082.42it/s]\n",
      "Processing venues:   0%|          | 0/12 [00:00<?, ?venue/s, file=test_pdf/a.o.c. Brentwood.pdf]INFO:root:Skipping test_pdf/a.o.c. Brentwood.pdf because it already exists\n",
      "100%|██████████| 12/12 [00:00<00:00, 19350.88it/s]\n",
      "Processing venues:   0%|          | 0/12 [00:00<?, ?venue/s, file=test_pdf/Avenue of the Arts.pdf]INFO:root:Skipping test_pdf/Avenue of the Arts.pdf because it already exists\n",
      "100%|██████████| 49/49 [00:00<00:00, 13066.37it/s]\n",
      "Processing venues: 100%|██████████| 12/12 [00:00<00:00, 188.24venue/s, file=test_pdf/Avenue of the Arts.pdf]\n"
     ]
    }
   ],
   "source": [
    "import glob\n",
    "import os\n",
    "from pathlib import Path\n",
    "from tqdm import tqdm\n",
    "from wedding_venues import (\n",
    "    extract_text_from_file_docling,\n",
    "    figure_to_md,\n",
    "    replace_images_with_markdown,\n",
    ")\n",
    "\n",
    "OUTPUT_DIR = \"test_output2\"\n",
    "\n",
    "progress_bar = tqdm(glob.glob(\"test_pdf/*.pdf\"), desc=\"Processing venues\", unit=\"venue\")\n",
    "for pdf_file_path in progress_bar:\n",
    "    pdf_file_name = os.path.basename(pdf_file_path)\n",
    "    venue_name = os.path.splitext(pdf_file_name)[0]\n",
    "    progress_bar.set_postfix(file=pdf_file_path)\n",
    "    output_dir_venue = Path(OUTPUT_DIR) / venue_name\n",
    "\n",
    "    extract_text_from_file_docling(pdf_file_path, output_dir_venue, force_extract=False)\n",
    "    figures = filter(\n",
    "        lambda fig: fig.suffix in [\".png\", \".jpg\", \".jpeg\"],\n",
    "        output_dir_venue.glob(\"**/*\"),\n",
    "    )\n",
    "    for figure in tqdm(sorted(figures)):\n",
    "        figure_to_md(figure, force_extract=False, delete_if_false_image=True)\n",
    "\n",
    "    try:\n",
    "        markdown_path = list(output_dir_venue.glob(\"*.md\"))[0]\n",
    "    except IndexError:\n",
    "        print(f\"No markdown file found for {venue_name}\")\n",
    "        continue\n",
    "    new_md = replace_images_with_markdown(\n",
    "        markdown_path,\n",
    "        inplace=True,\n",
    "    )\n"
   ]
  },
  {
   "cell_type": "code",
   "execution_count": 18,
   "id": "a52b8b76",
   "metadata": {},
   "outputs": [
    {
     "name": "stderr",
     "output_type": "stream",
     "text": [
      "INFO:httpx:HTTP Request: POST https://api.openai.com/v1/chat/completions \"HTTP/1.1 200 OK\"\n"
     ]
    },
    {
     "name": "stdout",
     "output_type": "stream",
     "text": [
      "✓ Processed WeddingContactInfo for: Shell_s Loft\n"
     ]
    },
    {
     "name": "stderr",
     "output_type": "stream",
     "text": [
      "INFO:httpx:HTTP Request: POST https://api.openai.com/v1/chat/completions \"HTTP/1.1 200 OK\"\n"
     ]
    },
    {
     "name": "stdout",
     "output_type": "stream",
     "text": [
      "✓ Processed FoodBreakdown for: Shell_s Loft\n"
     ]
    },
    {
     "name": "stderr",
     "output_type": "stream",
     "text": [
      "INFO:httpx:HTTP Request: POST https://api.openai.com/v1/chat/completions \"HTTP/1.1 200 OK\"\n"
     ]
    },
    {
     "name": "stdout",
     "output_type": "stream",
     "text": [
      "✓ Processed WeddingFoodInfo for: Shell_s Loft\n"
     ]
    },
    {
     "name": "stderr",
     "output_type": "stream",
     "text": [
      "INFO:httpx:HTTP Request: POST https://api.openai.com/v1/chat/completions \"HTTP/1.1 200 OK\"\n"
     ]
    },
    {
     "name": "stdout",
     "output_type": "stream",
     "text": [
      "✓ Processed BarBreakdown for: Shell_s Loft\n"
     ]
    },
    {
     "name": "stderr",
     "output_type": "stream",
     "text": [
      "INFO:httpx:HTTP Request: POST https://api.openai.com/v1/chat/completions \"HTTP/1.1 200 OK\"\n"
     ]
    },
    {
     "name": "stdout",
     "output_type": "stream",
     "text": [
      "✓ Processed WeddingVenuePricingSummary for: Shell_s Loft\n"
     ]
    },
    {
     "name": "stderr",
     "output_type": "stream",
     "text": [
      "INFO:httpx:HTTP Request: POST https://api.openai.com/v1/chat/completions \"HTTP/1.1 200 OK\"\n"
     ]
    },
    {
     "name": "stdout",
     "output_type": "stream",
     "text": [
      "✓ Processed WeddingVenueStyle for: Shell_s Loft\n"
     ]
    },
    {
     "name": "stderr",
     "output_type": "stream",
     "text": [
      "INFO:httpx:HTTP Request: POST https://api.openai.com/v1/chat/completions \"HTTP/1.1 200 OK\"\n"
     ]
    },
    {
     "name": "stdout",
     "output_type": "stream",
     "text": [
      "✓ Processed WeddingVenueOther for: Shell_s Loft\n"
     ]
    },
    {
     "name": "stderr",
     "output_type": "stream",
     "text": [
      "INFO:httpx:HTTP Request: POST https://api.openai.com/v1/chat/completions \"HTTP/1.1 200 OK\"\n"
     ]
    },
    {
     "name": "stdout",
     "output_type": "stream",
     "text": [
      "✓ Processed WeddingContactInfo for: Ace Hotel Palm Springs\n"
     ]
    },
    {
     "name": "stderr",
     "output_type": "stream",
     "text": [
      "INFO:httpx:HTTP Request: POST https://api.openai.com/v1/chat/completions \"HTTP/1.1 200 OK\"\n"
     ]
    },
    {
     "name": "stdout",
     "output_type": "stream",
     "text": [
      "✓ Processed FoodBreakdown for: Ace Hotel Palm Springs\n"
     ]
    },
    {
     "name": "stderr",
     "output_type": "stream",
     "text": [
      "INFO:httpx:HTTP Request: POST https://api.openai.com/v1/chat/completions \"HTTP/1.1 200 OK\"\n"
     ]
    },
    {
     "name": "stdout",
     "output_type": "stream",
     "text": [
      "✓ Processed WeddingFoodInfo for: Ace Hotel Palm Springs\n"
     ]
    },
    {
     "name": "stderr",
     "output_type": "stream",
     "text": [
      "INFO:httpx:HTTP Request: POST https://api.openai.com/v1/chat/completions \"HTTP/1.1 200 OK\"\n"
     ]
    },
    {
     "name": "stdout",
     "output_type": "stream",
     "text": [
      "✓ Processed BarBreakdown for: Ace Hotel Palm Springs\n"
     ]
    },
    {
     "name": "stderr",
     "output_type": "stream",
     "text": [
      "INFO:httpx:HTTP Request: POST https://api.openai.com/v1/chat/completions \"HTTP/1.1 200 OK\"\n"
     ]
    },
    {
     "name": "stdout",
     "output_type": "stream",
     "text": [
      "✓ Processed WeddingVenuePricingSummary for: Ace Hotel Palm Springs\n"
     ]
    },
    {
     "name": "stderr",
     "output_type": "stream",
     "text": [
      "INFO:httpx:HTTP Request: POST https://api.openai.com/v1/chat/completions \"HTTP/1.1 200 OK\"\n"
     ]
    },
    {
     "name": "stdout",
     "output_type": "stream",
     "text": [
      "✓ Processed WeddingVenueStyle for: Ace Hotel Palm Springs\n"
     ]
    },
    {
     "name": "stderr",
     "output_type": "stream",
     "text": [
      "INFO:httpx:HTTP Request: POST https://api.openai.com/v1/chat/completions \"HTTP/1.1 200 OK\"\n"
     ]
    },
    {
     "name": "stdout",
     "output_type": "stream",
     "text": [
      "✓ Processed WeddingVenueOther for: Ace Hotel Palm Springs\n"
     ]
    },
    {
     "name": "stderr",
     "output_type": "stream",
     "text": [
      "INFO:httpx:HTTP Request: POST https://api.openai.com/v1/chat/completions \"HTTP/1.1 200 OK\"\n"
     ]
    },
    {
     "name": "stdout",
     "output_type": "stream",
     "text": [
      "✓ Processed WeddingContactInfo for: Aliso Viejo Country Club\n"
     ]
    },
    {
     "name": "stderr",
     "output_type": "stream",
     "text": [
      "INFO:httpx:HTTP Request: POST https://api.openai.com/v1/chat/completions \"HTTP/1.1 200 OK\"\n"
     ]
    },
    {
     "name": "stdout",
     "output_type": "stream",
     "text": [
      "✓ Processed FoodBreakdown for: Aliso Viejo Country Club\n"
     ]
    },
    {
     "name": "stderr",
     "output_type": "stream",
     "text": [
      "INFO:httpx:HTTP Request: POST https://api.openai.com/v1/chat/completions \"HTTP/1.1 200 OK\"\n"
     ]
    },
    {
     "name": "stdout",
     "output_type": "stream",
     "text": [
      "✓ Processed WeddingFoodInfo for: Aliso Viejo Country Club\n"
     ]
    },
    {
     "name": "stderr",
     "output_type": "stream",
     "text": [
      "INFO:httpx:HTTP Request: POST https://api.openai.com/v1/chat/completions \"HTTP/1.1 200 OK\"\n"
     ]
    },
    {
     "name": "stdout",
     "output_type": "stream",
     "text": [
      "✓ Processed BarBreakdown for: Aliso Viejo Country Club\n"
     ]
    },
    {
     "name": "stderr",
     "output_type": "stream",
     "text": [
      "INFO:httpx:HTTP Request: POST https://api.openai.com/v1/chat/completions \"HTTP/1.1 200 OK\"\n"
     ]
    },
    {
     "name": "stdout",
     "output_type": "stream",
     "text": [
      "✓ Processed WeddingVenuePricingSummary for: Aliso Viejo Country Club\n"
     ]
    },
    {
     "name": "stderr",
     "output_type": "stream",
     "text": [
      "INFO:httpx:HTTP Request: POST https://api.openai.com/v1/chat/completions \"HTTP/1.1 200 OK\"\n"
     ]
    },
    {
     "name": "stdout",
     "output_type": "stream",
     "text": [
      "✓ Processed WeddingVenueStyle for: Aliso Viejo Country Club\n"
     ]
    },
    {
     "name": "stderr",
     "output_type": "stream",
     "text": [
      "INFO:httpx:HTTP Request: POST https://api.openai.com/v1/chat/completions \"HTTP/1.1 200 OK\"\n"
     ]
    },
    {
     "name": "stdout",
     "output_type": "stream",
     "text": [
      "✓ Processed WeddingVenueOther for: Aliso Viejo Country Club\n"
     ]
    },
    {
     "name": "stderr",
     "output_type": "stream",
     "text": [
      "INFO:httpx:HTTP Request: POST https://api.openai.com/v1/chat/completions \"HTTP/1.1 200 OK\"\n"
     ]
    },
    {
     "name": "stdout",
     "output_type": "stream",
     "text": [
      "✓ Processed WeddingContactInfo for: Rustic Pearl Weddings & Events\n"
     ]
    },
    {
     "name": "stderr",
     "output_type": "stream",
     "text": [
      "INFO:httpx:HTTP Request: POST https://api.openai.com/v1/chat/completions \"HTTP/1.1 200 OK\"\n"
     ]
    },
    {
     "name": "stdout",
     "output_type": "stream",
     "text": [
      "✓ Processed FoodBreakdown for: Rustic Pearl Weddings & Events\n"
     ]
    },
    {
     "name": "stderr",
     "output_type": "stream",
     "text": [
      "INFO:httpx:HTTP Request: POST https://api.openai.com/v1/chat/completions \"HTTP/1.1 200 OK\"\n"
     ]
    },
    {
     "name": "stdout",
     "output_type": "stream",
     "text": [
      "✓ Processed WeddingFoodInfo for: Rustic Pearl Weddings & Events\n"
     ]
    },
    {
     "name": "stderr",
     "output_type": "stream",
     "text": [
      "INFO:httpx:HTTP Request: POST https://api.openai.com/v1/chat/completions \"HTTP/1.1 200 OK\"\n"
     ]
    },
    {
     "name": "stdout",
     "output_type": "stream",
     "text": [
      "✓ Processed BarBreakdown for: Rustic Pearl Weddings & Events\n"
     ]
    },
    {
     "name": "stderr",
     "output_type": "stream",
     "text": [
      "INFO:httpx:HTTP Request: POST https://api.openai.com/v1/chat/completions \"HTTP/1.1 200 OK\"\n"
     ]
    },
    {
     "name": "stdout",
     "output_type": "stream",
     "text": [
      "✓ Processed WeddingVenuePricingSummary for: Rustic Pearl Weddings & Events\n"
     ]
    },
    {
     "name": "stderr",
     "output_type": "stream",
     "text": [
      "INFO:httpx:HTTP Request: POST https://api.openai.com/v1/chat/completions \"HTTP/1.1 200 OK\"\n"
     ]
    },
    {
     "name": "stdout",
     "output_type": "stream",
     "text": [
      "✓ Processed WeddingVenueStyle for: Rustic Pearl Weddings & Events\n"
     ]
    },
    {
     "name": "stderr",
     "output_type": "stream",
     "text": [
      "INFO:httpx:HTTP Request: POST https://api.openai.com/v1/chat/completions \"HTTP/1.1 200 OK\"\n"
     ]
    },
    {
     "name": "stdout",
     "output_type": "stream",
     "text": [
      "✓ Processed WeddingVenueOther for: Rustic Pearl Weddings & Events\n"
     ]
    },
    {
     "name": "stderr",
     "output_type": "stream",
     "text": [
      "INFO:httpx:HTTP Request: POST https://api.openai.com/v1/chat/completions \"HTTP/1.1 200 OK\"\n"
     ]
    },
    {
     "name": "stdout",
     "output_type": "stream",
     "text": [
      "✓ Processed WeddingContactInfo for: Aliso Viejo Wedgewood\n"
     ]
    },
    {
     "name": "stderr",
     "output_type": "stream",
     "text": [
      "INFO:httpx:HTTP Request: POST https://api.openai.com/v1/chat/completions \"HTTP/1.1 200 OK\"\n"
     ]
    },
    {
     "name": "stdout",
     "output_type": "stream",
     "text": [
      "✓ Processed FoodBreakdown for: Aliso Viejo Wedgewood\n"
     ]
    },
    {
     "name": "stderr",
     "output_type": "stream",
     "text": [
      "INFO:httpx:HTTP Request: POST https://api.openai.com/v1/chat/completions \"HTTP/1.1 200 OK\"\n"
     ]
    },
    {
     "name": "stdout",
     "output_type": "stream",
     "text": [
      "✓ Processed WeddingFoodInfo for: Aliso Viejo Wedgewood\n"
     ]
    },
    {
     "name": "stderr",
     "output_type": "stream",
     "text": [
      "INFO:httpx:HTTP Request: POST https://api.openai.com/v1/chat/completions \"HTTP/1.1 200 OK\"\n"
     ]
    },
    {
     "name": "stdout",
     "output_type": "stream",
     "text": [
      "✓ Processed BarBreakdown for: Aliso Viejo Wedgewood\n"
     ]
    },
    {
     "name": "stderr",
     "output_type": "stream",
     "text": [
      "INFO:httpx:HTTP Request: POST https://api.openai.com/v1/chat/completions \"HTTP/1.1 200 OK\"\n"
     ]
    },
    {
     "name": "stdout",
     "output_type": "stream",
     "text": [
      "✓ Processed WeddingVenuePricingSummary for: Aliso Viejo Wedgewood\n"
     ]
    },
    {
     "name": "stderr",
     "output_type": "stream",
     "text": [
      "INFO:httpx:HTTP Request: POST https://api.openai.com/v1/chat/completions \"HTTP/1.1 200 OK\"\n"
     ]
    },
    {
     "name": "stdout",
     "output_type": "stream",
     "text": [
      "✓ Processed WeddingVenueStyle for: Aliso Viejo Wedgewood\n"
     ]
    },
    {
     "name": "stderr",
     "output_type": "stream",
     "text": [
      "INFO:httpx:HTTP Request: POST https://api.openai.com/v1/chat/completions \"HTTP/1.1 200 OK\"\n"
     ]
    },
    {
     "name": "stdout",
     "output_type": "stream",
     "text": [
      "✓ Processed WeddingVenueOther for: Aliso Viejo Wedgewood\n"
     ]
    },
    {
     "name": "stderr",
     "output_type": "stream",
     "text": [
      "INFO:httpx:HTTP Request: POST https://api.openai.com/v1/chat/completions \"HTTP/1.1 200 OK\"\n"
     ]
    },
    {
     "name": "stdout",
     "output_type": "stream",
     "text": [
      "✓ Processed WeddingContactInfo for: Avenue of the Arts\n"
     ]
    },
    {
     "name": "stderr",
     "output_type": "stream",
     "text": [
      "INFO:httpx:HTTP Request: POST https://api.openai.com/v1/chat/completions \"HTTP/1.1 200 OK\"\n"
     ]
    },
    {
     "name": "stdout",
     "output_type": "stream",
     "text": [
      "✓ Processed FoodBreakdown for: Avenue of the Arts\n"
     ]
    },
    {
     "name": "stderr",
     "output_type": "stream",
     "text": [
      "INFO:httpx:HTTP Request: POST https://api.openai.com/v1/chat/completions \"HTTP/1.1 200 OK\"\n"
     ]
    },
    {
     "name": "stdout",
     "output_type": "stream",
     "text": [
      "✓ Processed WeddingFoodInfo for: Avenue of the Arts\n"
     ]
    },
    {
     "name": "stderr",
     "output_type": "stream",
     "text": [
      "INFO:httpx:HTTP Request: POST https://api.openai.com/v1/chat/completions \"HTTP/1.1 200 OK\"\n"
     ]
    },
    {
     "name": "stdout",
     "output_type": "stream",
     "text": [
      "✓ Processed BarBreakdown for: Avenue of the Arts\n"
     ]
    },
    {
     "name": "stderr",
     "output_type": "stream",
     "text": [
      "INFO:httpx:HTTP Request: POST https://api.openai.com/v1/chat/completions \"HTTP/1.1 200 OK\"\n"
     ]
    },
    {
     "name": "stdout",
     "output_type": "stream",
     "text": [
      "✓ Processed WeddingVenuePricingSummary for: Avenue of the Arts\n"
     ]
    },
    {
     "name": "stderr",
     "output_type": "stream",
     "text": [
      "INFO:httpx:HTTP Request: POST https://api.openai.com/v1/chat/completions \"HTTP/1.1 200 OK\"\n"
     ]
    },
    {
     "name": "stdout",
     "output_type": "stream",
     "text": [
      "✓ Processed WeddingVenueStyle for: Avenue of the Arts\n"
     ]
    },
    {
     "name": "stderr",
     "output_type": "stream",
     "text": [
      "INFO:httpx:HTTP Request: POST https://api.openai.com/v1/chat/completions \"HTTP/1.1 200 OK\"\n"
     ]
    },
    {
     "name": "stdout",
     "output_type": "stream",
     "text": [
      "✓ Processed WeddingVenueOther for: Avenue of the Arts\n"
     ]
    },
    {
     "name": "stderr",
     "output_type": "stream",
     "text": [
      "INFO:httpx:HTTP Request: POST https://api.openai.com/v1/chat/completions \"HTTP/1.1 200 OK\"\n"
     ]
    },
    {
     "name": "stdout",
     "output_type": "stream",
     "text": [
      "✓ Processed WeddingContactInfo for: 94th Aero Squadron Restaurant_\n"
     ]
    },
    {
     "name": "stderr",
     "output_type": "stream",
     "text": [
      "INFO:httpx:HTTP Request: POST https://api.openai.com/v1/chat/completions \"HTTP/1.1 200 OK\"\n"
     ]
    },
    {
     "name": "stdout",
     "output_type": "stream",
     "text": [
      "✓ Processed FoodBreakdown for: 94th Aero Squadron Restaurant_\n"
     ]
    },
    {
     "name": "stderr",
     "output_type": "stream",
     "text": [
      "INFO:httpx:HTTP Request: POST https://api.openai.com/v1/chat/completions \"HTTP/1.1 200 OK\"\n"
     ]
    },
    {
     "name": "stdout",
     "output_type": "stream",
     "text": [
      "✓ Processed WeddingFoodInfo for: 94th Aero Squadron Restaurant_\n"
     ]
    },
    {
     "name": "stderr",
     "output_type": "stream",
     "text": [
      "INFO:httpx:HTTP Request: POST https://api.openai.com/v1/chat/completions \"HTTP/1.1 200 OK\"\n"
     ]
    },
    {
     "name": "stdout",
     "output_type": "stream",
     "text": [
      "✓ Processed BarBreakdown for: 94th Aero Squadron Restaurant_\n"
     ]
    },
    {
     "name": "stderr",
     "output_type": "stream",
     "text": [
      "INFO:httpx:HTTP Request: POST https://api.openai.com/v1/chat/completions \"HTTP/1.1 200 OK\"\n"
     ]
    },
    {
     "name": "stdout",
     "output_type": "stream",
     "text": [
      "✓ Processed WeddingVenuePricingSummary for: 94th Aero Squadron Restaurant_\n"
     ]
    },
    {
     "name": "stderr",
     "output_type": "stream",
     "text": [
      "INFO:httpx:HTTP Request: POST https://api.openai.com/v1/chat/completions \"HTTP/1.1 200 OK\"\n"
     ]
    },
    {
     "name": "stdout",
     "output_type": "stream",
     "text": [
      "✓ Processed WeddingVenueStyle for: 94th Aero Squadron Restaurant_\n"
     ]
    },
    {
     "name": "stderr",
     "output_type": "stream",
     "text": [
      "INFO:httpx:HTTP Request: POST https://api.openai.com/v1/chat/completions \"HTTP/1.1 200 OK\"\n"
     ]
    },
    {
     "name": "stdout",
     "output_type": "stream",
     "text": [
      "✓ Processed WeddingVenueOther for: 94th Aero Squadron Restaurant_\n"
     ]
    },
    {
     "name": "stderr",
     "output_type": "stream",
     "text": [
      "INFO:httpx:HTTP Request: POST https://api.openai.com/v1/chat/completions \"HTTP/1.1 200 OK\"\n"
     ]
    },
    {
     "name": "stdout",
     "output_type": "stream",
     "text": [
      "✓ Processed WeddingContactInfo for: Alcazar Palm Springs\n"
     ]
    },
    {
     "name": "stderr",
     "output_type": "stream",
     "text": [
      "INFO:httpx:HTTP Request: POST https://api.openai.com/v1/chat/completions \"HTTP/1.1 200 OK\"\n"
     ]
    },
    {
     "name": "stdout",
     "output_type": "stream",
     "text": [
      "✓ Processed FoodBreakdown for: Alcazar Palm Springs\n"
     ]
    },
    {
     "name": "stderr",
     "output_type": "stream",
     "text": [
      "INFO:httpx:HTTP Request: POST https://api.openai.com/v1/chat/completions \"HTTP/1.1 200 OK\"\n"
     ]
    },
    {
     "name": "stdout",
     "output_type": "stream",
     "text": [
      "✓ Processed WeddingFoodInfo for: Alcazar Palm Springs\n"
     ]
    },
    {
     "name": "stderr",
     "output_type": "stream",
     "text": [
      "INFO:httpx:HTTP Request: POST https://api.openai.com/v1/chat/completions \"HTTP/1.1 200 OK\"\n"
     ]
    },
    {
     "name": "stdout",
     "output_type": "stream",
     "text": [
      "✓ Processed BarBreakdown for: Alcazar Palm Springs\n"
     ]
    },
    {
     "name": "stderr",
     "output_type": "stream",
     "text": [
      "INFO:httpx:HTTP Request: POST https://api.openai.com/v1/chat/completions \"HTTP/1.1 200 OK\"\n"
     ]
    },
    {
     "name": "stdout",
     "output_type": "stream",
     "text": [
      "✓ Processed WeddingVenuePricingSummary for: Alcazar Palm Springs\n"
     ]
    },
    {
     "name": "stderr",
     "output_type": "stream",
     "text": [
      "INFO:httpx:HTTP Request: POST https://api.openai.com/v1/chat/completions \"HTTP/1.1 200 OK\"\n"
     ]
    },
    {
     "name": "stdout",
     "output_type": "stream",
     "text": [
      "✓ Processed WeddingVenueStyle for: Alcazar Palm Springs\n"
     ]
    },
    {
     "name": "stderr",
     "output_type": "stream",
     "text": [
      "INFO:httpx:HTTP Request: POST https://api.openai.com/v1/chat/completions \"HTTP/1.1 200 OK\"\n"
     ]
    },
    {
     "name": "stdout",
     "output_type": "stream",
     "text": [
      "✓ Processed WeddingVenueOther for: Alcazar Palm Springs\n"
     ]
    },
    {
     "name": "stderr",
     "output_type": "stream",
     "text": [
      "INFO:httpx:HTTP Request: POST https://api.openai.com/v1/chat/completions \"HTTP/1.1 200 OK\"\n"
     ]
    },
    {
     "name": "stdout",
     "output_type": "stream",
     "text": [
      "✓ Processed WeddingContactInfo for: Agua Hedionda Nature Center\n"
     ]
    },
    {
     "name": "stderr",
     "output_type": "stream",
     "text": [
      "INFO:httpx:HTTP Request: POST https://api.openai.com/v1/chat/completions \"HTTP/1.1 200 OK\"\n"
     ]
    },
    {
     "name": "stdout",
     "output_type": "stream",
     "text": [
      "✓ Processed FoodBreakdown for: Agua Hedionda Nature Center\n"
     ]
    },
    {
     "name": "stderr",
     "output_type": "stream",
     "text": [
      "INFO:httpx:HTTP Request: POST https://api.openai.com/v1/chat/completions \"HTTP/1.1 200 OK\"\n"
     ]
    },
    {
     "name": "stdout",
     "output_type": "stream",
     "text": [
      "✓ Processed WeddingFoodInfo for: Agua Hedionda Nature Center\n"
     ]
    },
    {
     "name": "stderr",
     "output_type": "stream",
     "text": [
      "INFO:httpx:HTTP Request: POST https://api.openai.com/v1/chat/completions \"HTTP/1.1 200 OK\"\n"
     ]
    },
    {
     "name": "stdout",
     "output_type": "stream",
     "text": [
      "✓ Processed BarBreakdown for: Agua Hedionda Nature Center\n"
     ]
    },
    {
     "name": "stderr",
     "output_type": "stream",
     "text": [
      "INFO:httpx:HTTP Request: POST https://api.openai.com/v1/chat/completions \"HTTP/1.1 200 OK\"\n"
     ]
    },
    {
     "name": "stdout",
     "output_type": "stream",
     "text": [
      "✓ Processed WeddingVenuePricingSummary for: Agua Hedionda Nature Center\n"
     ]
    },
    {
     "name": "stderr",
     "output_type": "stream",
     "text": [
      "INFO:httpx:HTTP Request: POST https://api.openai.com/v1/chat/completions \"HTTP/1.1 200 OK\"\n"
     ]
    },
    {
     "name": "stdout",
     "output_type": "stream",
     "text": [
      "✓ Processed WeddingVenueStyle for: Agua Hedionda Nature Center\n"
     ]
    },
    {
     "name": "stderr",
     "output_type": "stream",
     "text": [
      "INFO:httpx:HTTP Request: POST https://api.openai.com/v1/chat/completions \"HTTP/1.1 200 OK\"\n"
     ]
    },
    {
     "name": "stdout",
     "output_type": "stream",
     "text": [
      "✓ Processed WeddingVenueOther for: Agua Hedionda Nature Center\n"
     ]
    },
    {
     "name": "stderr",
     "output_type": "stream",
     "text": [
      "INFO:httpx:HTTP Request: POST https://api.openai.com/v1/chat/completions \"HTTP/1.1 200 OK\"\n"
     ]
    },
    {
     "name": "stdout",
     "output_type": "stream",
     "text": [
      "✓ Processed WeddingContactInfo for: a.o.c. Brentwood\n"
     ]
    },
    {
     "name": "stderr",
     "output_type": "stream",
     "text": [
      "INFO:httpx:HTTP Request: POST https://api.openai.com/v1/chat/completions \"HTTP/1.1 200 OK\"\n"
     ]
    },
    {
     "name": "stdout",
     "output_type": "stream",
     "text": [
      "✓ Processed FoodBreakdown for: a.o.c. Brentwood\n"
     ]
    },
    {
     "name": "stderr",
     "output_type": "stream",
     "text": [
      "INFO:httpx:HTTP Request: POST https://api.openai.com/v1/chat/completions \"HTTP/1.1 200 OK\"\n"
     ]
    },
    {
     "name": "stdout",
     "output_type": "stream",
     "text": [
      "✓ Processed WeddingFoodInfo for: a.o.c. Brentwood\n"
     ]
    },
    {
     "name": "stderr",
     "output_type": "stream",
     "text": [
      "INFO:httpx:HTTP Request: POST https://api.openai.com/v1/chat/completions \"HTTP/1.1 200 OK\"\n"
     ]
    },
    {
     "name": "stdout",
     "output_type": "stream",
     "text": [
      "✓ Processed BarBreakdown for: a.o.c. Brentwood\n"
     ]
    },
    {
     "name": "stderr",
     "output_type": "stream",
     "text": [
      "INFO:httpx:HTTP Request: POST https://api.openai.com/v1/chat/completions \"HTTP/1.1 200 OK\"\n"
     ]
    },
    {
     "name": "stdout",
     "output_type": "stream",
     "text": [
      "✓ Processed WeddingVenuePricingSummary for: a.o.c. Brentwood\n"
     ]
    },
    {
     "name": "stderr",
     "output_type": "stream",
     "text": [
      "INFO:httpx:HTTP Request: POST https://api.openai.com/v1/chat/completions \"HTTP/1.1 200 OK\"\n"
     ]
    },
    {
     "name": "stdout",
     "output_type": "stream",
     "text": [
      "✓ Processed WeddingVenueStyle for: a.o.c. Brentwood\n"
     ]
    },
    {
     "name": "stderr",
     "output_type": "stream",
     "text": [
      "INFO:httpx:HTTP Request: POST https://api.openai.com/v1/chat/completions \"HTTP/1.1 200 OK\"\n"
     ]
    },
    {
     "name": "stdout",
     "output_type": "stream",
     "text": [
      "✓ Processed WeddingVenueOther for: a.o.c. Brentwood\n"
     ]
    },
    {
     "name": "stderr",
     "output_type": "stream",
     "text": [
      "INFO:httpx:HTTP Request: POST https://api.openai.com/v1/chat/completions \"HTTP/1.1 200 OK\"\n"
     ]
    },
    {
     "name": "stdout",
     "output_type": "stream",
     "text": [
      "✓ Processed WeddingContactInfo for: Almansor Court\n"
     ]
    },
    {
     "name": "stderr",
     "output_type": "stream",
     "text": [
      "INFO:httpx:HTTP Request: POST https://api.openai.com/v1/chat/completions \"HTTP/1.1 200 OK\"\n"
     ]
    },
    {
     "name": "stdout",
     "output_type": "stream",
     "text": [
      "✓ Processed FoodBreakdown for: Almansor Court\n"
     ]
    },
    {
     "name": "stderr",
     "output_type": "stream",
     "text": [
      "INFO:httpx:HTTP Request: POST https://api.openai.com/v1/chat/completions \"HTTP/1.1 200 OK\"\n"
     ]
    },
    {
     "name": "stdout",
     "output_type": "stream",
     "text": [
      "✓ Processed WeddingFoodInfo for: Almansor Court\n"
     ]
    },
    {
     "name": "stderr",
     "output_type": "stream",
     "text": [
      "INFO:httpx:HTTP Request: POST https://api.openai.com/v1/chat/completions \"HTTP/1.1 200 OK\"\n"
     ]
    },
    {
     "name": "stdout",
     "output_type": "stream",
     "text": [
      "✓ Processed BarBreakdown for: Almansor Court\n"
     ]
    },
    {
     "name": "stderr",
     "output_type": "stream",
     "text": [
      "INFO:httpx:HTTP Request: POST https://api.openai.com/v1/chat/completions \"HTTP/1.1 200 OK\"\n"
     ]
    },
    {
     "name": "stdout",
     "output_type": "stream",
     "text": [
      "✓ Processed WeddingVenuePricingSummary for: Almansor Court\n"
     ]
    },
    {
     "name": "stderr",
     "output_type": "stream",
     "text": [
      "INFO:httpx:HTTP Request: POST https://api.openai.com/v1/chat/completions \"HTTP/1.1 200 OK\"\n"
     ]
    },
    {
     "name": "stdout",
     "output_type": "stream",
     "text": [
      "✓ Processed WeddingVenueStyle for: Almansor Court\n"
     ]
    },
    {
     "name": "stderr",
     "output_type": "stream",
     "text": [
      "INFO:httpx:HTTP Request: POST https://api.openai.com/v1/chat/completions \"HTTP/1.1 200 OK\"\n"
     ]
    },
    {
     "name": "stdout",
     "output_type": "stream",
     "text": [
      "✓ Processed WeddingVenueOther for: Almansor Court\n"
     ]
    },
    {
     "name": "stderr",
     "output_type": "stream",
     "text": [
      "INFO:httpx:HTTP Request: POST https://api.openai.com/v1/chat/completions \"HTTP/1.1 200 OK\"\n"
     ]
    },
    {
     "name": "stdout",
     "output_type": "stream",
     "text": [
      "✓ Processed WeddingContactInfo for: RIVERHOUSEBBQ.COM\n"
     ]
    },
    {
     "name": "stderr",
     "output_type": "stream",
     "text": [
      "INFO:httpx:HTTP Request: POST https://api.openai.com/v1/chat/completions \"HTTP/1.1 200 OK\"\n"
     ]
    },
    {
     "name": "stdout",
     "output_type": "stream",
     "text": [
      "✓ Processed FoodBreakdown for: RIVERHOUSEBBQ.COM\n"
     ]
    },
    {
     "name": "stderr",
     "output_type": "stream",
     "text": [
      "INFO:httpx:HTTP Request: POST https://api.openai.com/v1/chat/completions \"HTTP/1.1 200 OK\"\n"
     ]
    },
    {
     "name": "stdout",
     "output_type": "stream",
     "text": [
      "✓ Processed WeddingFoodInfo for: RIVERHOUSEBBQ.COM\n"
     ]
    },
    {
     "name": "stderr",
     "output_type": "stream",
     "text": [
      "INFO:httpx:HTTP Request: POST https://api.openai.com/v1/chat/completions \"HTTP/1.1 200 OK\"\n"
     ]
    },
    {
     "name": "stdout",
     "output_type": "stream",
     "text": [
      "✓ Processed BarBreakdown for: RIVERHOUSEBBQ.COM\n"
     ]
    },
    {
     "name": "stderr",
     "output_type": "stream",
     "text": [
      "INFO:httpx:HTTP Request: POST https://api.openai.com/v1/chat/completions \"HTTP/1.1 200 OK\"\n"
     ]
    },
    {
     "name": "stdout",
     "output_type": "stream",
     "text": [
      "✓ Processed WeddingVenuePricingSummary for: RIVERHOUSEBBQ.COM\n"
     ]
    },
    {
     "name": "stderr",
     "output_type": "stream",
     "text": [
      "INFO:httpx:HTTP Request: POST https://api.openai.com/v1/chat/completions \"HTTP/1.1 200 OK\"\n"
     ]
    },
    {
     "name": "stdout",
     "output_type": "stream",
     "text": [
      "✓ Processed WeddingVenueStyle for: RIVERHOUSEBBQ.COM\n"
     ]
    },
    {
     "name": "stderr",
     "output_type": "stream",
     "text": [
      "INFO:httpx:HTTP Request: POST https://api.openai.com/v1/chat/completions \"HTTP/1.1 200 OK\"\n"
     ]
    },
    {
     "name": "stdout",
     "output_type": "stream",
     "text": [
      "✓ Processed WeddingVenueOther for: RIVERHOUSEBBQ.COM\n",
      "saving to:  all_info_20250419231909.xlsx\n"
     ]
    }
   ],
   "source": [
    "# Setup\n",
    "from wedding_venues import markdown_to_structured_output\n",
    "from dotenv import load_dotenv\n",
    "from datetime import datetime\n",
    "\n",
    "load_dotenv(override=True)\n",
    "from pathlib import Path\n",
    "\n",
    "output_dir = Path(OUTPUT_DIR)\n",
    "venue_data = None\n",
    "try:\n",
    "    for venue_dir in output_dir.glob(\"*\"):\n",
    "        markdown_path = list(venue_dir.glob(\"*.md\"))\n",
    "        if not markdown_path:\n",
    "            continue\n",
    "        markdown_path = markdown_path[0]\n",
    "        row = markdown_to_structured_output(markdown_path)\n",
    "        if venue_data is None:\n",
    "            venue_data = row\n",
    "        else:\n",
    "            try:\n",
    "                venue_data += row\n",
    "            except Exception as e:\n",
    "                print(f\"✗ Error adding {venue}: {e}\")\n",
    "finally:\n",
    "    now = datetime.now().strftime(\"%Y%m%d%H%M%S\")\n",
    "    venue_data.to_excel(f\"all_info_{now}.xlsx\")\n"
   ]
  },
  {
   "cell_type": "code",
   "execution_count": 17,
   "id": "2ce18c35",
   "metadata": {},
   "outputs": [
    {
     "ename": "StopIteration",
     "evalue": "",
     "output_type": "error",
     "traceback": [
      "\u001b[31m---------------------------------------------------------------------------\u001b[39m",
      "\u001b[31mStopIteration\u001b[39m                             Traceback (most recent call last)",
      "\u001b[36mCell\u001b[39m\u001b[36m \u001b[39m\u001b[32mIn[17]\u001b[39m\u001b[32m, line 1\u001b[39m\n\u001b[32m----> \u001b[39m\u001b[32m1\u001b[39m \u001b[43mvenue_dir\u001b[49m\u001b[43m.\u001b[49m\u001b[43mglob\u001b[49m\u001b[43m(\u001b[49m\u001b[33;43m\"\u001b[39;49m\u001b[33;43m*.txt\u001b[39;49m\u001b[33;43m\"\u001b[39;49m\u001b[43m)\u001b[49m\u001b[43m.\u001b[49m\u001b[34;43m__next__\u001b[39;49m\u001b[43m(\u001b[49m\u001b[43m)\u001b[49m\n",
      "\u001b[31mStopIteration\u001b[39m: "
     ]
    }
   ],
   "source": [
    "venue_dir.glob(\"*.txt\").__next__()"
   ]
  },
  {
   "cell_type": "markdown",
   "id": "6fd3e0c1",
   "metadata": {},
   "source": [
    "# old"
   ]
  },
  {
   "cell_type": "code",
   "execution_count": 21,
   "id": "01c6a342",
   "metadata": {},
   "outputs": [
    {
     "name": "stderr",
     "output_type": "stream",
     "text": [
      "Processing venues:   0%|          | 0/12 [00:00<?, ?venue/s]"
     ]
    },
    {
     "name": "stdout",
     "output_type": "stream",
     "text": [
      "Processing venue: Alcazar Palm Springs.pdf\n",
      "output zipextract folder: test_output/Alcazar Palm Springs.pdf/\n",
      "output zip path: test_output/Alcazar Palm Springs.pdf/extract_2025-04-13T02-11-34.zip\n",
      "2025-04-13 15:22:14 JSON file already exists. Skipping extraction.\n",
      "2025-04-13 15:22:14 open json file\n",
      "2025-04-13 15:22:14 extract text\n"
     ]
    },
    {
     "name": "stderr",
     "output_type": "stream",
     "text": [
      "Processing venues:   0%|          | 0/12 [00:01<?, ?venue/s]"
     ]
    },
    {
     "name": "stdout",
     "output_type": "stream",
     "text": [
      "✓ Processed WeddingContactInfo for: Alcazar Palm Springs.pdf\n"
     ]
    },
    {
     "name": "stderr",
     "output_type": "stream",
     "text": [
      "Processing venues:   0%|          | 0/12 [00:02<?, ?venue/s]"
     ]
    },
    {
     "name": "stdout",
     "output_type": "stream",
     "text": [
      "✓ Processed FoodBreakdown for: Alcazar Palm Springs.pdf\n"
     ]
    },
    {
     "name": "stderr",
     "output_type": "stream",
     "text": [
      "Processing venues:   0%|          | 0/12 [00:03<?, ?venue/s]"
     ]
    },
    {
     "name": "stdout",
     "output_type": "stream",
     "text": [
      "✓ Processed WeddingFoodInfo for: Alcazar Palm Springs.pdf\n"
     ]
    },
    {
     "name": "stderr",
     "output_type": "stream",
     "text": [
      "Processing venues:   0%|          | 0/12 [00:04<?, ?venue/s]"
     ]
    },
    {
     "name": "stdout",
     "output_type": "stream",
     "text": [
      "✓ Processed BarBreakdown for: Alcazar Palm Springs.pdf\n"
     ]
    },
    {
     "name": "stderr",
     "output_type": "stream",
     "text": [
      "Processing venues:   0%|          | 0/12 [00:06<?, ?venue/s]"
     ]
    },
    {
     "name": "stdout",
     "output_type": "stream",
     "text": [
      "✓ Processed WeddingVenuePricingSummary for: Alcazar Palm Springs.pdf\n"
     ]
    },
    {
     "name": "stderr",
     "output_type": "stream",
     "text": [
      "Processing venues:   0%|          | 0/12 [00:07<?, ?venue/s]"
     ]
    },
    {
     "name": "stdout",
     "output_type": "stream",
     "text": [
      "✓ Processed WeddingVenueStyle for: Alcazar Palm Springs.pdf\n"
     ]
    },
    {
     "name": "stderr",
     "output_type": "stream",
     "text": [
      "Processing venues:   8%|▊         | 1/12 [00:08<01:38,  8.99s/venue]"
     ]
    },
    {
     "name": "stdout",
     "output_type": "stream",
     "text": [
      "✓ Processed WeddingVenueOther for: Alcazar Palm Springs.pdf\n",
      "Processing venue: Aliso Viejo Country Club.pdf\n",
      "output zipextract folder: test_output/Aliso Viejo Country Club.pdf/\n",
      "output zip path: test_output/Aliso Viejo Country Club.pdf/extract_2025-04-13T14-38-23.zip\n",
      "2025-04-13 15:22:23 JSON file already exists. Skipping extraction.\n",
      "2025-04-13 15:22:23 open json file\n",
      "2025-04-13 15:22:23 extract text\n"
     ]
    },
    {
     "name": "stderr",
     "output_type": "stream",
     "text": [
      "Processing venues:   8%|▊         | 1/12 [01:37<01:38,  8.99s/venue]"
     ]
    },
    {
     "name": "stdout",
     "output_type": "stream",
     "text": [
      "✓ Processed WeddingContactInfo for: Aliso Viejo Country Club.pdf\n"
     ]
    },
    {
     "name": "stderr",
     "output_type": "stream",
     "text": [
      "Processing venues:   8%|▊         | 1/12 [01:39<01:38,  8.99s/venue]"
     ]
    },
    {
     "name": "stdout",
     "output_type": "stream",
     "text": [
      "✓ Processed FoodBreakdown for: Aliso Viejo Country Club.pdf\n"
     ]
    },
    {
     "name": "stderr",
     "output_type": "stream",
     "text": [
      "Processing venues:   8%|▊         | 1/12 [01:41<01:38,  8.99s/venue]"
     ]
    },
    {
     "name": "stdout",
     "output_type": "stream",
     "text": [
      "✓ Processed WeddingFoodInfo for: Aliso Viejo Country Club.pdf\n"
     ]
    },
    {
     "name": "stderr",
     "output_type": "stream",
     "text": [
      "Processing venues:   8%|▊         | 1/12 [01:42<01:38,  8.99s/venue]"
     ]
    },
    {
     "name": "stdout",
     "output_type": "stream",
     "text": [
      "✓ Processed BarBreakdown for: Aliso Viejo Country Club.pdf\n"
     ]
    },
    {
     "name": "stderr",
     "output_type": "stream",
     "text": [
      "Processing venues:   8%|▊         | 1/12 [01:44<01:38,  8.99s/venue]"
     ]
    },
    {
     "name": "stdout",
     "output_type": "stream",
     "text": [
      "✓ Processed WeddingVenuePricingSummary for: Aliso Viejo Country Club.pdf\n"
     ]
    },
    {
     "name": "stderr",
     "output_type": "stream",
     "text": [
      "Processing venues:   8%|▊         | 1/12 [01:46<01:38,  8.99s/venue]"
     ]
    },
    {
     "name": "stdout",
     "output_type": "stream",
     "text": [
      "✓ Processed WeddingVenueStyle for: Aliso Viejo Country Club.pdf\n"
     ]
    },
    {
     "name": "stderr",
     "output_type": "stream",
     "text": [
      "Processing venues:  17%|█▋        | 2/12 [01:47<10:16, 61.68s/venue]"
     ]
    },
    {
     "name": "stdout",
     "output_type": "stream",
     "text": [
      "✓ Processed WeddingVenueOther for: Aliso Viejo Country Club.pdf\n",
      "Processing venue: 94th Aero Squadron Restaurant_.pdf\n",
      "output zipextract folder: test_output/94th Aero Squadron Restaurant_.pdf/\n",
      "output zip path: test_output/94th Aero Squadron Restaurant_.pdf/extract_2025-04-13T14-39-03.zip\n",
      "2025-04-13 15:24:02 JSON file already exists. Skipping extraction.\n",
      "2025-04-13 15:24:02 open json file\n",
      "2025-04-13 15:24:02 extract text\n"
     ]
    },
    {
     "name": "stderr",
     "output_type": "stream",
     "text": [
      "Processing venues:  17%|█▋        | 2/12 [04:19<10:16, 61.68s/venue]"
     ]
    },
    {
     "name": "stdout",
     "output_type": "stream",
     "text": [
      "✓ Processed WeddingContactInfo for: 94th Aero Squadron Restaurant_.pdf\n"
     ]
    },
    {
     "name": "stderr",
     "output_type": "stream",
     "text": [
      "Processing venues:  17%|█▋        | 2/12 [04:23<10:16, 61.68s/venue]"
     ]
    },
    {
     "name": "stdout",
     "output_type": "stream",
     "text": [
      "✓ Processed FoodBreakdown for: 94th Aero Squadron Restaurant_.pdf\n"
     ]
    },
    {
     "name": "stderr",
     "output_type": "stream",
     "text": [
      "Processing venues:  17%|█▋        | 2/12 [04:24<10:16, 61.68s/venue]"
     ]
    },
    {
     "name": "stdout",
     "output_type": "stream",
     "text": [
      "✓ Processed WeddingFoodInfo for: 94th Aero Squadron Restaurant_.pdf\n"
     ]
    },
    {
     "name": "stderr",
     "output_type": "stream",
     "text": [
      "Processing venues:  17%|█▋        | 2/12 [04:25<10:16, 61.68s/venue]"
     ]
    },
    {
     "name": "stdout",
     "output_type": "stream",
     "text": [
      "✓ Processed BarBreakdown for: 94th Aero Squadron Restaurant_.pdf\n"
     ]
    },
    {
     "name": "stderr",
     "output_type": "stream",
     "text": [
      "Processing venues:  17%|█▋        | 2/12 [04:27<10:16, 61.68s/venue]"
     ]
    },
    {
     "name": "stdout",
     "output_type": "stream",
     "text": [
      "✓ Processed WeddingVenuePricingSummary for: 94th Aero Squadron Restaurant_.pdf\n"
     ]
    },
    {
     "name": "stderr",
     "output_type": "stream",
     "text": [
      "Processing venues:  17%|█▋        | 2/12 [04:29<10:16, 61.68s/venue]"
     ]
    },
    {
     "name": "stdout",
     "output_type": "stream",
     "text": [
      "✓ Processed WeddingVenueStyle for: 94th Aero Squadron Restaurant_.pdf\n"
     ]
    },
    {
     "name": "stderr",
     "output_type": "stream",
     "text": [
      "Processing venues:  25%|██▌       | 3/12 [04:30<16:11, 107.93s/venue]"
     ]
    },
    {
     "name": "stdout",
     "output_type": "stream",
     "text": [
      "✓ Processed WeddingVenueOther for: 94th Aero Squadron Restaurant_.pdf\n",
      "Processing venue: Agua Hedionda Nature Center.pdf\n",
      "output zipextract folder: test_output/Agua Hedionda Nature Center.pdf/\n",
      "output zip path: test_output/Agua Hedionda Nature Center.pdf/extract_2025-04-13T14-39-13.zip\n",
      "2025-04-13 15:26:45 JSON file already exists. Skipping extraction.\n",
      "2025-04-13 15:26:45 open json file\n",
      "2025-04-13 15:26:45 extract text\n"
     ]
    },
    {
     "name": "stderr",
     "output_type": "stream",
     "text": [
      "Processing venues:  25%|██▌       | 3/12 [04:31<16:11, 107.93s/venue]"
     ]
    },
    {
     "name": "stdout",
     "output_type": "stream",
     "text": [
      "✓ Processed WeddingContactInfo for: Agua Hedionda Nature Center.pdf\n"
     ]
    },
    {
     "name": "stderr",
     "output_type": "stream",
     "text": [
      "Processing venues:  25%|██▌       | 3/12 [04:32<16:11, 107.93s/venue]"
     ]
    },
    {
     "name": "stdout",
     "output_type": "stream",
     "text": [
      "✓ Processed FoodBreakdown for: Agua Hedionda Nature Center.pdf\n"
     ]
    },
    {
     "name": "stderr",
     "output_type": "stream",
     "text": [
      "Processing venues:  25%|██▌       | 3/12 [04:33<16:11, 107.93s/venue]"
     ]
    },
    {
     "name": "stdout",
     "output_type": "stream",
     "text": [
      "✓ Processed WeddingFoodInfo for: Agua Hedionda Nature Center.pdf\n"
     ]
    },
    {
     "name": "stderr",
     "output_type": "stream",
     "text": [
      "Processing venues:  25%|██▌       | 3/12 [04:35<16:11, 107.93s/venue]"
     ]
    },
    {
     "name": "stdout",
     "output_type": "stream",
     "text": [
      "✓ Processed BarBreakdown for: Agua Hedionda Nature Center.pdf\n"
     ]
    },
    {
     "name": "stderr",
     "output_type": "stream",
     "text": [
      "Processing venues:  25%|██▌       | 3/12 [04:37<16:11, 107.93s/venue]"
     ]
    },
    {
     "name": "stdout",
     "output_type": "stream",
     "text": [
      "✓ Processed WeddingVenuePricingSummary for: Agua Hedionda Nature Center.pdf\n"
     ]
    },
    {
     "name": "stderr",
     "output_type": "stream",
     "text": [
      "Processing venues:  25%|██▌       | 3/12 [04:38<16:11, 107.93s/venue]"
     ]
    },
    {
     "name": "stdout",
     "output_type": "stream",
     "text": [
      "✓ Processed WeddingVenueStyle for: Agua Hedionda Nature Center.pdf\n"
     ]
    },
    {
     "name": "stderr",
     "output_type": "stream",
     "text": [
      "Processing venues:  33%|███▎      | 4/12 [04:40<09:13, 69.16s/venue] "
     ]
    },
    {
     "name": "stdout",
     "output_type": "stream",
     "text": [
      "✓ Processed WeddingVenueOther for: Agua Hedionda Nature Center.pdf\n",
      "Processing venue: RIVERHOUSEBBQ.COM.pdf\n",
      "output zipextract folder: test_output/RIVERHOUSEBBQ.COM.pdf/\n",
      "output zip path: test_output/RIVERHOUSEBBQ.COM.pdf/extract_2025-04-13T14-39-40.zip\n",
      "2025-04-13 15:26:55 JSON file already exists. Skipping extraction.\n",
      "2025-04-13 15:26:55 open json file\n",
      "2025-04-13 15:26:55 extract text\n"
     ]
    },
    {
     "name": "stderr",
     "output_type": "stream",
     "text": [
      "Processing venues:  33%|███▎      | 4/12 [06:35<09:13, 69.16s/venue]"
     ]
    },
    {
     "name": "stdout",
     "output_type": "stream",
     "text": [
      "✓ Processed WeddingContactInfo for: RIVERHOUSEBBQ.COM.pdf\n"
     ]
    },
    {
     "name": "stderr",
     "output_type": "stream",
     "text": [
      "Processing venues:  33%|███▎      | 4/12 [06:37<09:13, 69.16s/venue]"
     ]
    },
    {
     "name": "stdout",
     "output_type": "stream",
     "text": [
      "✓ Processed FoodBreakdown for: RIVERHOUSEBBQ.COM.pdf\n"
     ]
    },
    {
     "name": "stderr",
     "output_type": "stream",
     "text": [
      "Processing venues:  33%|███▎      | 4/12 [06:38<09:13, 69.16s/venue]"
     ]
    },
    {
     "name": "stdout",
     "output_type": "stream",
     "text": [
      "✓ Processed WeddingFoodInfo for: RIVERHOUSEBBQ.COM.pdf\n"
     ]
    },
    {
     "name": "stderr",
     "output_type": "stream",
     "text": [
      "Processing venues:  33%|███▎      | 4/12 [06:40<09:13, 69.16s/venue]"
     ]
    },
    {
     "name": "stdout",
     "output_type": "stream",
     "text": [
      "✓ Processed BarBreakdown for: RIVERHOUSEBBQ.COM.pdf\n"
     ]
    },
    {
     "name": "stderr",
     "output_type": "stream",
     "text": [
      "Processing venues:  33%|███▎      | 4/12 [06:43<09:13, 69.16s/venue]"
     ]
    },
    {
     "name": "stdout",
     "output_type": "stream",
     "text": [
      "✓ Processed WeddingVenuePricingSummary for: RIVERHOUSEBBQ.COM.pdf\n"
     ]
    },
    {
     "name": "stderr",
     "output_type": "stream",
     "text": [
      "Processing venues:  33%|███▎      | 4/12 [06:44<09:13, 69.16s/venue]"
     ]
    },
    {
     "name": "stdout",
     "output_type": "stream",
     "text": [
      "✓ Processed WeddingVenueStyle for: RIVERHOUSEBBQ.COM.pdf\n"
     ]
    },
    {
     "name": "stderr",
     "output_type": "stream",
     "text": [
      "Processing venues:  42%|████▏     | 5/12 [06:45<10:25, 89.38s/venue]"
     ]
    },
    {
     "name": "stdout",
     "output_type": "stream",
     "text": [
      "✓ Processed WeddingVenueOther for: RIVERHOUSEBBQ.COM.pdf\n",
      "Processing venue: Aliso Viejo Wedgewood.pdf\n",
      "output zipextract folder: test_output/Aliso Viejo Wedgewood.pdf/\n",
      "output zip path: test_output/Aliso Viejo Wedgewood.pdf/extract_2025-04-13T14-40-01.zip\n",
      "2025-04-13 15:29:00 JSON file already exists. Skipping extraction.\n",
      "2025-04-13 15:29:00 open json file\n",
      "2025-04-13 15:29:00 extract text\n"
     ]
    },
    {
     "name": "stderr",
     "output_type": "stream",
     "text": [
      "Processing venues:  42%|████▏     | 5/12 [07:37<10:25, 89.38s/venue]"
     ]
    },
    {
     "name": "stdout",
     "output_type": "stream",
     "text": [
      "✓ Processed WeddingContactInfo for: Aliso Viejo Wedgewood.pdf\n"
     ]
    },
    {
     "name": "stderr",
     "output_type": "stream",
     "text": [
      "Processing venues:  42%|████▏     | 5/12 [07:39<10:25, 89.38s/venue]"
     ]
    },
    {
     "name": "stdout",
     "output_type": "stream",
     "text": [
      "✓ Processed FoodBreakdown for: Aliso Viejo Wedgewood.pdf\n"
     ]
    },
    {
     "name": "stderr",
     "output_type": "stream",
     "text": [
      "Processing venues:  42%|████▏     | 5/12 [07:41<10:25, 89.38s/venue]"
     ]
    },
    {
     "name": "stdout",
     "output_type": "stream",
     "text": [
      "✓ Processed WeddingFoodInfo for: Aliso Viejo Wedgewood.pdf\n"
     ]
    },
    {
     "name": "stderr",
     "output_type": "stream",
     "text": [
      "Processing venues:  42%|████▏     | 5/12 [07:42<10:25, 89.38s/venue]"
     ]
    },
    {
     "name": "stdout",
     "output_type": "stream",
     "text": [
      "✓ Processed BarBreakdown for: Aliso Viejo Wedgewood.pdf\n"
     ]
    },
    {
     "name": "stderr",
     "output_type": "stream",
     "text": [
      "Processing venues:  42%|████▏     | 5/12 [07:44<10:25, 89.38s/venue]"
     ]
    },
    {
     "name": "stdout",
     "output_type": "stream",
     "text": [
      "✓ Processed WeddingVenuePricingSummary for: Aliso Viejo Wedgewood.pdf\n"
     ]
    },
    {
     "name": "stderr",
     "output_type": "stream",
     "text": [
      "Processing venues:  42%|████▏     | 5/12 [07:45<10:25, 89.38s/venue]"
     ]
    },
    {
     "name": "stdout",
     "output_type": "stream",
     "text": [
      "✓ Processed WeddingVenueStyle for: Aliso Viejo Wedgewood.pdf\n"
     ]
    },
    {
     "name": "stderr",
     "output_type": "stream",
     "text": [
      "Processing venues:  50%|█████     | 6/12 [07:47<07:59, 79.94s/venue]"
     ]
    },
    {
     "name": "stdout",
     "output_type": "stream",
     "text": [
      "✓ Processed WeddingVenueOther for: Aliso Viejo Wedgewood.pdf\n",
      "Processing venue: Ace Hotel Palm Springs.pdf\n",
      "output zipextract folder: test_output/Ace Hotel Palm Springs.pdf/\n",
      "output zip path: test_output/Ace Hotel Palm Springs.pdf/extract_2025-04-13T02-14-12.zip\n",
      "2025-04-13 15:30:02 JSON file already exists. Skipping extraction.\n",
      "2025-04-13 15:30:02 open json file\n",
      "2025-04-13 15:30:02 extract text\n"
     ]
    },
    {
     "name": "stderr",
     "output_type": "stream",
     "text": [
      "Processing venues:  50%|█████     | 6/12 [11:41<07:59, 79.94s/venue]"
     ]
    },
    {
     "name": "stdout",
     "output_type": "stream",
     "text": [
      "✓ Processed WeddingContactInfo for: Ace Hotel Palm Springs.pdf\n"
     ]
    },
    {
     "name": "stderr",
     "output_type": "stream",
     "text": [
      "Processing venues:  50%|█████     | 6/12 [11:44<07:59, 79.94s/venue]"
     ]
    },
    {
     "name": "stdout",
     "output_type": "stream",
     "text": [
      "✓ Processed FoodBreakdown for: Ace Hotel Palm Springs.pdf\n"
     ]
    },
    {
     "name": "stderr",
     "output_type": "stream",
     "text": [
      "Processing venues:  50%|█████     | 6/12 [11:46<07:59, 79.94s/venue]"
     ]
    },
    {
     "name": "stdout",
     "output_type": "stream",
     "text": [
      "✓ Processed WeddingFoodInfo for: Ace Hotel Palm Springs.pdf\n"
     ]
    },
    {
     "name": "stderr",
     "output_type": "stream",
     "text": [
      "Processing venues:  50%|█████     | 6/12 [11:47<07:59, 79.94s/venue]"
     ]
    },
    {
     "name": "stdout",
     "output_type": "stream",
     "text": [
      "✓ Processed BarBreakdown for: Ace Hotel Palm Springs.pdf\n"
     ]
    },
    {
     "name": "stderr",
     "output_type": "stream",
     "text": [
      "Processing venues:  50%|█████     | 6/12 [11:50<07:59, 79.94s/venue]"
     ]
    },
    {
     "name": "stdout",
     "output_type": "stream",
     "text": [
      "✓ Processed WeddingVenuePricingSummary for: Ace Hotel Palm Springs.pdf\n"
     ]
    },
    {
     "name": "stderr",
     "output_type": "stream",
     "text": [
      "Processing venues:  50%|█████     | 6/12 [11:52<07:59, 79.94s/venue]"
     ]
    },
    {
     "name": "stdout",
     "output_type": "stream",
     "text": [
      "✓ Processed WeddingVenueStyle for: Ace Hotel Palm Springs.pdf\n"
     ]
    },
    {
     "name": "stderr",
     "output_type": "stream",
     "text": [
      "Processing venues:  58%|█████▊    | 7/12 [11:53<11:11, 134.38s/venue]"
     ]
    },
    {
     "name": "stdout",
     "output_type": "stream",
     "text": [
      "✓ Processed WeddingVenueOther for: Ace Hotel Palm Springs.pdf\n",
      "Processing venue: Rustic Pearl Weddings & Events.pdf\n",
      "output zipextract folder: test_output/Rustic Pearl Weddings & Events.pdf/\n",
      "output zip path: test_output/Rustic Pearl Weddings & Events.pdf/extract_2025-04-13T14-44-52.zip\n",
      "2025-04-13 15:34:08 JSON file already exists. Skipping extraction.\n",
      "2025-04-13 15:34:08 open json file\n",
      "2025-04-13 15:34:08 extract text\n"
     ]
    },
    {
     "name": "stderr",
     "output_type": "stream",
     "text": [
      "Processing venues:  58%|█████▊    | 7/12 [12:16<11:11, 134.38s/venue]"
     ]
    },
    {
     "name": "stdout",
     "output_type": "stream",
     "text": [
      "✓ Processed WeddingContactInfo for: Rustic Pearl Weddings & Events.pdf\n"
     ]
    },
    {
     "name": "stderr",
     "output_type": "stream",
     "text": [
      "Processing venues:  58%|█████▊    | 7/12 [12:17<11:11, 134.38s/venue]"
     ]
    },
    {
     "name": "stdout",
     "output_type": "stream",
     "text": [
      "✓ Processed FoodBreakdown for: Rustic Pearl Weddings & Events.pdf\n"
     ]
    },
    {
     "name": "stderr",
     "output_type": "stream",
     "text": [
      "Processing venues:  58%|█████▊    | 7/12 [12:18<11:11, 134.38s/venue]"
     ]
    },
    {
     "name": "stdout",
     "output_type": "stream",
     "text": [
      "✓ Processed WeddingFoodInfo for: Rustic Pearl Weddings & Events.pdf\n"
     ]
    },
    {
     "name": "stderr",
     "output_type": "stream",
     "text": [
      "Processing venues:  58%|█████▊    | 7/12 [12:20<11:11, 134.38s/venue]"
     ]
    },
    {
     "name": "stdout",
     "output_type": "stream",
     "text": [
      "✓ Processed BarBreakdown for: Rustic Pearl Weddings & Events.pdf\n"
     ]
    },
    {
     "name": "stderr",
     "output_type": "stream",
     "text": [
      "Processing venues:  58%|█████▊    | 7/12 [12:21<11:11, 134.38s/venue]"
     ]
    },
    {
     "name": "stdout",
     "output_type": "stream",
     "text": [
      "✓ Processed WeddingVenuePricingSummary for: Rustic Pearl Weddings & Events.pdf\n"
     ]
    },
    {
     "name": "stderr",
     "output_type": "stream",
     "text": [
      "Processing venues:  58%|█████▊    | 7/12 [12:23<11:11, 134.38s/venue]"
     ]
    },
    {
     "name": "stdout",
     "output_type": "stream",
     "text": [
      "✓ Processed WeddingVenueStyle for: Rustic Pearl Weddings & Events.pdf\n"
     ]
    },
    {
     "name": "stderr",
     "output_type": "stream",
     "text": [
      "Processing venues:  67%|██████▋   | 8/12 [12:25<06:46, 101.62s/venue]"
     ]
    },
    {
     "name": "stdout",
     "output_type": "stream",
     "text": [
      "✓ Processed WeddingVenueOther for: Rustic Pearl Weddings & Events.pdf\n",
      "Processing venue: Almansor Court.pdf\n",
      "output zipextract folder: test_output/Almansor Court.pdf/\n",
      "output zip path: test_output/Almansor Court.pdf/extract_2025-04-13T02-14-44.zip\n",
      "2025-04-13 15:34:39 JSON file already exists. Skipping extraction.\n",
      "2025-04-13 15:34:39 open json file\n",
      "2025-04-13 15:34:39 extract text\n"
     ]
    },
    {
     "name": "stderr",
     "output_type": "stream",
     "text": [
      "Processing venues:  67%|██████▋   | 8/12 [15:24<06:46, 101.62s/venue]"
     ]
    },
    {
     "name": "stdout",
     "output_type": "stream",
     "text": [
      "✓ Processed WeddingContactInfo for: Almansor Court.pdf\n"
     ]
    },
    {
     "name": "stderr",
     "output_type": "stream",
     "text": [
      "Processing venues:  67%|██████▋   | 8/12 [15:27<06:46, 101.62s/venue]"
     ]
    },
    {
     "name": "stdout",
     "output_type": "stream",
     "text": [
      "✓ Processed FoodBreakdown for: Almansor Court.pdf\n"
     ]
    },
    {
     "name": "stderr",
     "output_type": "stream",
     "text": [
      "Processing venues:  67%|██████▋   | 8/12 [15:28<06:46, 101.62s/venue]"
     ]
    },
    {
     "name": "stdout",
     "output_type": "stream",
     "text": [
      "✓ Processed WeddingFoodInfo for: Almansor Court.pdf\n"
     ]
    },
    {
     "name": "stderr",
     "output_type": "stream",
     "text": [
      "Processing venues:  67%|██████▋   | 8/12 [15:30<06:46, 101.62s/venue]"
     ]
    },
    {
     "name": "stdout",
     "output_type": "stream",
     "text": [
      "✓ Processed BarBreakdown for: Almansor Court.pdf\n"
     ]
    },
    {
     "name": "stderr",
     "output_type": "stream",
     "text": [
      "Processing venues:  67%|██████▋   | 8/12 [15:32<06:46, 101.62s/venue]"
     ]
    },
    {
     "name": "stdout",
     "output_type": "stream",
     "text": [
      "✓ Processed WeddingVenuePricingSummary for: Almansor Court.pdf\n"
     ]
    },
    {
     "name": "stderr",
     "output_type": "stream",
     "text": [
      "Processing venues:  67%|██████▋   | 8/12 [15:33<06:46, 101.62s/venue]"
     ]
    },
    {
     "name": "stdout",
     "output_type": "stream",
     "text": [
      "✓ Processed WeddingVenueStyle for: Almansor Court.pdf\n"
     ]
    },
    {
     "name": "stderr",
     "output_type": "stream",
     "text": [
      "Processing venues:  75%|███████▌  | 9/12 [15:35<06:28, 129.39s/venue]"
     ]
    },
    {
     "name": "stdout",
     "output_type": "stream",
     "text": [
      "✓ Processed WeddingVenueOther for: Almansor Court.pdf\n",
      "Processing venue: Shell_s Loft.pdf\n",
      "output zipextract folder: test_output/Shell_s Loft.pdf/\n",
      "output zip path: test_output/Shell_s Loft.pdf/extract_2025-04-13T14-45-50.zip\n",
      "2025-04-13 15:37:50 JSON file already exists. Skipping extraction.\n",
      "2025-04-13 15:37:50 open json file\n",
      "2025-04-13 15:37:50 extract text\n"
     ]
    },
    {
     "name": "stderr",
     "output_type": "stream",
     "text": [
      "Processing venues:  75%|███████▌  | 9/12 [19:26<06:28, 129.39s/venue]"
     ]
    },
    {
     "name": "stdout",
     "output_type": "stream",
     "text": [
      "✓ Processed WeddingContactInfo for: Shell_s Loft.pdf\n"
     ]
    },
    {
     "name": "stderr",
     "output_type": "stream",
     "text": [
      "Processing venues:  75%|███████▌  | 9/12 [19:28<06:28, 129.39s/venue]"
     ]
    },
    {
     "name": "stdout",
     "output_type": "stream",
     "text": [
      "✓ Processed FoodBreakdown for: Shell_s Loft.pdf\n"
     ]
    },
    {
     "name": "stderr",
     "output_type": "stream",
     "text": [
      "Processing venues:  75%|███████▌  | 9/12 [19:29<06:28, 129.39s/venue]"
     ]
    },
    {
     "name": "stdout",
     "output_type": "stream",
     "text": [
      "✓ Processed WeddingFoodInfo for: Shell_s Loft.pdf\n"
     ]
    },
    {
     "name": "stderr",
     "output_type": "stream",
     "text": [
      "Processing venues:  75%|███████▌  | 9/12 [19:30<06:28, 129.39s/venue]"
     ]
    },
    {
     "name": "stdout",
     "output_type": "stream",
     "text": [
      "✓ Processed BarBreakdown for: Shell_s Loft.pdf\n"
     ]
    },
    {
     "name": "stderr",
     "output_type": "stream",
     "text": [
      "Processing venues:  75%|███████▌  | 9/12 [19:33<06:28, 129.39s/venue]"
     ]
    },
    {
     "name": "stdout",
     "output_type": "stream",
     "text": [
      "✓ Processed WeddingVenuePricingSummary for: Shell_s Loft.pdf\n"
     ]
    },
    {
     "name": "stderr",
     "output_type": "stream",
     "text": [
      "Processing venues:  75%|███████▌  | 9/12 [19:34<06:28, 129.39s/venue]"
     ]
    },
    {
     "name": "stdout",
     "output_type": "stream",
     "text": [
      "✓ Processed WeddingVenueStyle for: Shell_s Loft.pdf\n"
     ]
    },
    {
     "name": "stderr",
     "output_type": "stream",
     "text": [
      "Processing venues:  83%|████████▎ | 10/12 [19:36<05:27, 163.74s/venue]"
     ]
    },
    {
     "name": "stdout",
     "output_type": "stream",
     "text": [
      "✓ Processed WeddingVenueOther for: Shell_s Loft.pdf\n",
      "Processing venue: a.o.c. Brentwood.pdf\n",
      "output zipextract folder: test_output/a.o.c. Brentwood.pdf/\n",
      "output zip path: test_output/a.o.c. Brentwood.pdf/extract_2025-04-13T02-15-11.zip\n",
      "2025-04-13 15:41:51 JSON file already exists. Skipping extraction.\n",
      "2025-04-13 15:41:51 open json file\n",
      "2025-04-13 15:41:51 extract text\n"
     ]
    },
    {
     "name": "stderr",
     "output_type": "stream",
     "text": [
      "Processing venues:  83%|████████▎ | 10/12 [20:41<05:27, 163.74s/venue]"
     ]
    },
    {
     "name": "stdout",
     "output_type": "stream",
     "text": [
      "✓ Processed WeddingContactInfo for: a.o.c. Brentwood.pdf\n"
     ]
    },
    {
     "name": "stderr",
     "output_type": "stream",
     "text": [
      "Processing venues:  83%|████████▎ | 10/12 [20:45<05:27, 163.74s/venue]"
     ]
    },
    {
     "name": "stdout",
     "output_type": "stream",
     "text": [
      "✓ Processed FoodBreakdown for: a.o.c. Brentwood.pdf\n"
     ]
    },
    {
     "name": "stderr",
     "output_type": "stream",
     "text": [
      "Processing venues:  83%|████████▎ | 10/12 [20:46<05:27, 163.74s/venue]"
     ]
    },
    {
     "name": "stdout",
     "output_type": "stream",
     "text": [
      "✓ Processed WeddingFoodInfo for: a.o.c. Brentwood.pdf\n"
     ]
    },
    {
     "name": "stderr",
     "output_type": "stream",
     "text": [
      "Processing venues:  83%|████████▎ | 10/12 [20:48<05:27, 163.74s/venue]"
     ]
    },
    {
     "name": "stdout",
     "output_type": "stream",
     "text": [
      "✓ Processed BarBreakdown for: a.o.c. Brentwood.pdf\n"
     ]
    },
    {
     "name": "stderr",
     "output_type": "stream",
     "text": [
      "Processing venues:  83%|████████▎ | 10/12 [20:50<05:27, 163.74s/venue]"
     ]
    },
    {
     "name": "stdout",
     "output_type": "stream",
     "text": [
      "✓ Processed WeddingVenuePricingSummary for: a.o.c. Brentwood.pdf\n"
     ]
    },
    {
     "name": "stderr",
     "output_type": "stream",
     "text": [
      "Processing venues:  83%|████████▎ | 10/12 [20:52<05:27, 163.74s/venue]"
     ]
    },
    {
     "name": "stdout",
     "output_type": "stream",
     "text": [
      "✓ Processed WeddingVenueStyle for: a.o.c. Brentwood.pdf\n"
     ]
    },
    {
     "name": "stderr",
     "output_type": "stream",
     "text": [
      "Processing venues:  92%|█████████▏| 11/12 [20:53<01:53, 113.99s/venue]"
     ]
    },
    {
     "name": "stdout",
     "output_type": "stream",
     "text": [
      "✓ Processed WeddingVenueOther for: a.o.c. Brentwood.pdf\n",
      "Processing venue: Avenue of the Arts.pdf\n"
     ]
    },
    {
     "name": "stderr",
     "output_type": "stream",
     "text": [
      "\n"
     ]
    },
    {
     "ename": "IndexError",
     "evalue": "list index out of range",
     "output_type": "error",
     "traceback": [
      "\u001b[31m---------------------------------------------------------------------------\u001b[39m",
      "\u001b[31mIndexError\u001b[39m                                Traceback (most recent call last)",
      "\u001b[36mCell\u001b[39m\u001b[36m \u001b[39m\u001b[32mIn[21]\u001b[39m\u001b[32m, line 69\u001b[39m\n\u001b[32m     66\u001b[39m \u001b[38;5;28;01mfor\u001b[39;00m venue \u001b[38;5;129;01min\u001b[39;00m tqdm(venues, desc=\u001b[33m\"\u001b[39m\u001b[33mProcessing venues\u001b[39m\u001b[33m\"\u001b[39m, unit=\u001b[33m\"\u001b[39m\u001b[33mvenue\u001b[39m\u001b[33m\"\u001b[39m):\n\u001b[32m     67\u001b[39m     tqdm.write(\u001b[33mf\u001b[39m\u001b[33m\"\u001b[39m\u001b[33mProcessing venue: \u001b[39m\u001b[38;5;132;01m{\u001b[39;00mvenue\u001b[38;5;132;01m}\u001b[39;00m\u001b[33m\"\u001b[39m)\n\u001b[32m---> \u001b[39m\u001b[32m69\u001b[39m     output_zip_path = \u001b[38;5;28;43mlist\u001b[39;49m\u001b[43m(\u001b[49m\u001b[43mglob\u001b[49m\u001b[43m.\u001b[49m\u001b[43mglob\u001b[49m\u001b[43m(\u001b[49m\u001b[33;43mf\u001b[39;49m\u001b[33;43m\"\u001b[39;49m\u001b[33;43mtest_output/\u001b[39;49m\u001b[38;5;132;43;01m{\u001b[39;49;00m\u001b[43mvenue\u001b[49m\u001b[38;5;132;43;01m}\u001b[39;49;00m\u001b[33;43m/*.zip\u001b[39;49m\u001b[33;43m\"\u001b[39;49m\u001b[43m)\u001b[49m\u001b[43m)\u001b[49m\u001b[43m[\u001b[49m\u001b[32;43m0\u001b[39;49m\u001b[43m]\u001b[49m\n\u001b[32m     70\u001b[39m     \u001b[38;5;28;01mif\u001b[39;00m \u001b[38;5;28mlen\u001b[39m(\u001b[38;5;28mlist\u001b[39m(glob.glob(\u001b[33mf\u001b[39m\u001b[33m\"\u001b[39m\u001b[33mtest_output/\u001b[39m\u001b[38;5;132;01m{\u001b[39;00mvenue\u001b[38;5;132;01m}\u001b[39;00m\u001b[33m/*.zip\u001b[39m\u001b[33m\"\u001b[39m))) == \u001b[32m0\u001b[39m:\n\u001b[32m     71\u001b[39m         output_zip_path = \u001b[33mf\u001b[39m\u001b[33m\"\u001b[39m\u001b[33mtest_output/\u001b[39m\u001b[38;5;132;01m{\u001b[39;00mos.path.basename(venue)\u001b[38;5;132;01m}\u001b[39;00m\u001b[33m\"\u001b[39m\n",
      "\u001b[31mIndexError\u001b[39m: list index out of range"
     ]
    }
   ],
   "source": [
    "# Setup\n",
    "import os\n",
    "import openai\n",
    "from dotenv import load_dotenv\n",
    "from openai import OpenAI\n",
    "from google import genai\n",
    "\n",
    "\n",
    "class Response:\n",
    "    def __init__(self, ai: Literal[\"openai\", \"google\"]):\n",
    "        self.ai = ai\n",
    "        if ai == \"openai\":\n",
    "            self.client = OpenAI(api_key=os.getenv(\"OPENAI_API_KEY\"))\n",
    "            self.response = self._response_openai\n",
    "        if ai == \"google\":\n",
    "            self.client = genai.Client(api_key=os.getenv(\"GEMINI_API_KEY\"))\n",
    "            self.response = self._response_google\n",
    "\n",
    "    def _response_openai(\n",
    "        self, model, system_prompt, user_prompt, response_format, temperature\n",
    "    ):\n",
    "        completion = self.client.beta.chat.completions.parse(\n",
    "            model=model,\n",
    "            messages=[\n",
    "                {\"role\": \"system\", \"content\": system_prompt},\n",
    "                {\n",
    "                    \"role\": \"user\",\n",
    "                    \"content\": user_prompt,\n",
    "                },\n",
    "            ],\n",
    "            response_format=response_format,\n",
    "            temperature=temperature,\n",
    "        )\n",
    "        return completion.choices[0].message.parsed\n",
    "\n",
    "    def _response_google(\n",
    "        self, model, system_prompt, user_prompt, response_format, temperature\n",
    "    ):\n",
    "        response = self.client.models.generate_content(\n",
    "            model=model,\n",
    "            contents=f\"{system_prompt}\\n{user_prompt}\",\n",
    "            config={\n",
    "                \"response_mime_type\": \"application/json\",\n",
    "                \"response_schema\": response_format,\n",
    "            },\n",
    "        )\n",
    "        return response.parsed\n",
    "\n",
    "\n",
    "load_dotenv(override=True)\n",
    "api_key = os.getenv(\"OPENAI_API_KEY\")\n",
    "client = OpenAI(api_key=api_key)\n",
    "\n",
    "# List of venues to process\n",
    "venues = os.listdir(\"test_pdf\")\n",
    "\n",
    "venue_data = None\n",
    "\n",
    "# openAI\n",
    "# response = Response(ai=\"openai\")\n",
    "# gemini\n",
    "response = Response(ai=\"google\")\n",
    "\n",
    "\n",
    "# Process each venue\n",
    "for venue in tqdm(venues, desc=\"Processing venues\", unit=\"venue\"):\n",
    "    tqdm.write(f\"Processing venue: {venue}\")\n",
    "\n",
    "    output_zip_path = list(glob.glob(f\"test_output/{venue}/*.zip\"))[0]\n",
    "    if len(list(glob.glob(f\"test_output/{venue}/*.zip\"))) == 0:\n",
    "        output_zip_path = f\"test_output/{os.path.basename(venue)}\"\n",
    "        print(f\"{datetime.now().strftime('%Y-%m-%d %H:%M:%S')} Run Adobe\")\n",
    "        os.makedirs(os.path.dirname(output_zip_path), exist_ok=True)\n",
    "        pdf_path = f\"test_pdf/{venue}\"\n",
    "        if os.path.exists(pdf_path):\n",
    "            pdf2zip(pdf_path, output_zip_path)\n",
    "        else:\n",
    "            print(f\"Error: PDF file not found at {pdf_path}\")\n",
    "            continue\n",
    "\n",
    "    # Extract output folder path\n",
    "    output_zipextract_folder = f\"test_output/{venue}/\"\n",
    "\n",
    "    # Extract text from Adobe output file\n",
    "    # text_content = extract_text_from_file_adobe(venue, output_zipextract_folder)\n",
    "    text_content = extract_text_from_file_docling(venue, output_zipextract_folder)\n",
    "\n",
    "    if not text_content:\n",
    "        tqdm.write(f\"⚠️ No text content found for venue: {venue}\")\n",
    "        continue\n",
    "\n",
    "    raw = []\n",
    "    venue_dict = {\"name\": venue}\n",
    "\n",
    "    for model_class in models:\n",
    "        try:\n",
    "            system_prompt = create_system_prompt(model_class)\n",
    "            if response.ai == \"openai\":\n",
    "                if model_class == WeddingVenuePricingSummary:\n",
    "                    ai_model = \"o3-mini\"\n",
    "                    temperature = openai.NOT_GIVEN\n",
    "                else:\n",
    "                    ai_model = \"gpt-4o-mini\"\n",
    "                    temperature = 0\n",
    "                obj = response.response(\n",
    "                    model=ai_model,\n",
    "                    system_prompt=system_prompt,\n",
    "                    user_prompt=f\"Extract venue information from this text about '{venue}':\\n\\n{text_content}\",\n",
    "                    response_format=model_class,\n",
    "                    temperature=temperature,\n",
    "                )\n",
    "            elif response.ai == \"google\":\n",
    "                temperature = 0\n",
    "                ai_model = \"gemini-2.0-flash-001\"\n",
    "                obj = response.response(\n",
    "                    model=ai_model,\n",
    "                    system_prompt=system_prompt,\n",
    "                    user_prompt=f\"Extract venue information from this text about '{venue}':\\n\\n{text_content}\",\n",
    "                    response_format=model_class,\n",
    "                    temperature=temperature,\n",
    "                )\n",
    "            raw.append(obj)\n",
    "            if hasattr(obj, \"to_string\"):\n",
    "                string_summary = obj.to_string()\n",
    "                venue_dict[f\"{model_class.__name__}_summary\"] = string_summary\n",
    "            else:\n",
    "                venue_dict[f\"{model_class.__name__}_summary\"] = obj.model_dump()\n",
    "\n",
    "            tqdm.write(f\"✓ Processed {model_class.__name__} for: {venue}\")\n",
    "\n",
    "        except Exception as e:\n",
    "            tqdm.write(f\"✗ Error with {model_class.__name__} for {venue}: {e}\")\n",
    "            venue_dict[f\"{model_class.__name__}_summary\"] = None\n",
    "\n",
    "    # Add venue data to the collection\n",
    "    if venue_data is None:\n",
    "        venue_data = WeddingVenue(venue, raw)\n",
    "    else:\n",
    "        try:\n",
    "            venue_data += WeddingVenue(venue, raw)\n",
    "        except Exception as e:\n",
    "            print(f\"✗ Error adding {venue}: {e}\")\n",
    "\n",
    "# Save the processed data\n",
    "now = datetime.now().strftime(\"%Y%m%d%H%M%S\")\n",
    "if venue_data is not None:\n",
    "    venue_data.to_excel(f\"all_info_{now}.xlsx\")\n",
    "else:\n",
    "    print(\"⚠️ No venue data processed.\")"
   ]
  },
  {
   "cell_type": "code",
   "execution_count": null,
   "id": "5da3d538",
   "metadata": {},
   "outputs": [],
   "source": []
  },
  {
   "cell_type": "code",
   "execution_count": 22,
   "id": "6be5166b",
   "metadata": {},
   "outputs": [
    {
     "name": "stdout",
     "output_type": "stream",
     "text": [
      "saving to:  all_info_gemini_20250413160430.xlsx\n"
     ]
    }
   ],
   "source": [
    "# Save the processed data\n",
    "now = datetime.now().strftime(\"%Y%m%d%H%M%S\")\n",
    "if venue_data is not None:\n",
    "    venue_data.to_excel(f\"all_info_gemini_{now}.xlsx\")\n",
    "else:\n",
    "    print(\"⚠️ No venue data processed.\")"
   ]
  },
  {
   "cell_type": "code",
   "execution_count": null,
   "id": "ac8cdeee",
   "metadata": {},
   "outputs": [],
   "source": [
    "venue = WeddingVenue(venue_name, raw)\n",
    "venue.to_excel()"
   ]
  },
  {
   "cell_type": "code",
   "execution_count": 48,
   "id": "c04e4311",
   "metadata": {},
   "outputs": [
    {
     "name": "stdout",
     "output_type": "stream",
     "text": [
      "Thank you for this information. For something like this, it would need to be a full restaurant buyout. \n",
      "With a full restaurant buyout, you will have access to three beautiful, spacious, Nickey Kehoe designed dining rooms: the San Vicente Room, the Green Room, and the Main Room for up to 150 total as a standing, cocktail style reception. The price is $20,000 (Sun) or $26,000 (Fri/Sat) for up to 80 guests and $150 per person thereafter. This price includes private use of the restaurant, a specialty menu (food stations with tray passed hors d'oeuvres are recommended), and beverages (sommelier select wine, specialty cocktails, and select-spirit open bar). All prices are before tax, fees, and gratuity. \n",
      "Please note, because you are dancing, we will need to have you bring in a dance floor to protect the floors, as well as additional insurance for your guests. \n",
      "Attached please find the following: \n",
      "● \n",
      "Private Events Brochure \n",
      "● \n",
      "Pricing \n",
      "● \n",
      "More information on an a.o.c. brentwood buyout \n",
      "● \n",
      "Current Event Dinner Menus * \n",
      "● \n",
      "Current Event Bar Menus * \n",
      "* Due to the seasonality of the restaurant, these options may be altered for your actual event with your final approval. \n",
      "dinner event bar offerings \n",
      "sommelier select wines \n",
      "sparkling \n",
      "white \n",
      "rose \n",
      "red \n",
      "cocktails choose 3 \n",
      "green goddess \n",
      "green tea-infused vodka, cucumber, arugula, jalapeño & absinthe rinse \n",
      "wonder punch \n",
      "gin, lemon, pomegranate & coconut \n",
      "harbinger \n",
      "tequila, lime, orgeat & spiced persimmon *contains nuts \n",
      "kingbird \n",
      "bourbon & housemade sassafras-maple bitters \n",
      "passion al pastor \n",
      "mezcal, lime, passion fruit & achiote \n",
      "“free spirited” \n",
      "ruby blush \n",
      "grapefruit, lemon & house ginger ale \n",
      "bleeding heart \n",
      "pomegranate, orange, cinnamon & soda \n",
      "“mock” goddess \n",
      "green tea, cucumber, arugula & jalapeño \n",
      "a. o.c\n",
      "\n",
      "*anything not on this list will be added to the final bill* *cocktails subject to change with seasonal produce* \n",
      "select spirit open bar \n",
      "**vodka** \n",
      "tito’s \n",
      "chopin grey goose \n",
      "**whiskey** \n",
      "high west double rye michter’s rye rittenhouse \n",
      "breaking & entering \n",
      "**bourbon** \n",
      "evan williams \n",
      "eagle rare angel’s envy michter’s \n",
      "heaven hill 7yr \n",
      "**scotch/irish/japanese** \n",
      "jameson laphroaig 10yr jura seven wood benromach \n",
      "kavalan \n",
      "suntory toki \n",
      "**gin** \n",
      "st. george “terroir” east london batch \n",
      "bombay sapphire tanqueray botanist \n",
      "nolet’s \n",
      "**agave** \n",
      "angelisco blanco casamigos blanco casamigos reposado siete leguas blanco siete leguas reposado angelisco reposado el silencio (mezcal) legendario (mezcal) \n",
      "**rum** \n",
      "el dorado 12yr marti white \n",
      "a.o.c\n",
      "\n",
      "*anything not on this list will be added to the final bill* *cocktails subject to change with seasonal produce* \n",
      "a.o.c. dinner event menu 1 \n",
      "bacon-wrapped dates stuffed with parmesan \n",
      "the farmer’s plate \n",
      "roasted vegetables, muhammara & chickpea purée, burrata & grilled toast \n",
      "three cheese plate with accompaniments & a.o.c. bread \n",
      "*** \n",
      "royal corona beans, weiser cucumbers, tomato, oregano & feta spinach and dandelion, persimmon, avocado & candied pecans \n",
      "*** \n",
      "market fish, celery root, brussels sprouts, sherry & golden raisins \n",
      "farro & black rice, currants & pine nuts* \n",
      "*** \n",
      "roasted chicken “ode to zuni,” panzanella, fennel & green olives \n",
      "cauliflower, curry & red wine vinegar \n",
      "*** \n",
      "a.o.c. dessert platter \n",
      "chocolate torta, butterscotch pot de crème, assorted chocolates & house confections \n",
      "Each of these menus is a complete menu of shared plates. Dishes will be served one or two at a time beginning at the top of the menu and continuing to the bottom. Each line indicates a different item. Requested changes are subject to approval. \n",
      "*a.o.c. is seasonally driven, \n",
      "on market availability* \n",
      "options subject to change based \n",
      "a.o.c. dinner event menu 2 \n",
      "three cheese plate with accompaniments & a.o.c. bread \n",
      "charcuterie board \n",
      "pork rillettes, assorted salumi, chorizo & grilled toast \n",
      "marinated olives & marcona almonds \n",
      "*** \n",
      "apples, pears, chicories, honey & point reyes fennel blue spanish fried chicken, romesco aïoli & chili-cumin butter *** \n",
      "spiced fish tagine: kabocha squash, quinoa, dried cranberries, turmeric & pepita pesto \n",
      "*** \n",
      "hanger steak, sauce béarnaise, arugula & fried shallots \n",
      "soft polenta, wild mushrooms, swiss chard, mascarpone & gremolata *** \n",
      "chocolate torta \n",
      "kadaif rocher, pistachio butter & vanilla whipped cream \n",
      "crème fraiche panna cotta \n",
      "rum caramel, persimmon & pepita tuile \n",
      "Each of these menus is a complete menu of shared plates. Dishes will be served one or two at a time beginning at the top of the menu and continuing to the bottom. Each line indicates a different item. Requested changes are subject to approval. \n",
      "*a.o.c. is seasonally driven, options subject to change based on market availability* \n",
      "a.o.c.\n",
      "\n",
      "a.o.c.\n",
      "\n",
      "a.o.c. brentwood san vicente room, green room, main dining room & restaurant buyout information \n",
      "\n",
      "[Image Description: Rustic indoor venue with a bar and lamps, featuring warm lighting and eclectic decor, ideal for intimate gatherings.]\n",
      "\n",
      "a.o.c. brentwood is the newest restaurant from the James Beard Foundation’s Outstanding Chef, Suzanne Goin, and Outstanding Restauranteur / renowned wine director, Caroline Styne. Following the success of sister restaurant a.o.c. west hollywood, brentwood brings the same shared-plate menus and hand-selected wines to the westside for an unforgettable dining experience. \n",
      "Basic Information \n",
      "Location: 11648 San Vicente Blvd. Los Angeles, CA 90049 \n",
      "Hours of Operation \n",
      "[{\"Monday & Tuesday: \": \"Wednesday - Friday: \", \"Dinner only: 5:00pm \\u2013 10:00pm \": \"Lunch: 11:30am \\u2013 2:30pm Dinner: 5:00pm \\u2013 10:00pm \"}, {\"Monday & Tuesday: \": \"Saturday & Sunday: \", \"Dinner only: 5:00pm \\u2013 10:00pm \": \"Brunch: 10:00am \\u2013 2:30pm Dinner: 5:00pm \\u2013 10:00pm \"}]\n",
      "Accessibility: \n",
      "All dining areas are located on the ground floor of a.o.c. brentwood and are ADA accessible. \n",
      "Parking: \n",
      "Limited, metered street parking is available. a.o.c. brentwood does not have valet. Instead, there is a validated self-park lot just south of the restaurant on Darlington Ave. You may choose to host full validation for your guests’ parking for $19 per car. If you do not host parking, your guests will receive the standard 90-minute validation that a.o.c. brentwood offers to all guests. If you choose to host your guests’ parking, it will be charged post-event through the online portal. \n",
      "Seating: \n",
      "a.o.c. brentwood is provided as a fully furnished dining space with beautiful, handcrafted wooden tables. Depending upon your specific needs and guest count, and particularly for reception layouts, it may be necessary to remove and store furniture for the duration of the event. Any removal and storage of furnishings will be the responsibility of the client and must be done prior to guest arrival. Table linens are not used at a.o.c. \n",
      "Bathroom: \n",
      "There are male and female bathrooms located inside the restaurant. The bathroom would be available to other restaurant guests that are dining, unless buying out the entire restaurant. \n",
      "Tax, Gratuity & Fees: \n",
      "The tax is standard Los Angeles County 9.5% sales tax. The gratuity for the staff ranges between 18%-22%. A 6% charge is added to all checks to cover the cost of full healthcare benefits for our full-time employees; if you would like this charge removed, please let us know. In addition, a 5.5% administration fee will be added to the final bill. \n",
      "Event Agreement: \n",
      "a.o.c. brentwood requires a signed event agreement and a deposit for 50% of your anticipated total within 24 hours to reserve the space and date. After 24 hours, the space will be made available to other inquiries unless other arrangements are made. Please keep in mind that the space and date are not reserved until a completed agreement and deposit are received by a.o.c. Cancellation (or rescheduling) of the event or the specified event date, with less than 14 days’ notice from the event date will result in forfeiture of the deposit. \n",
      "Food & Beverage \n",
      "Food: \n",
      "a.o.c. brentwood’s menus can be enjoyed as a seated meal, or as a more casual buffet. Either way, Suzanne Goin’s farmers’ market-inspired menus are designed to be shared and enjoyed by all of your guests. \n",
      "Lunch & Brunch: \n",
      "Lunch is served Wednesday – Friday. Brunch is served on Saturday and Sunday. All lunch & brunch menu options are a three-course menu with shared starters and desserts, and an individual choice of entrée, unless hosting a buffet. \n",
      "Menu Selection: \n",
      "Because a.o.c. brentwood is a seasonal restaurant with the highest standards for its produce and proteins, menu selection will occur 2-3 weeks prior to your event to ensure the offerings are up to date. This includes our cocktail program as well. For plated meals, a.o.c. offers two dinner menus from which you can choose. You are welcome to make small changes and exchange similar dishes from one menu to the other. All changes are subject to chef approval. \n",
      "Allergies: \n",
      "a.o.c. brentwood is able to accommodate a variety of allergies and food preferences. Please let us know as early as possible, particularly during the menu selection process. a.o.c. is not a kosher kitchen but is able to do kosher style. \n",
      "Cake: \n",
      "You are more than welcome to bring your own cakes, which can be presented and cut at no extra cost. Please tell us in advance and make sure that it is delivered, clearly-labeled with your name and date, in a fully enclosed box with instructions, including whether or not it needs to be refrigerated. Include your selections when returning your menu selection and all other details. \n",
      "Alcohol Consumption: \n",
      "To be in compliance with State of California alcohol licensing restrictions, a.o.c. brentwood uses its discretion when serving wine, beer, and spirits. In order to maintain the safety of guests and employees, shots and the excessive consumption of alcohol are not allowed. \n",
      "Wine: \n",
      "A white, red, sparkling and rosé wine will be selected by the sommelier from a.o.c. brentwood’s ever-evolving list of organically, biodynamically and sustainably produced boutique wines. Different wines or premium wines are available for the difference in cost, per bottle, beyond the included $50 price; wine upgrades must be arranged well in advance of your visit, and are based upon availability. \n",
      "Liquor: \n",
      "a.o.c. brentwood’s event selection of premium artisanal spirits, specialty cocktails and beer, are included in your dining experience. Satellite bars are discouraged therefore all spirits and cocktails will be prepared at a.o.c. brentwood’s bar. Menus that offer only the included spirits, cocktails and beers will be available for your guests. You are welcome to select one or two of a.o.c. brentwood’s specialty cocktails to be tray-passed to your guests upon arrival. Please include your selections when returning your menu selection and all other details. \n",
      "Other Details \n",
      "Layouts and Seating Arrangements: \n",
      "Sample arrangements are available upon request. Maximum room capacities for dining areas outside of the San Vicente Dining Room are achievable only with the removal and storage of a.o.c. brentwood’s furniture. The cost and responsibility for furniture removal and storage lies with the event host. \n",
      "Pre-Event Deliveries: \n",
      "All pre-event deliveries must be coordinated with the events manager. For daytime events, items can be delivered on the same day, no more than half an hour before the restaurant opens for business. For evening events, items can be delivered on the same day after 3:00 pm. Please make sure that all deliveries are clearly labeled with your name and date. All items supplied by guests must be removed at the conclusion of your event. \n",
      "Decorations: \n",
      "You are welcome to decorate with items that do not leave a lasting mark on the space. All items provided by clients must be removed at the conclusion of the event. Glitter, sparkles, confetti, helium- and mylar balloons and “silly string” are not allowed at a.o.c. brentwood. \n",
      "Florals/Candles: \n",
      "Small, simple candles are provided on the tables for evening events. You may provide your own florals and/or candles, either through one of a.o.c. brentwood’s recommend vendors (list available upon request) or your own. Due to a.o.c. brentwood’s service of family-style, shared-plates, smaller and fewer floral arrangements are suggested (bud vases are highly recommended). All candles provided by guests shall be secured in a nonflammable solid holding device and protected by an enclosure, with the flames no closer than two inches from the top opening. The flame shall not be within twelve inches of foliage or other combustible material. \n",
      "Printed Menus: \n",
      "Printed menus will be provided for your guests for a seated meal, although not for a buffet arrangement. All menus will be printed in-house. If you would like to personalize the menus with a logo, title or date, please include that information when you return your menu selection. Menus of included beverages will be available for your guests, as well. \n",
      "Audio/Visual \n",
      "With the exception of music playing throughout the restaurant, a.o.c. does not have or provide audio/video equipment such as microphones, projectors, screens, or monitors, although we are happy to offer references to companies who can provide these products and services. \n",
      "Additional Options: \n",
      "Copies of the a.o.c. cookbook are available for gifts to your guests at $35 per book. \n",
      "Event End Time: \n",
      "Daytime events must conclude by 3:00 pm. Licensing allows a.o.c. to remain open only one additional hour after the kitchen closes. Evening events that run beyond this time are subject to a penalty equal to twenty-five percent of the total cost of the event. \n",
      "a.o.c. brentwood event price sheet dinner \n",
      "San Vicente Room \n",
      "Capacity: 30 seated, 30 standing \n",
      "Features: private entrance, privacy doors \n",
      "Sunday - Wednesday: $2,500 for the first 20 guests; $150 per person thereafter Thursday - Saturday: $3,500 for the first 20 guests; $150 per person thereafter \n",
      "Main Room \n",
      "semi private \n",
      "Capacity: 60 seated, 80 standing \n",
      "Features: booth & table seating, walk-up bar \n",
      "[{\"Sunday - Wednesday: \": \"Thursday - Saturday: \", \"$6,500 for the first 50 guests; $150 per person thereafter \": \"$8,500 for the first 50 guests; $150 per person thereafter \"}]\n",
      "San Vicente Room & Green Room \n",
      "Capacity: 70 seated, 90 standing \n",
      "Features: private entrance, multi-room setup \n",
      "[{\"Sunday - Wednesday: \": \"Thursday - Saturday: \", \"$7,000 for the first 50 guests; $150 per person thereafter \": \"$10,000 for the first 50 guests; $150 per person thereafter \"}]\n",
      "Full Restaurant Buyout \n",
      "for full-day pricing, please reach out to the restaurant \n",
      "Capacity: 120 seated, 150 standing \n",
      "Features: walk-up bar, multi-room set up, indoor-outdoor (weather permitting) \n",
      "[{\"Sunday - Wednesday: \": \"Thursday - Saturday: \", \"$20,000 for first 80 guests; $150 per person thereafter \": \"$26,000 for first 80 guests; $150 per person thereafter \"}]\n",
      "All prices include private use of the space(s), a menu of family-style shared plates OR buffet, and beverages (sommelier select wines, specialty cocktails, and select-spirit open bar). \n",
      "All prices are exclusive of tax, fees, and gratuity. \n",
      "*these capacities possible with removal and storage of a.o.c.’s furniture \n",
      "a.o.c. brentwood event price sheet lunch & brunch \n",
      "lunch is available Wednesday through Friday brunch is available Saturday & Sunday \n",
      "All daytime events are kindly asked to conclude by 3:00pm so that we may prepare the restaurant for dinner service. \n",
      "San Vicente Room \n",
      "Capacity: 30 seated, 30 standing \n",
      "Features: private entrance, privacy doors \n",
      "Wednesday - Sunday: $2,000 for the first 20 guests; $100 per person thereafter \n",
      "Main Room \n",
      "semi private \n",
      "Capacity: 60 seated, 80 standing \n",
      "Features: booth & table seating, walk-up bar \n",
      "Wednesday - Sunday: $4,500 for the first 50 guests; $100 per person thereafter \n",
      "San Vicente Room & Green Room \n",
      "Capacity: 70 seated, 90 standing \n",
      "Features: private entrance, multi-room setup \n",
      "Wednesday - Sunday: $4,000 for the first 50 guests; $100 per person thereafter \n",
      "Full Restaurant Buyout \n",
      "for full-day pricing, please reach out to the restaurant \n",
      "Capacity: 120 seated, 150 standing Features: walk-up bar, multi-room set up, indoor-outdoor (weather permitting) \n",
      "Wednesday - Friday: $8,000 for first 80 guests; $100 per person thereafter Saturday & Sunday: $12,000 for first 80 guests; $100 per person thereafter \n",
      "All prices include private use of the space(s), a three-course menu featuring shared starters and desserts & an individual choice of entrée OR buffet, and beverages (sommelier select wines, specialty cocktails, and select-spirit open bar). \n",
      "All prices are exclusive of tax, fees, and gratuity. \n",
      "*these capacities possible with removal and storage of a.o.c.’s furniture \n",
      "a.o.c.\n",
      "\n",
      "[Image Description: Outdoor dining area with elegant umbrellas and seating, suitable for intimate weddings or gatherings.]\n",
      "\n",
      "private dining & events \n",
      "a.o.c. brentwood \n",
      "11648 san vicente blvd. los angeles, ca \n",
      "310.806.6464 \n",
      "a \n",
      "sister to a.o.c. \n",
      "west hollywood, \n",
      "brentwood offers a modern and elegant space for family celebrations or \n",
      "corporate functions \n",
      "\n",
      "[Image Description: Elegant bar setting with a variety of spirits on display, warm lighting, and a sophisticated ambiance.]\n",
      "\n",
      "\n",
      "[Image Description: Variety of elegant dishes and drinks, suggesting a sophisticated dining experience suitable for a wedding reception.]\n",
      "\n",
      "\n",
      "[Image Description: Elegant indoor dining area with large windows and patterned seating, suitable for a casual wedding reception.]\n",
      "\n",
      "the main room \n",
      "the main room's sprawling bar, high ceilings and luxurious booths give each guest a sophisticated yet welcoming environment. \n",
      "\n",
      "[Image Description: Elegant indoor venue with modern decor, featuring a wooden communal table, soft lighting, and contemporary furnishings.]\n",
      "\n",
      "set apart from the other rooms on the south side of the restaurant, the main room can accommodate up to 60 seated guests or be transformed for a reception with cocktails and rich grazing table for 75 guests. \n",
      "\n",
      "[Image Description: Cozy, intimate venue with warm lighting, vintage decor, and rustic elements ideal for a classic wedding theme.]\n",
      "\n",
      "the green room \n",
      "warm and inviting with elegant natural tones, the green room welcomes everyone. an event in this space automatically includes the san vicente room providing additional space for mingling or for more guests. \n",
      "the combined green & san vicente rooms can accommodate a seated meal for 75 guests or a cocktail reception for 90. \n",
      "Green Room\n",
      "\n",
      "[Image Description: Elegant indoor venue with natural light, wooden flooring, stylish chairs, and patterned wallpaper suitable for intimate weddings.]\n",
      "\n",
      "a full restaurant buyout is possible with the addition of the main room for events of up to 150 guests. \n",
      "\n",
      "[Image Description: Cozy, intimate dining setup with elegant lighting and stylish decor.]\n",
      "\n",
      "for more information \n",
      "please contact us brentwoodevents@aocwinebar.com \n",
      "310.806.6464 \n"
     ]
    }
   ],
   "source": [
    "print(text_content)"
   ]
  },
  {
   "cell_type": "code",
   "execution_count": 20,
   "id": "02bb6b13",
   "metadata": {},
   "outputs": [
    {
     "data": {
      "text/plain": [
       "WeddingVenueOther(outside_wedding_coordinator='True', outside_photographer='True', package_approach='1: This venue offers fixed packages, with a few extras or options', reception_or_ceremony='3: Space for both reception and the ceremony', what_time_does_the_party_need_to_stop='X: Not enough information', top_choices='The venue offers a stylish and elegant space with various room options, including a full restaurant buyout for larger events. The shared-plate menus and curated wine selection provide a unique dining experience.', guest_capacity='150')"
      ]
     },
     "execution_count": 20,
     "metadata": {},
     "output_type": "execute_result"
    }
   ],
   "source": [
    "obj"
   ]
  },
  {
   "cell_type": "code",
   "execution_count": null,
   "id": "d504e171",
   "metadata": {},
   "outputs": [],
   "source": []
  }
 ],
 "metadata": {
  "kernelspec": {
   "display_name": ".venv",
   "language": "python",
   "name": "python3"
  },
  "language_info": {
   "codemirror_mode": {
    "name": "ipython",
    "version": 3
   },
   "file_extension": ".py",
   "mimetype": "text/x-python",
   "name": "python",
   "nbconvert_exporter": "python",
   "pygments_lexer": "ipython3",
   "version": "3.11.6"
  }
 },
 "nbformat": 4,
 "nbformat_minor": 5
}
