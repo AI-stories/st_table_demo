{
 "cells": [
  {
   "cell_type": "code",
   "execution_count": 10,
   "metadata": {},
   "outputs": [
    {
     "name": "stdout",
     "output_type": "stream",
     "text": [
      "Skipping existing file: venue_md/a.o.c. Brentwood.md\n",
      "Skipping existing file: venue_md/Aliso Viejo Country Club.md\n",
      "Skipping existing file: venue_md/Agua Hedionda Nature Center.md\n",
      "Skipping existing file: venue_md/Aliso Viejo Wedgewood.md\n",
      "Skipping existing file: venue_md/Alcazar Palm Springs.md\n",
      "Skipping existing file: venue_md/Almansor Court.md\n",
      "Skipping existing file: venue_md/Ace Hotel Palm Springs.md\n",
      "Skipping existing file: venue_md/94th Aero Squadron Restaurant_.md\n",
      "All files already exist in the bucket. Nothing to upload.\n"
     ]
    },
    {
     "data": {
      "text/plain": [
       "[]"
      ]
     },
     "execution_count": 10,
     "metadata": {},
     "output_type": "execute_result"
    }
   ],
   "source": [
    "from wedding_venues import upload_directory, download_files\n",
    "\n",
    "upload_directory(\"test_md\", \"venue_md\")\n"
   ]
  },
  {
   "cell_type": "code",
   "execution_count": 11,
   "metadata": {},
   "outputs": [
    {
     "name": "stderr",
     "output_type": "stream",
     "text": [
      "0.00s - Debugger warning: It seems that frozen modules are being used, which may\n",
      "0.00s - make the debugger miss breakpoints. Please pass -Xfrozen_modules=off\n",
      "0.00s - to python to disable frozen modules.\n",
      "0.00s - Note: Debugging will proceed. Set PYDEVD_DISABLE_FILE_VALIDATION=1 to disable this validation.\n",
      "0.00s - Debugger warning: It seems that frozen modules are being used, which may\n",
      "0.00s - make the debugger miss breakpoints. Please pass -Xfrozen_modules=off\n",
      "0.00s - to python to disable frozen modules.\n",
      "0.00s - Note: Debugging will proceed. Set PYDEVD_DISABLE_FILE_VALIDATION=1 to disable this validation.\n"
     ]
    },
    {
     "data": {
      "text/plain": [
       "[None, None]"
      ]
     },
     "execution_count": 11,
     "metadata": {},
     "output_type": "execute_result"
    }
   ],
   "source": [
    "download_files(\n",
    "    [\"venue_md/94th Aero Squadron Restaurant_.md\", \"venue_md/Aliso Viejo Wedgewood.md\"],\n",
    "    [\"tmp/94th Aero Squadron Restaurant_.md\", \"tmp/Aliso Viejo Wedgewood.md\"],\n",
    ")\n"
   ]
  },
  {
   "cell_type": "code",
   "execution_count": 19,
   "metadata": {},
   "outputs": [
    {
     "data": {
      "text/plain": [
       "[-2, -4, -6, -3, 0]"
      ]
     },
     "execution_count": 19,
     "metadata": {},
     "output_type": "execute_result"
    }
   ],
   "source": [
    "class Solution:\n",
    "    def canCompleteCircuit(self, gas: list[int], cost: list[int]) -> int:\n",
    "        tank = [0] * len(gas)\n",
    "        for i in range(len(gas)):\n",
    "            tank[i] = tank[i - 1] + gas[i] - cost[i]\n",
    "\n",
    "        return tank\n",
    "\n",
    "\n",
    "sol = Solution()\n",
    "sol.canCompleteCircuit([1, 2, 3, 4, 5], [3, 4, 5, 1, 2])"
   ]
  },
  {
   "cell_type": "code",
   "execution_count": 21,
   "metadata": {},
   "outputs": [],
   "source": [
    "import pandas as pd\n",
    "\n",
    "df = pd.read_csv(\"final_demo_venues_data.csv\")"
   ]
  },
  {
   "cell_type": "code",
   "execution_count": null,
   "metadata": {},
   "outputs": [],
   "source": [
    "cols = [\"model\"] + [col for col in df.columns if col != \"model\"]\n",
    "df = df.reindex(columns=cols)"
   ]
  },
  {
   "cell_type": "code",
   "execution_count": 28,
   "metadata": {},
   "outputs": [],
   "source": [
    "df.columns = [col.strip() for col in df.columns]"
   ]
  },
  {
   "cell_type": "code",
   "execution_count": 30,
   "metadata": {},
   "outputs": [],
   "source": [
    "df.to_csv(\"final_demo_venues_data.csv\", index=False)"
   ]
  },
  {
   "cell_type": "code",
   "execution_count": null,
   "metadata": {},
   "outputs": [],
   "source": []
  }
 ],
 "metadata": {
  "kernelspec": {
   "display_name": ".venv",
   "language": "python",
   "name": "python3"
  },
  "language_info": {
   "codemirror_mode": {
    "name": "ipython",
    "version": 3
   },
   "file_extension": ".py",
   "mimetype": "text/x-python",
   "name": "python",
   "nbconvert_exporter": "python",
   "pygments_lexer": "ipython3",
   "version": "3.11.11"
  }
 },
 "nbformat": 4,
 "nbformat_minor": 2
}
